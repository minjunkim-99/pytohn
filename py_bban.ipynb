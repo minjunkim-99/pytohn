{
  "nbformat": 4,
  "nbformat_minor": 0,
  "metadata": {
    "colab": {
      "provenance": [],
      "collapsed_sections": [
        "taE1OCOVh7CH",
        "t7OSk_i2iipv",
        "JKEq49XPmt6Q",
        "NktopjRxoVon",
        "yqNw0zoQv-3X",
        "u4fRKAmfyseF",
        "SCcEDZ2fAagd",
        "x0cMmEBpEa90",
        "rLEh4gOGkqc0",
        "w0cD0kkJokKc"
      ],
      "authorship_tag": "ABX9TyP6GCrYEMh8Uk7CZatauFwy",
      "include_colab_link": true
    },
    "kernelspec": {
      "name": "python3",
      "display_name": "Python 3"
    },
    "language_info": {
      "name": "python"
    }
  },
  "cells": [
    {
      "cell_type": "markdown",
      "metadata": {
        "id": "view-in-github",
        "colab_type": "text"
      },
      "source": [
        "<a href=\"https://colab.research.google.com/github/minjunkim-99/pytohn/blob/main/py_bban.ipynb\" target=\"_parent\"><img src=\"https://colab.research.google.com/assets/colab-badge.svg\" alt=\"Open In Colab\"/></a>"
      ]
    },
    {
      "cell_type": "markdown",
      "source": [
        "#**CH1 파이썬 문법**"
      ],
      "metadata": {
        "id": "taE1OCOVh7CH"
      }
    },
    {
      "cell_type": "markdown",
      "source": [
        "## 자료형  \n",
        "#### 숫자형  \n",
        "* 정수 : 123, -20, 0  \n",
        "* 실수 : 123.45, -423.24, 6.08e9  \n",
        "* 8진수 : 0o456, 0o123  \n",
        "* 16진수 : 0xFF, 0x0D, 0x0A"
      ],
      "metadata": {
        "id": "t7OSk_i2iipv"
      }
    },
    {
      "cell_type": "markdown",
      "source": [
        "#### 문자열  \n",
        "1.큰 따옴표 : \"Hello World! it'\\s\"  \n",
        "2.작은 따옴표 : '안녕하세요'  \n",
        "3.큰 따옴표 3 : \"\"\"Hello!\"\"\"  \n",
        "4.작은 따옴표 4 : ''''대충 문장이 길면 작은 따옴표 4개 쓴다는 뜻''''  \n"
      ],
      "metadata": {
        "id": "JKEq49XPmt6Q"
      }
    },
    {
      "cell_type": "markdown",
      "source": [
        "#### 변수\n",
        "* 문자 또는 밑줄로 시작 (alpha, beta, _kim)  \n",
        "* 대소문자로 구분한다.(sum, Sum, SUM)\n",
        "* 영문자, 숫자, 밑줄(a-z, 0-9,_)  \n",
        "* 파이썬 키워드는 사용 불가"
      ],
      "metadata": {
        "id": "NktopjRxoVon"
      }
    },
    {
      "cell_type": "code",
      "source": [
        "myName=\"minjun Kim\" #카멜 표기법 약칭 낙타표기법\n",
        "my_Name=\"김민준\" #스네이크 표기법\n",
        "MyName=\"kim\" #파스칼 표기법\n",
        "_my_Name=\"korea\"\n",
        "MYNAME=\"failed\"\n",
        "my2name=\"12345\"\n",
        "#틀린 예시 (왠지 시험에 나올거같음)\n",
        "#2myname='9876'\n",
        "#my-name=\"6974\"\n",
        "#my name='00000'\n",
        "myStr='123' # 작은 따옴표는 글자\n",
        "myNum=123 # <--경우는 숫자\n",
        "print(myStr,myNum)\n",
        "print(type(myStr))\n",
        "print(type(myNum))"
      ],
      "metadata": {
        "colab": {
          "base_uri": "https://localhost:8080/"
        },
        "id": "2UEyTtvgtieX",
        "outputId": "9e37ccd9-8753-4738-8093-e3d146706c51"
      },
      "execution_count": 1,
      "outputs": [
        {
          "output_type": "stream",
          "name": "stdout",
          "text": [
            "123 123\n",
            "<class 'str'>\n",
            "<class 'int'>\n"
          ]
        }
      ]
    },
    {
      "cell_type": "markdown",
      "source": [
        "####여러개 변수 할당"
      ],
      "metadata": {
        "id": "yqNw0zoQv-3X"
      }
    },
    {
      "cell_type": "code",
      "source": [
        "x,y,z=\"바나나\",\"알러지\",\"원숭이\"\n",
        "print(x)\n",
        "print(y)\n",
        "print(z)"
      ],
      "metadata": {
        "colab": {
          "base_uri": "https://localhost:8080/"
        },
        "id": "njE5ls4JwD8e",
        "outputId": "fd3340e8-f81c-4eeb-fe0e-1821b23de303"
      },
      "execution_count": 2,
      "outputs": [
        {
          "output_type": "stream",
          "name": "stdout",
          "text": [
            "바나나\n",
            "알러지\n",
            "원숭이\n"
          ]
        }
      ]
    },
    {
      "cell_type": "code",
      "source": [
        "a=b=c=\"오렌지\"\n",
        "print(a)\n",
        "print(b)\n",
        "print(c)"
      ],
      "metadata": {
        "colab": {
          "base_uri": "https://localhost:8080/"
        },
        "id": "KEph5KwgwbUW",
        "outputId": "63a4b79f-42dc-4061-baa8-34773282eac4"
      },
      "execution_count": 3,
      "outputs": [
        {
          "output_type": "stream",
          "name": "stdout",
          "text": [
            "오렌지\n",
            "오렌지\n",
            "오렌지\n"
          ]
        }
      ]
    },
    {
      "cell_type": "code",
      "source": [
        "fruit=[\"포도\",\"사과\",\"오렌지\"]\n",
        "x,y,z=fruit\n",
        "print(x)\n",
        "print(y)\n",
        "print(z)"
      ],
      "metadata": {
        "colab": {
          "base_uri": "https://localhost:8080/"
        },
        "id": "mNU6ctVgw6tP",
        "outputId": "c1c0d6b6-2699-4231-ca67-cab6a3971b79"
      },
      "execution_count": 4,
      "outputs": [
        {
          "output_type": "stream",
          "name": "stdout",
          "text": [
            "포도\n",
            "사과\n",
            "오렌지\n"
          ]
        }
      ]
    },
    {
      "cell_type": "code",
      "source": [
        "x=\"Life\"\n",
        "y=\"is\"\n",
        "z=\"Beautiful\"\n",
        "print(x,y,z)\n",
        "print(x+y+z)"
      ],
      "metadata": {
        "colab": {
          "base_uri": "https://localhost:8080/"
        },
        "id": "efCALdjlx4NQ",
        "outputId": "0f86191d-0222-420d-f741-0c1055cdf746"
      },
      "execution_count": 5,
      "outputs": [
        {
          "output_type": "stream",
          "name": "stdout",
          "text": [
            "Life is Beautiful\n",
            "LifeisBeautiful\n"
          ]
        }
      ]
    },
    {
      "cell_type": "code",
      "source": [
        "a=1\n",
        "b=2\n",
        "c=3\n",
        "print(a,b,c,)\n",
        "print(a+b+c)"
      ],
      "metadata": {
        "colab": {
          "base_uri": "https://localhost:8080/"
        },
        "id": "1F9wlma7yOhm",
        "outputId": "df53419c-c506-4d30-ed97-dc5d6159c879"
      },
      "execution_count": 6,
      "outputs": [
        {
          "output_type": "stream",
          "name": "stdout",
          "text": [
            "1 2 3\n",
            "6\n"
          ]
        }
      ]
    },
    {
      "cell_type": "markdown",
      "source": [
        "#### 데이터 유형  \n",
        "+ 텍스트  \n",
        "+ 숫자  \n",
        "+ 불(Bool)  "
      ],
      "metadata": {
        "id": "u4fRKAmfyseF"
      }
    },
    {
      "cell_type": "code",
      "source": [
        "a=10\n",
        "b=3\n",
        "c=a/b #나눗셈\n",
        "d=a//b #몫\n",
        "e=a%b #나머지\n",
        "f=a*b #곱셈\n",
        "g=a**b #제곱(시험에 나옴)\n",
        "print(c,d,e,f,g)"
      ],
      "metadata": {
        "colab": {
          "base_uri": "https://localhost:8080/"
        },
        "id": "cl7UxqkAktEf",
        "outputId": "6bd052e6-dc88-484b-8a1c-29e6acfdc4db"
      },
      "execution_count": 7,
      "outputs": [
        {
          "output_type": "stream",
          "name": "stdout",
          "text": [
            "3.3333333333333335 3 1 30 1000\n"
          ]
        }
      ]
    },
    {
      "cell_type": "markdown",
      "source": [
        "####input() 함수를 이용한 계산기"
      ],
      "metadata": {
        "id": "SCcEDZ2fAagd"
      }
    },
    {
      "cell_type": "code",
      "source": [
        "a = int(input(\"첫번째 숫자를 입력해주세요: \"))\n",
        "b = int(input(\"두번째 숫자를 입력해주세요: \"))\n",
        "result = a + b\n",
        "print(a, '+', b, '=', result)\n",
        "result = a - b\n",
        "print(a, '-', b, '=', result)\n",
        "result = a ** b\n",
        "print(a, '**', b, '=', result)\n",
        "result = a // b\n",
        "print(a, '//', b, '=', result)"
      ],
      "metadata": {
        "id": "Jgstt4WJAjy1"
      },
      "execution_count": null,
      "outputs": []
    },
    {
      "cell_type": "code",
      "source": [
        "num1 = input(\"숫자입력:\")\n",
        "num2 = input(\"숫자입력:\")\n",
        "result = num1 + num2\n",
        "print(type(num1))\n",
        "print(num1,'+', num2,'=',result)"
      ],
      "metadata": {
        "id": "i2qezcK3DcLu"
      },
      "execution_count": null,
      "outputs": []
    },
    {
      "cell_type": "markdown",
      "source": [
        "#### 전화번호, 이름 무게를 입력받아 출력:\n",
        "입력한 내용은 이름 \"김민준\",  \n",
        "전화번호 \"010-4237-1537\" 입니다.  \n",
        "무게는 입력한 g x 10원 = 산출 금액 출력"
      ],
      "metadata": {
        "id": "x0cMmEBpEa90"
      }
    },
    {
      "cell_type": "code",
      "source": [
        "a=input(\"전화번호를 입력해주세요 : \")\n",
        "b=input(\"이름을 입력해주세요 : \")\n",
        "c=int(input(\"무게를 입력해주세요 : \"))\n",
        "d= \"전화번호 : \"\n",
        "e= \"이름 : \"\n",
        "f= \"산출 금액: \"\n",
        "g= \"원\"\n",
        "result = c*10\n",
        "print(d, a)\n",
        "print(e, b)\n",
        "print(f, result, g)"
      ],
      "metadata": {
        "id": "o2mLLnDvEz41"
      },
      "execution_count": null,
      "outputs": []
    },
    {
      "cell_type": "markdown",
      "source": [
        "#2. print() 서식 출력"
      ],
      "metadata": {
        "id": "Tgfe2m30ibFk"
      }
    },
    {
      "cell_type": "markdown",
      "source": [
        "예시 %7.1에서 7은 .을 포함해서 총 7개의 자릿수를 가지며 1은 소수점의 자릿수이다.  \n",
        "%07.1일때 123.45는 00123.4가 된다.\n",
        "(시험 출제)"
      ],
      "metadata": {
        "id": "dS2WI55DhpSU"
      }
    },
    {
      "cell_type": "code",
      "source": [
        "print(\"%d\" % 123)  \n",
        "print(\"%5d\" % 123)\n",
        "print(\"%05d\" % 123)\n",
        "print(\"%f\" % 123.45)\n",
        "print(\"%7.1f\" % 123.45)\n",
        "print(\"%7.3f\" % 123.45)\n",
        "\n",
        "print(\"%s\" % \"대한민국\")\n",
        "print(\"%8s\" % \"대한민국\")"
      ],
      "metadata": {
        "id": "058aEgUyiphU"
      },
      "execution_count": null,
      "outputs": []
    },
    {
      "cell_type": "markdown",
      "source": [
        "### Format 함수 : 순서 지정 가능"
      ],
      "metadata": {
        "id": "rLEh4gOGkqc0"
      }
    },
    {
      "cell_type": "code",
      "source": [
        "print(\"{0:d} {1:5d} {2:05d}\".format(123,456,789))"
      ],
      "metadata": {
        "id": "88ZnmoeKj_uM"
      },
      "execution_count": null,
      "outputs": []
    },
    {
      "cell_type": "code",
      "source": [
        "print(\"{2:d} {1:5d} {0:05d}\".format(123,456,789))"
      ],
      "metadata": {
        "id": "JmFAusN9kwXr"
      },
      "execution_count": null,
      "outputs": []
    },
    {
      "cell_type": "markdown",
      "source": [
        "서식 출력"
      ],
      "metadata": {
        "id": "Srk0PEEflBHr"
      }
    },
    {
      "cell_type": "code",
      "source": [
        "print(\"\\n줄바꿈\\n연습입니다.\")"
      ],
      "metadata": {
        "id": "vlUXkI3-lDwD"
      },
      "execution_count": null,
      "outputs": []
    },
    {
      "cell_type": "code",
      "source": [
        "print(\"\\t탭키\\t연습입니다.\")"
      ],
      "metadata": {
        "id": "_SrNOZgblSLL"
      },
      "execution_count": null,
      "outputs": []
    },
    {
      "cell_type": "code",
      "source": [
        "print(\"글자가 \\\"강조\\\"되는 효과1\")\n",
        "print(\"글자가 \\'강조\\'되는 효과2\")\n",
        "print(\"역슬래시 3개출력 \\\\\\\\\\\\\")\n",
        "print(r\"\\n \\t \\\" \\\\ \\'@를 그대로 출력\") #그대로 출력됨"
      ],
      "metadata": {
        "id": "jZ-VukUyls60"
      },
      "execution_count": null,
      "outputs": []
    },
    {
      "cell_type": "markdown",
      "source": [
        "#### 관계 연산자"
      ],
      "metadata": {
        "id": "w0cD0kkJokKc"
      }
    },
    {
      "cell_type": "code",
      "source": [
        "a,b = 10,20\n",
        "print(a==b, a!=b, a>b, a<b, a>=b, a<=b)"
      ],
      "metadata": {
        "id": "EZx5SrvKonaj"
      },
      "execution_count": null,
      "outputs": []
    },
    {
      "cell_type": "markdown",
      "source": [
        "논리 연산자"
      ],
      "metadata": {
        "id": "VESTraDvpFHU"
      }
    },
    {
      "cell_type": "code",
      "source": [
        "a=99\n",
        "print((a>100) and (a<200))\n",
        "print((a>100) or (a<200))\n",
        "print(not(a==100))"
      ],
      "metadata": {
        "id": "FC1Ga9XfpIFr"
      },
      "execution_count": null,
      "outputs": []
    },
    {
      "cell_type": "code",
      "source": [
        "if(123):\n",
        "  print(\"진실이면 보입니다.\")\n",
        "if(0):\n",
        "  print(\"거짓이면 안 보입니다.\")"
      ],
      "metadata": {
        "id": "loHZjhmPpj5z"
      },
      "execution_count": null,
      "outputs": []
    },
    {
      "cell_type": "markdown",
      "source": [
        "### 퀴즈2 숫자 입력을 받아 동전으로 바꿔주는 프로그램( 500원, 100원, 50원, 10원)"
      ],
      "metadata": {
        "id": "TeOKTMJ9vtqL"
      }
    },
    {
      "cell_type": "code",
      "source": [
        "bill, c500, c100, c50, c10 = 0,0,0,0,0\n",
        "bill=int(input(\"값을 입력해주세요. : \"))\n",
        "c500 = bill // 500\n",
        "bill %= 500 #bill %= 500\n",
        "c100 = bill // 100 \n",
        "bill %= 100\n",
        "c50 = bill // 50\n",
        "bill %=  50\n",
        "c10 = bill // 10\n",
        "bill %= 10\n",
        "print(\"500원 %d 개\" % c500)\n",
        "print(\"100원 %d 개\" % c100)\n",
        "print(\"50원 %d 개\" % c50)\n",
        "print(\"10원 %d 개\" % c10)\n",
        "print(\"잔돈 %d원\" % bill)"
      ],
      "metadata": {
        "id": "RKWYMhcKv-9L"
      },
      "execution_count": null,
      "outputs": []
    },
    {
      "cell_type": "markdown",
      "source": [
        "## 조건문"
      ],
      "metadata": {
        "id": "DdcRonJq0XU0"
      }
    },
    {
      "cell_type": "code",
      "source": [
        "a=90\n",
        "if(a<100):\n",
        "  print(\"100보다 작음\")\n",
        "  print(\"거짓이면 이문장은 보이지 않음\")\n",
        "print(\"프로그램 끝\")"
      ],
      "metadata": {
        "id": "mJ35pXFj1JmK"
      },
      "execution_count": null,
      "outputs": []
    },
    {
      "cell_type": "code",
      "source": [
        "a=101\n",
        "if(a<100):\n",
        "  print(\"100보다 작음\")\n",
        "else :\n",
        "  print(\"100보다 크다\")\n",
        "print(\"프로그램 끝\")"
      ],
      "metadata": {
        "id": "pkIRbCki1u9l"
      },
      "execution_count": null,
      "outputs": []
    },
    {
      "cell_type": "code",
      "source": [
        "a=int(input(\"정수를 입력하세요:\"))\n",
        "if(a%2==0):\n",
        "  print(\"짝수\")\n",
        "else:\n",
        "  print(\"홀수\")"
      ],
      "metadata": {
        "id": "kS9k0eqt2I9T"
      },
      "execution_count": null,
      "outputs": []
    },
    {
      "cell_type": "code",
      "source": [
        "a=111\n",
        "if(a>50):\n",
        "  if(a<100):\n",
        "    print(\"50<a<100\")\n",
        "  else:\n",
        "    print(\"a>100\")\n",
        "else:\n",
        "  print(\"a<50\")"
      ],
      "metadata": {
        "id": "lQxZzsc428yL"
      },
      "execution_count": null,
      "outputs": []
    },
    {
      "cell_type": "code",
      "source": [
        "fruit=['사과','배','감','포도']\n",
        "fruit.append('딸기')\n",
        "if '딸기' in fruit :\n",
        "  print(\"딸기가 있음\")\n",
        "print(fruit)"
      ],
      "metadata": {
        "id": "wShfcM-A7W7b"
      },
      "execution_count": null,
      "outputs": []
    },
    {
      "cell_type": "code",
      "source": [
        "import random\n",
        "number=[]\n",
        "for num in range(0,7):\n",
        "  number.append(random.randrange(1,49))\n",
        "print(\"생성된 리스트\", number)"
      ],
      "metadata": {
        "id": "MtTBxiDG89lL"
      },
      "execution_count": null,
      "outputs": []
    },
    {
      "cell_type": "markdown",
      "source": [
        "###반복문"
      ],
      "metadata": {
        "id": "Miu-ESI8-VjC"
      }
    },
    {
      "cell_type": "code",
      "source": [
        "for i in range(0,3,1): #시작값 , 끝값+1, 증가값 (시험 출제 확률 있음)\n",
        "  print(\"%d 안녕하세요\" % i)  #반복 내용\n",
        "  #print(i)\n",
        "print(\"행복하세요\")    #"
      ],
      "metadata": {
        "id": "2hm4j-aE-Y4j"
      },
      "execution_count": null,
      "outputs": []
    },
    {
      "cell_type": "code",
      "source": [
        "for i in range(1,9,1):\n",
        "  print(\"%d\" % i, end=\" \")\n",
        "print(\"\\n\")\n",
        "for i in range(1,9,1):\n",
        "  print(\"%d\" % i, end=\"\")"
      ],
      "metadata": {
        "id": "JdgotSM6_tU7"
      },
      "execution_count": null,
      "outputs": []
    },
    {
      "cell_type": "code",
      "source": [
        "sum=0\n",
        "for i in range(1,11,1):\n",
        "  sum = sum + i\n",
        "print(\"1~10까지 합계 : %d\" % sum)"
      ],
      "metadata": {
        "id": "lcEpVFzFAtYy"
      },
      "execution_count": null,
      "outputs": []
    },
    {
      "cell_type": "markdown",
      "source": [
        "#### 퀴즈3 : 숫자 입력을 받아 1부터 입력된 숫자까지의 합을 for문을 사용하여 출력하시오."
      ],
      "metadata": {
        "id": "0DrhKlCSBv9L"
      }
    },
    {
      "cell_type": "code",
      "source": [
        "sum, a = 0, 0\n",
        "a=int(input(\"정수를 입력하세요:\"))\n",
        "for i in range(1,a+1,1):\n",
        "  sum = sum + i\n",
        "print(\"1~n 까지의 합계 : %d\" % sum)"
      ],
      "metadata": {
        "id": "IH_CtFw5CDHq"
      },
      "execution_count": null,
      "outputs": []
    },
    {
      "cell_type": "markdown",
      "source": [
        "#### 중첩 for문"
      ],
      "metadata": {
        "id": "Ie28Gc7aDhNq"
      }
    },
    {
      "cell_type": "code",
      "source": [
        "a,b=0,0\n",
        "for a in range(1,10,1):\n",
        "  for b in range(2,6,1):\n",
        "    print(\"%d x %d = %2d \\t \" % (b,a,a*b), end='')\n",
        "  print(\"\")\n",
        "print(\"\")\n",
        "c,d=0,0\n",
        "for c in range(1,10,1):\n",
        "  for d in range(6,10,1):\n",
        "    print(\"%d x %d = %2d \\t \" % (d,c,c*d), end='')\n",
        "  print(\"\")"
      ],
      "metadata": {
        "id": "orfbT5dQDkwb"
      },
      "execution_count": null,
      "outputs": []
    }
  ]
}