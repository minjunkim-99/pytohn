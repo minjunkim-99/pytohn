{
  "nbformat": 4,
  "nbformat_minor": 0,
  "metadata": {
    "colab": {
      "provenance": [],
      "collapsed_sections": [
        "taE1OCOVh7CH",
        "t7OSk_i2iipv",
        "JKEq49XPmt6Q",
        "NktopjRxoVon",
        "yqNw0zoQv-3X",
        "u4fRKAmfyseF",
        "SCcEDZ2fAagd",
        "x0cMmEBpEa90",
        "Tgfe2m30ibFk",
        "rLEh4gOGkqc0",
        "w0cD0kkJokKc",
        "TeOKTMJ9vtqL",
        "DdcRonJq0XU0",
        "Miu-ESI8-VjC",
        "0DrhKlCSBv9L",
        "Ie28Gc7aDhNq",
        "N7TYan4soheS",
        "BvvDCqIq1-aJ",
        "itzlthuS_vzC",
        "eHORGBHMCvL5",
        "7HlfZqvFHkfQ"
      ],
      "authorship_tag": "ABX9TyM3KOwJrnCcxBvE7mKG+xsj",
      "include_colab_link": true
    },
    "kernelspec": {
      "name": "python3",
      "display_name": "Python 3"
    },
    "language_info": {
      "name": "python"
    }
  },
  "cells": [
    {
      "cell_type": "markdown",
      "metadata": {
        "id": "view-in-github",
        "colab_type": "text"
      },
      "source": [
        "<a href=\"https://colab.research.google.com/github/minjunkim-99/pytohn/blob/main/py_bban.ipynb\" target=\"_parent\"><img src=\"https://colab.research.google.com/assets/colab-badge.svg\" alt=\"Open In Colab\"/></a>"
      ]
    },
    {
      "cell_type": "markdown",
      "source": [
        "#**CH1 파이썬 문법**"
      ],
      "metadata": {
        "id": "taE1OCOVh7CH"
      }
    },
    {
      "cell_type": "markdown",
      "source": [
        "## 자료형  \n",
        "#### 숫자형  \n",
        "* 정수 : 123, -20, 0  \n",
        "* 실수 : 123.45, -423.24, 6.08e9  \n",
        "* 8진수 : 0o456, 0o123  \n",
        "* 16진수 : 0xFF, 0x0D, 0x0A"
      ],
      "metadata": {
        "id": "t7OSk_i2iipv"
      }
    },
    {
      "cell_type": "markdown",
      "source": [
        "#### 문자열  \n",
        "1.큰 따옴표 : \"Hello World! it'\\s\"  \n",
        "2.작은 따옴표 : '안녕하세요'  \n",
        "3.큰 따옴표 3 : \"\"\"Hello!\"\"\"  \n",
        "4.작은 따옴표 4 : ''''대충 문장이 길면 작은 따옴표 4개 쓴다는 뜻''''  \n"
      ],
      "metadata": {
        "id": "JKEq49XPmt6Q"
      }
    },
    {
      "cell_type": "markdown",
      "source": [
        "#### 변수\n",
        "* 문자 또는 밑줄로 시작 (alpha, beta, _kim)  \n",
        "* 대소문자로 구분한다.(sum, Sum, SUM)\n",
        "* 영문자, 숫자, 밑줄(a-z, 0-9,_)  \n",
        "* 파이썬 키워드는 사용 불가"
      ],
      "metadata": {
        "id": "NktopjRxoVon"
      }
    },
    {
      "cell_type": "code",
      "source": [
        "myName=\"minjun Kim\" #카멜 표기법 약칭 낙타표기법\n",
        "my_Name=\"김민준\" #스네이크 표기법\n",
        "MyName=\"kim\" #파스칼 표기법\n",
        "_my_Name=\"korea\"\n",
        "MYNAME=\"failed\"\n",
        "my2name=\"12345\"\n",
        "#틀린 예시 (왠지 시험에 나올거같음)\n",
        "#2myname='9876'\n",
        "#my-name=\"6974\"\n",
        "#my name='00000'\n",
        "myStr='123' # 작은 따옴표는 글자\n",
        "myNum=123 # <--경우는 숫자\n",
        "print(myStr,myNum)\n",
        "print(type(myStr))\n",
        "print(type(myNum))"
      ],
      "metadata": {
        "colab": {
          "base_uri": "https://localhost:8080/"
        },
        "id": "2UEyTtvgtieX",
        "outputId": "5a81d9dd-00d3-434d-f23c-0106a3c2286f"
      },
      "execution_count": null,
      "outputs": [
        {
          "output_type": "stream",
          "name": "stdout",
          "text": [
            "123 123\n",
            "<class 'str'>\n",
            "<class 'int'>\n"
          ]
        }
      ]
    },
    {
      "cell_type": "markdown",
      "source": [
        "####여러개 변수 할당"
      ],
      "metadata": {
        "id": "yqNw0zoQv-3X"
      }
    },
    {
      "cell_type": "code",
      "source": [
        "x,y,z=\"바나나\",\"알러지\",\"원숭이\"\n",
        "print(x)\n",
        "print(y)\n",
        "print(z)"
      ],
      "metadata": {
        "colab": {
          "base_uri": "https://localhost:8080/"
        },
        "id": "njE5ls4JwD8e",
        "outputId": "f324f27c-d463-4bdb-908a-41825047d450"
      },
      "execution_count": null,
      "outputs": [
        {
          "output_type": "stream",
          "name": "stdout",
          "text": [
            "바나나\n",
            "알러지\n",
            "원숭이\n"
          ]
        }
      ]
    },
    {
      "cell_type": "code",
      "source": [
        "a=b=c=\"오렌지\"\n",
        "print(a)\n",
        "print(b)\n",
        "print(c)"
      ],
      "metadata": {
        "colab": {
          "base_uri": "https://localhost:8080/"
        },
        "id": "KEph5KwgwbUW",
        "outputId": "0ff1ee93-8200-421d-ee7b-8c57a04c9791"
      },
      "execution_count": null,
      "outputs": [
        {
          "output_type": "stream",
          "name": "stdout",
          "text": [
            "오렌지\n",
            "오렌지\n",
            "오렌지\n"
          ]
        }
      ]
    },
    {
      "cell_type": "code",
      "source": [
        "fruit=[\"포도\",\"사과\",\"오렌지\"]\n",
        "x,y,z=fruit\n",
        "print(x)\n",
        "print(y)\n",
        "print(z)"
      ],
      "metadata": {
        "colab": {
          "base_uri": "https://localhost:8080/"
        },
        "id": "mNU6ctVgw6tP",
        "outputId": "44abef8a-d05c-4419-b2ca-de532f39e2f7"
      },
      "execution_count": null,
      "outputs": [
        {
          "output_type": "stream",
          "name": "stdout",
          "text": [
            "포도\n",
            "사과\n",
            "오렌지\n"
          ]
        }
      ]
    },
    {
      "cell_type": "code",
      "source": [
        "x=\"Life\"\n",
        "y=\"is\"\n",
        "z=\"Beautiful\"\n",
        "print(x,y,z)\n",
        "print(x+y+z)"
      ],
      "metadata": {
        "colab": {
          "base_uri": "https://localhost:8080/"
        },
        "id": "efCALdjlx4NQ",
        "outputId": "91cdea35-3d49-4957-9077-a790c0f5ef23"
      },
      "execution_count": null,
      "outputs": [
        {
          "output_type": "stream",
          "name": "stdout",
          "text": [
            "Life is Beautiful\n",
            "LifeisBeautiful\n"
          ]
        }
      ]
    },
    {
      "cell_type": "code",
      "source": [
        "a=1\n",
        "b=2\n",
        "c=3\n",
        "print(a,b,c,)\n",
        "print(a+b+c)"
      ],
      "metadata": {
        "colab": {
          "base_uri": "https://localhost:8080/"
        },
        "id": "1F9wlma7yOhm",
        "outputId": "31295dda-ba66-4778-df10-a6e90bb6c2ce"
      },
      "execution_count": null,
      "outputs": [
        {
          "output_type": "stream",
          "name": "stdout",
          "text": [
            "1 2 3\n",
            "6\n"
          ]
        }
      ]
    },
    {
      "cell_type": "markdown",
      "source": [
        "#### 데이터 유형  \n",
        "+ 텍스트  \n",
        "+ 숫자  \n",
        "+ 불(Bool)  "
      ],
      "metadata": {
        "id": "u4fRKAmfyseF"
      }
    },
    {
      "cell_type": "code",
      "source": [
        "a=10\n",
        "b=3\n",
        "c=a/b #나눗셈\n",
        "d=a//b #몫\n",
        "e=a%b #나머지\n",
        "f=a*b #곱셈\n",
        "g=a**b #제곱(시험에 나옴)\n",
        "print(c,d,e,f,g)"
      ],
      "metadata": {
        "id": "cl7UxqkAktEf",
        "colab": {
          "base_uri": "https://localhost:8080/"
        },
        "outputId": "86618030-9cc1-4a03-bba1-ce213c870dd4"
      },
      "execution_count": null,
      "outputs": [
        {
          "output_type": "stream",
          "name": "stdout",
          "text": [
            "3.3333333333333335 3 1 30 1000\n"
          ]
        }
      ]
    },
    {
      "cell_type": "markdown",
      "source": [
        "####input() 함수를 이용한 계산기"
      ],
      "metadata": {
        "id": "SCcEDZ2fAagd"
      }
    },
    {
      "cell_type": "code",
      "source": [
        "a = int(input(\"첫번째 숫자를 입력해주세요: \"))\n",
        "b = int(input(\"두번째 숫자를 입력해주세요: \"))\n",
        "result = a + b\n",
        "print(a, '+', b, '=', result)\n",
        "result = a - b\n",
        "print(a, '-', b, '=', result)\n",
        "result = a ** b\n",
        "print(a, '**', b, '=', result)\n",
        "result = a // b\n",
        "print(a, '//', b, '=', result)"
      ],
      "metadata": {
        "id": "Jgstt4WJAjy1"
      },
      "execution_count": null,
      "outputs": []
    },
    {
      "cell_type": "code",
      "source": [
        "num1 = input(\"숫자입력:\")\n",
        "num2 = input(\"숫자입력:\")\n",
        "result = num1 + num2\n",
        "print(type(num1))\n",
        "print(num1,'+', num2,'=',result)"
      ],
      "metadata": {
        "id": "i2qezcK3DcLu"
      },
      "execution_count": null,
      "outputs": []
    },
    {
      "cell_type": "markdown",
      "source": [
        "#### 전화번호, 이름 무게를 입력받아 출력:\n",
        "입력한 내용은 이름 \"김민준\",  \n",
        "전화번호 \"010-4237-1537\" 입니다.  \n",
        "무게는 입력한 g x 10원 = 산출 금액 출력"
      ],
      "metadata": {
        "id": "x0cMmEBpEa90"
      }
    },
    {
      "cell_type": "code",
      "source": [
        "a=input(\"전화번호를 입력해주세요 : \")\n",
        "b=input(\"이름을 입력해주세요 : \")\n",
        "c=int(input(\"무게를 입력해주세요 : \"))\n",
        "d= \"전화번호 : \"\n",
        "e= \"이름 : \"\n",
        "f= \"산출 금액: \"\n",
        "g= \"원\"\n",
        "result = c*10\n",
        "print(d, a)\n",
        "print(e, b)\n",
        "print(f, result, g)"
      ],
      "metadata": {
        "id": "o2mLLnDvEz41"
      },
      "execution_count": null,
      "outputs": []
    },
    {
      "cell_type": "markdown",
      "source": [
        "#CH2. print() 서식 출력"
      ],
      "metadata": {
        "id": "Tgfe2m30ibFk"
      }
    },
    {
      "cell_type": "markdown",
      "source": [
        "예시 %7.1에서 7은 .을 포함해서 총 7개의 자릿수를 가지며 1은 소수점의 자릿수이다.  \n",
        "%07.1일때 123.45는 00123.4가 된다.\n",
        "(시험 출제)"
      ],
      "metadata": {
        "id": "dS2WI55DhpSU"
      }
    },
    {
      "cell_type": "code",
      "source": [
        "print(\"%d\" % 123)  \n",
        "print(\"%5d\" % 123)\n",
        "print(\"%05d\" % 123)\n",
        "print(\"%f\" % 123.45)\n",
        "print(\"%7.1f\" % 123.45)\n",
        "print(\"%7.3f\" % 123.45)\n",
        "\n",
        "print(\"%s\" % \"대한민국\")\n",
        "print(\"%8s\" % \"대한민국\")"
      ],
      "metadata": {
        "id": "058aEgUyiphU"
      },
      "execution_count": null,
      "outputs": []
    },
    {
      "cell_type": "markdown",
      "source": [
        "### Format 함수 : 순서 지정 가능"
      ],
      "metadata": {
        "id": "rLEh4gOGkqc0"
      }
    },
    {
      "cell_type": "code",
      "source": [
        "print(\"{0:d} {1:5d} {2:05d}\".format(123,456,789))"
      ],
      "metadata": {
        "id": "88ZnmoeKj_uM"
      },
      "execution_count": null,
      "outputs": []
    },
    {
      "cell_type": "code",
      "source": [
        "print(\"{2:d} {1:5d} {0:05d}\".format(123,456,789))"
      ],
      "metadata": {
        "id": "JmFAusN9kwXr"
      },
      "execution_count": null,
      "outputs": []
    },
    {
      "cell_type": "markdown",
      "source": [
        "서식 출력"
      ],
      "metadata": {
        "id": "Srk0PEEflBHr"
      }
    },
    {
      "cell_type": "code",
      "source": [
        "print(\"\\n줄바꿈\\n연습입니다.\")"
      ],
      "metadata": {
        "id": "vlUXkI3-lDwD"
      },
      "execution_count": null,
      "outputs": []
    },
    {
      "cell_type": "code",
      "source": [
        "print(\"\\t탭키\\t연습입니다.\")"
      ],
      "metadata": {
        "id": "_SrNOZgblSLL"
      },
      "execution_count": null,
      "outputs": []
    },
    {
      "cell_type": "code",
      "source": [
        "print(\"글자가 \\\"강조\\\"되는 효과1\")\n",
        "print(\"글자가 \\'강조\\'되는 효과2\")\n",
        "print(\"역슬래시 3개출력 \\\\\\\\\\\\\")\n",
        "print(r\"\\n \\t \\\" \\\\ \\'@를 그대로 출력\") #그대로 출력됨"
      ],
      "metadata": {
        "id": "jZ-VukUyls60"
      },
      "execution_count": null,
      "outputs": []
    },
    {
      "cell_type": "markdown",
      "source": [
        "#### 관계 연산자"
      ],
      "metadata": {
        "id": "w0cD0kkJokKc"
      }
    },
    {
      "cell_type": "code",
      "source": [
        "a,b = 10,20\n",
        "print(a==b, a!=b, a>b, a<b, a>=b, a<=b)"
      ],
      "metadata": {
        "id": "EZx5SrvKonaj"
      },
      "execution_count": null,
      "outputs": []
    },
    {
      "cell_type": "markdown",
      "source": [
        "논리 연산자"
      ],
      "metadata": {
        "id": "VESTraDvpFHU"
      }
    },
    {
      "cell_type": "code",
      "source": [
        "a=99\n",
        "print((a>100) and (a<200))\n",
        "print((a>100) or (a<200))\n",
        "print(not(a==100))"
      ],
      "metadata": {
        "id": "FC1Ga9XfpIFr"
      },
      "execution_count": null,
      "outputs": []
    },
    {
      "cell_type": "code",
      "source": [
        "if(123):\n",
        "  print(\"진실이면 보입니다.\")\n",
        "if(0):\n",
        "  print(\"거짓이면 안 보입니다.\")"
      ],
      "metadata": {
        "id": "loHZjhmPpj5z"
      },
      "execution_count": null,
      "outputs": []
    },
    {
      "cell_type": "markdown",
      "source": [
        "### 퀴즈2 숫자 입력을 받아 동전으로 바꿔주는 프로그램( 500원, 100원, 50원, 10원)"
      ],
      "metadata": {
        "id": "TeOKTMJ9vtqL"
      }
    },
    {
      "cell_type": "code",
      "source": [
        "bill, c500, c100, c50, c10 = 0,0,0,0,0\n",
        "bill=int(input(\"값을 입력해주세요. : \"))\n",
        "c500 = bill // 500\n",
        "bill %= 500 #bill %= 500\n",
        "c100 = bill // 100 \n",
        "bill %= 100\n",
        "c50 = bill // 50\n",
        "bill %=  50\n",
        "c10 = bill // 10\n",
        "bill %= 10\n",
        "print(\"500원 %d 개\" % c500)\n",
        "print(\"100원 %d 개\" % c100)\n",
        "print(\"50원 %d 개\" % c50)\n",
        "print(\"10원 %d 개\" % c10)\n",
        "print(\"잔돈 %d원\" % bill)"
      ],
      "metadata": {
        "id": "RKWYMhcKv-9L"
      },
      "execution_count": null,
      "outputs": []
    },
    {
      "cell_type": "markdown",
      "source": [
        "#### Week 2"
      ],
      "metadata": {
        "id": "fNvr4V0HoZVj"
      }
    },
    {
      "cell_type": "markdown",
      "source": [
        "## 조건문"
      ],
      "metadata": {
        "id": "DdcRonJq0XU0"
      }
    },
    {
      "cell_type": "code",
      "source": [
        "a=90\n",
        "if(a<100):\n",
        "  print(\"100보다 작음\")\n",
        "  print(\"거짓이면 이문장은 보이지 않음\")\n",
        "print(\"프로그램 끝\")"
      ],
      "metadata": {
        "id": "mJ35pXFj1JmK"
      },
      "execution_count": null,
      "outputs": []
    },
    {
      "cell_type": "code",
      "source": [
        "a=101\n",
        "if(a<100):\n",
        "  print(\"100보다 작음\")\n",
        "else :\n",
        "  print(\"100보다 크다\")\n",
        "print(\"프로그램 끝\")"
      ],
      "metadata": {
        "id": "pkIRbCki1u9l"
      },
      "execution_count": null,
      "outputs": []
    },
    {
      "cell_type": "code",
      "source": [
        "a=int(input(\"정수를 입력하세요:\"))\n",
        "if(a%2==0):\n",
        "  print(\"짝수\")\n",
        "else:\n",
        "  print(\"홀수\")"
      ],
      "metadata": {
        "id": "kS9k0eqt2I9T"
      },
      "execution_count": null,
      "outputs": []
    },
    {
      "cell_type": "code",
      "source": [
        "a=111\n",
        "if(a>50):\n",
        "  if(a<100):\n",
        "    print(\"50<a<100\")\n",
        "  else:\n",
        "    print(\"a>100\")\n",
        "else:\n",
        "  print(\"a<50\")"
      ],
      "metadata": {
        "id": "lQxZzsc428yL"
      },
      "execution_count": null,
      "outputs": []
    },
    {
      "cell_type": "code",
      "source": [
        "fruit=['사과','배','감','포도']\n",
        "fruit.append('딸기')\n",
        "if '딸기' in fruit :\n",
        "  print(\"딸기가 있음\")\n",
        "print(fruit)"
      ],
      "metadata": {
        "id": "wShfcM-A7W7b"
      },
      "execution_count": null,
      "outputs": []
    },
    {
      "cell_type": "code",
      "source": [
        "import random\n",
        "number=[]\n",
        "for num in range(0,7):\n",
        "  number.append(random.randrange(1,49))\n",
        "print(\"생성된 리스트\", number)"
      ],
      "metadata": {
        "id": "MtTBxiDG89lL"
      },
      "execution_count": null,
      "outputs": []
    },
    {
      "cell_type": "markdown",
      "source": [
        "###반복문"
      ],
      "metadata": {
        "id": "Miu-ESI8-VjC"
      }
    },
    {
      "cell_type": "code",
      "source": [
        "for i in range(0,3,1): #시작값 , 끝값+1, 증가값 (시험 출제 확률 있음)\n",
        "  print(\"%d 안녕하세요\" % i)  #반복 내용\n",
        "  #print(i)\n",
        "print(\"행복하세요\")    #"
      ],
      "metadata": {
        "id": "2hm4j-aE-Y4j",
        "colab": {
          "base_uri": "https://localhost:8080/"
        },
        "outputId": "97dd8139-a5dc-47a3-c570-b060933856ac"
      },
      "execution_count": null,
      "outputs": [
        {
          "output_type": "stream",
          "name": "stdout",
          "text": [
            "0 안녕하세요\n",
            "1 안녕하세요\n",
            "2 안녕하세요\n",
            "행복하세요\n"
          ]
        }
      ]
    },
    {
      "cell_type": "code",
      "source": [
        "for i in range(1,9,1):\n",
        "  print(\"%d\" % i, end=\" \")\n",
        "print(\"\\n\")\n",
        "for i in range(1,9,1):\n",
        "  print(\"%d\" % i, end=\"\")"
      ],
      "metadata": {
        "id": "JdgotSM6_tU7"
      },
      "execution_count": null,
      "outputs": []
    },
    {
      "cell_type": "code",
      "source": [
        "sum=0\n",
        "for i in range(1,11,1):\n",
        "  sum = sum + i\n",
        "print(\"1~10까지 합계 : %d\" % sum)"
      ],
      "metadata": {
        "id": "lcEpVFzFAtYy"
      },
      "execution_count": null,
      "outputs": []
    },
    {
      "cell_type": "markdown",
      "source": [
        "#### 퀴즈3 : 숫자 입력을 받아 1부터 입력된 숫자까지의 합을 for문을 사용하여 출력하시오."
      ],
      "metadata": {
        "id": "0DrhKlCSBv9L"
      }
    },
    {
      "cell_type": "code",
      "source": [
        "sum, a = 0, 0\n",
        "a=int(input(\"정수를 입력하세요:\"))\n",
        "for i in range(1,a+1,1):\n",
        "  sum = sum + i\n",
        "print(\"1~n 까지의 합계 : %d\" % sum)"
      ],
      "metadata": {
        "id": "IH_CtFw5CDHq"
      },
      "execution_count": null,
      "outputs": []
    },
    {
      "cell_type": "markdown",
      "source": [
        "#### 중첩 for문"
      ],
      "metadata": {
        "id": "Ie28Gc7aDhNq"
      }
    },
    {
      "cell_type": "code",
      "source": [
        "a,b=0,0\n",
        "for a in range(1,10,1):\n",
        "  for b in range(1,10,1):\n",
        "    print(\"%d x %d = %2d \\t \" % (b,a,a*b), end='')\n",
        "  print(\"\")\n",
        "print(\"\") \n",
        "c,d=0,0\n",
        "for c in range(1,10,1):\n",
        "  for d in range(6,10,1):\n",
        "    print(\"%d x %d = %2d \\t \" % (d,c,c*d), end='')\n",
        "  print(\"\")"
      ],
      "metadata": {
        "id": "orfbT5dQDkwb",
        "colab": {
          "base_uri": "https://localhost:8080/"
        },
        "outputId": "e81369e2-5957-48a4-f09f-1a5b1732d372"
      },
      "execution_count": null,
      "outputs": [
        {
          "output_type": "stream",
          "name": "stdout",
          "text": [
            "1 x 1 =  1 \t 2 x 1 =  2 \t 3 x 1 =  3 \t 4 x 1 =  4 \t 5 x 1 =  5 \t 6 x 1 =  6 \t 7 x 1 =  7 \t 8 x 1 =  8 \t 9 x 1 =  9 \t \n",
            "1 x 2 =  2 \t 2 x 2 =  4 \t 3 x 2 =  6 \t 4 x 2 =  8 \t 5 x 2 = 10 \t 6 x 2 = 12 \t 7 x 2 = 14 \t 8 x 2 = 16 \t 9 x 2 = 18 \t \n",
            "1 x 3 =  3 \t 2 x 3 =  6 \t 3 x 3 =  9 \t 4 x 3 = 12 \t 5 x 3 = 15 \t 6 x 3 = 18 \t 7 x 3 = 21 \t 8 x 3 = 24 \t 9 x 3 = 27 \t \n",
            "1 x 4 =  4 \t 2 x 4 =  8 \t 3 x 4 = 12 \t 4 x 4 = 16 \t 5 x 4 = 20 \t 6 x 4 = 24 \t 7 x 4 = 28 \t 8 x 4 = 32 \t 9 x 4 = 36 \t \n",
            "1 x 5 =  5 \t 2 x 5 = 10 \t 3 x 5 = 15 \t 4 x 5 = 20 \t 5 x 5 = 25 \t 6 x 5 = 30 \t 7 x 5 = 35 \t 8 x 5 = 40 \t 9 x 5 = 45 \t \n",
            "1 x 6 =  6 \t 2 x 6 = 12 \t 3 x 6 = 18 \t 4 x 6 = 24 \t 5 x 6 = 30 \t 6 x 6 = 36 \t 7 x 6 = 42 \t 8 x 6 = 48 \t 9 x 6 = 54 \t \n",
            "1 x 7 =  7 \t 2 x 7 = 14 \t 3 x 7 = 21 \t 4 x 7 = 28 \t 5 x 7 = 35 \t 6 x 7 = 42 \t 7 x 7 = 49 \t 8 x 7 = 56 \t 9 x 7 = 63 \t \n",
            "1 x 8 =  8 \t 2 x 8 = 16 \t 3 x 8 = 24 \t 4 x 8 = 32 \t 5 x 8 = 40 \t 6 x 8 = 48 \t 7 x 8 = 56 \t 8 x 8 = 64 \t 9 x 8 = 72 \t \n",
            "1 x 9 =  9 \t 2 x 9 = 18 \t 3 x 9 = 27 \t 4 x 9 = 36 \t 5 x 9 = 45 \t 6 x 9 = 54 \t 7 x 9 = 63 \t 8 x 9 = 72 \t 9 x 9 = 81 \t \n",
            "\n",
            "6 x 1 =  6 \t 7 x 1 =  7 \t 8 x 1 =  8 \t 9 x 1 =  9 \t \n",
            "6 x 2 = 12 \t 7 x 2 = 14 \t 8 x 2 = 16 \t 9 x 2 = 18 \t \n",
            "6 x 3 = 18 \t 7 x 3 = 21 \t 8 x 3 = 24 \t 9 x 3 = 27 \t \n",
            "6 x 4 = 24 \t 7 x 4 = 28 \t 8 x 4 = 32 \t 9 x 4 = 36 \t \n",
            "6 x 5 = 30 \t 7 x 5 = 35 \t 8 x 5 = 40 \t 9 x 5 = 45 \t \n",
            "6 x 6 = 36 \t 7 x 6 = 42 \t 8 x 6 = 48 \t 9 x 6 = 54 \t \n",
            "6 x 7 = 42 \t 7 x 7 = 49 \t 8 x 7 = 56 \t 9 x 7 = 63 \t \n",
            "6 x 8 = 48 \t 7 x 8 = 56 \t 8 x 8 = 64 \t 9 x 8 = 72 \t \n",
            "6 x 9 = 54 \t 7 x 9 = 63 \t 8 x 9 = 72 \t 9 x 9 = 81 \t \n"
          ]
        }
      ]
    },
    {
      "cell_type": "markdown",
      "source": [
        "#### Week 3  "
      ],
      "metadata": {
        "id": "-DtUn_raoObC"
      }
    },
    {
      "cell_type": "markdown",
      "source": [
        "#CH3. 자료형  \n",
        "## 1. 인덱스와 슬라이싱"
      ],
      "metadata": {
        "id": "yQaCbzjSqQtK"
      }
    },
    {
      "cell_type": "markdown",
      "source": [
        "## 리스트는 대괄호로 정의  \n",
        "index는 0부터 시작함  \n",
        "1=[1, 2, 3, 4, 5, 6, 7, 8, 9, 10]  \n",
        "print(1[0])  \n",
        "1  \n",
        "시험 출제 예정  \n",
        "print(1[0:4])\n",
        "[1, 2, 3, 4]"
      ],
      "metadata": {
        "id": "N7TYan4soheS"
      }
    },
    {
      "cell_type": "code",
      "source": [
        "L=[0,1,2,3,4,5,6,7,8,9,10]\n",
        "print(L[1])\n",
        "print(L[0:4]) #미만으로 출력된다.\n",
        "print(L[0:9:3]) #9까지의 값을 0부터 +3해서 출력"
      ],
      "metadata": {
        "colab": {
          "base_uri": "https://localhost:8080/"
        },
        "id": "3nzybtJcppJK",
        "outputId": "4cd4c2ad-1326-40eb-8cb0-237716062a38"
      },
      "execution_count": null,
      "outputs": [
        {
          "output_type": "stream",
          "name": "stdout",
          "text": [
            "1\n",
            "[0, 1, 2, 3]\n",
            "[0, 3, 6]\n",
            "11\n"
          ]
        }
      ]
    },
    {
      "cell_type": "code",
      "source": [
        "L=[0,1,2,3,4,5,6,7,8,9,10]\n",
        "print(len(L))\n",
        "print(L[len(L)-1])"
      ],
      "metadata": {
        "colab": {
          "base_uri": "https://localhost:8080/"
        },
        "id": "mrLs-MiKr1Hz",
        "outputId": "54094a27-20c9-4476-bf36-20f7d55eb898"
      },
      "execution_count": null,
      "outputs": [
        {
          "output_type": "stream",
          "name": "stdout",
          "text": [
            "11\n",
            "10\n"
          ]
        }
      ]
    },
    {
      "cell_type": "code",
      "source": [
        "L=[0,1,2,3,4,5,6,7,8,9,10]\n",
        "L[0]=99\n",
        "L[9]='가나다'\n",
        "L[1]=[1,2,3]\n",
        "print(L)\n",
        "print(L[9])"
      ],
      "metadata": {
        "colab": {
          "base_uri": "https://localhost:8080/"
        },
        "id": "MO1qcMUYsGax",
        "outputId": "382c4077-cb8e-4b85-d053-9fee50826b38"
      },
      "execution_count": null,
      "outputs": [
        {
          "output_type": "stream",
          "name": "stdout",
          "text": [
            "[99, [1, 2, 3], 2, 3, 4, 5, 6, 7, 8, '가나다', 10]\n",
            "가나다\n",
            "[1, 2, 3]\n"
          ]
        }
      ]
    },
    {
      "cell_type": "code",
      "source": [
        "a=[1,2,3]\n",
        "b=[4,5,6]\n",
        "c=a+b\n",
        "print(a+b)\n",
        "print(c)\n",
        "print(a*3) #를 3번 출력"
      ],
      "metadata": {
        "colab": {
          "base_uri": "https://localhost:8080/"
        },
        "id": "zU1qS2sKsmCh",
        "outputId": "f2b47333-c0b2-44cf-a1f1-caa46652fde9"
      },
      "execution_count": null,
      "outputs": [
        {
          "output_type": "stream",
          "name": "stdout",
          "text": [
            "[1, 2, 3, 4, 5, 6]\n",
            "[1, 2, 3, 4, 5, 6]\n",
            "[1, 2, 3, 1, 2, 3, 1, 2, 3]\n"
          ]
        }
      ]
    },
    {
      "cell_type": "code",
      "source": [
        "L=[1,2,3,4,5]\n",
        "print(L)\n",
        "L.append(6) #L에 6을 추가하라는 명령어 append로 추가할 시 리스트의 마지막에 추가됨\n",
        "print(L)\n",
        "L.remove(3) # 해당 요소값을 삭제하는 명령어\n",
        "print(L)"
      ],
      "metadata": {
        "colab": {
          "base_uri": "https://localhost:8080/"
        },
        "id": "iIfKlfbQs8Hx",
        "outputId": "4296a58e-da16-434f-ad6b-fe4ee9acbab3"
      },
      "execution_count": null,
      "outputs": [
        {
          "output_type": "stream",
          "name": "stdout",
          "text": [
            "[1, 2, 3, 4, 5]\n",
            "[1, 2, 3, 4, 5, 6]\n",
            "[1, 2, 4, 5, 6]\n"
          ]
        }
      ]
    },
    {
      "cell_type": "code",
      "source": [
        "k=['a','b','c','d']\n",
        "k.remove('d')\n",
        "print(k)"
      ],
      "metadata": {
        "colab": {
          "base_uri": "https://localhost:8080/"
        },
        "id": "LjJ7428httPK",
        "outputId": "2189fac7-232f-466b-b4e8-d00ae0cddfc7"
      },
      "execution_count": null,
      "outputs": [
        {
          "output_type": "stream",
          "name": "stdout",
          "text": [
            "['a', 'b', 'c']\n"
          ]
        }
      ]
    },
    {
      "cell_type": "code",
      "source": [
        "k=\"Guns Germs and Steel!\"\n",
        "print(k[:3])\n",
        "print(k[5:])\n",
        "print(k[-10:-1])"
      ],
      "metadata": {
        "colab": {
          "base_uri": "https://localhost:8080/"
        },
        "id": "GeChYGAxwxVS",
        "outputId": "21906a35-5f12-42b8-cd22-bc2ca4a178ae"
      },
      "execution_count": null,
      "outputs": [
        {
          "output_type": "stream",
          "name": "stdout",
          "text": [
            "Gun\n",
            "Germs and Steel!\n",
            "and Steel\n"
          ]
        }
      ]
    },
    {
      "cell_type": "code",
      "source": [
        "k=\" God is love!\"\n",
        "print(k.upper()) # 대문자\n",
        "print(k.lower()) # 소문자\n",
        "print(k.strip()) # 띄어쓰기 공간 제거"
      ],
      "metadata": {
        "colab": {
          "base_uri": "https://localhost:8080/"
        },
        "id": "dzYAdKTkxyVz",
        "outputId": "7eeab1d0-2e6c-4bfd-e1c7-583af3137d32"
      },
      "execution_count": null,
      "outputs": [
        {
          "output_type": "stream",
          "name": "stdout",
          "text": [
            " GOD IS LOVE!\n",
            " god is love!\n",
            "God is love!\n"
          ]
        }
      ]
    },
    {
      "cell_type": "code",
      "source": [
        "a=\" God, is, love!\"\n",
        "print(a.split(\",\")) # 구분"
      ],
      "metadata": {
        "colab": {
          "base_uri": "https://localhost:8080/"
        },
        "id": "kO8jfmkFyRb5",
        "outputId": "54b9692c-33af-42f0-89ea-1407a9c177af"
      },
      "execution_count": null,
      "outputs": [
        {
          "output_type": "stream",
          "name": "stdout",
          "text": [
            "[' God', ' is', ' love!']\n"
          ]
        }
      ]
    },
    {
      "cell_type": "code",
      "source": [
        "a=[\"apple\",\"banana\",\"cherry\"]\n",
        "a.append(\"orange\")\n",
        "print(a)"
      ],
      "metadata": {
        "colab": {
          "base_uri": "https://localhost:8080/"
        },
        "id": "WqUmwQzizCjy",
        "outputId": "1227b590-4aeb-4699-a28a-b9442f98b7df"
      },
      "execution_count": null,
      "outputs": [
        {
          "output_type": "stream",
          "name": "stdout",
          "text": [
            "['apple', 'banana', 'cherry', 'orange']\n"
          ]
        }
      ]
    },
    {
      "cell_type": "code",
      "source": [
        "a =[\"apple\",\"banana\",\"cherry\"]\n",
        "a.insert(1,\"orange\") #.insert:지정된 곳에 요소값 삽입\n",
        "print(a)"
      ],
      "metadata": {
        "colab": {
          "base_uri": "https://localhost:8080/"
        },
        "id": "qMjd_JEmzV1h",
        "outputId": "5f19cb87-2996-4795-f8fa-33e8ae09226f"
      },
      "execution_count": null,
      "outputs": [
        {
          "output_type": "stream",
          "name": "stdout",
          "text": [
            "['apple', 'orange', 'banana', 'cherry']\n"
          ]
        }
      ]
    },
    {
      "cell_type": "code",
      "source": [
        "a =[\"apple\",\"banana\",\"cherry\"]\n",
        "a.remove(\"banana\") # .remove:지정한 요소값 삭제\n",
        "print(a)"
      ],
      "metadata": {
        "colab": {
          "base_uri": "https://localhost:8080/"
        },
        "id": "M3IXMBiazvQ6",
        "outputId": "04e086e7-795d-47fb-e92d-0639ff930bac"
      },
      "execution_count": null,
      "outputs": [
        {
          "output_type": "stream",
          "name": "stdout",
          "text": [
            "['apple', 'cherry']\n"
          ]
        }
      ]
    },
    {
      "cell_type": "code",
      "source": [
        "a =[\"apple\",\"banana\",\"cherry\"]\n",
        "a.pop() # .pop은 지정없이 적용하면 마지막 요소값이 제거됨\n",
        "print(a)\n",
        "a.pop(1) # 지정한 위치인 banana가 사라짐\n",
        "print(a)"
      ],
      "metadata": {
        "colab": {
          "base_uri": "https://localhost:8080/"
        },
        "id": "ZU9e46E1z_UB",
        "outputId": "907fa17e-23d1-4c66-c7c4-793c9b73746f"
      },
      "execution_count": null,
      "outputs": [
        {
          "output_type": "stream",
          "name": "stdout",
          "text": [
            "['apple', 'banana']\n",
            "['apple']\n"
          ]
        }
      ]
    },
    {
      "cell_type": "code",
      "source": [
        "a =[\"apple\",\"banana\",\"cherry\"]\n",
        "del a[0] #지정 삭제 del a 는 전제 삭제\n",
        "print(a)\n",
        "a.clear() #del a\n",
        "print(a)"
      ],
      "metadata": {
        "colab": {
          "base_uri": "https://localhost:8080/"
        },
        "id": "xgnOh3vN0iHa",
        "outputId": "05383381-bc53-4821-f89c-e4ed0919fa94"
      },
      "execution_count": null,
      "outputs": [
        {
          "output_type": "stream",
          "name": "stdout",
          "text": [
            "['banana', 'cherry']\n",
            "[]\n"
          ]
        }
      ]
    },
    {
      "cell_type": "code",
      "source": [
        "fruit=[\"apple\",\"banana\",\"cherry\"]\n",
        "for x in fruit:\n",
        "  print(x)"
      ],
      "metadata": {
        "colab": {
          "base_uri": "https://localhost:8080/"
        },
        "id": "9esKYsrC1Key",
        "outputId": "27f2e340-3d33-4d91-dfe9-7dcc34efb961"
      },
      "execution_count": null,
      "outputs": [
        {
          "output_type": "stream",
          "name": "stdout",
          "text": [
            "apple\n",
            "banana\n",
            "cherry\n"
          ]
        }
      ]
    },
    {
      "cell_type": "code",
      "source": [
        "fruit=[\"apple\",\"banana\",\"cherry\"]\n",
        "for i in range(len(fruit)):\n",
        "  print(fruit)"
      ],
      "metadata": {
        "colab": {
          "base_uri": "https://localhost:8080/"
        },
        "id": "NQsktkDb1hQ5",
        "outputId": "69101bfd-0caf-444e-b2cc-e25d00bcf4c1"
      },
      "execution_count": null,
      "outputs": [
        {
          "output_type": "stream",
          "name": "stdout",
          "text": [
            "['apple', 'banana', 'cherry']\n",
            "['apple', 'banana', 'cherry']\n",
            "['apple', 'banana', 'cherry']\n"
          ]
        }
      ]
    },
    {
      "cell_type": "markdown",
      "source": [
        "#### SORT"
      ],
      "metadata": {
        "id": "BvvDCqIq1-aJ"
      }
    },
    {
      "cell_type": "code",
      "source": [
        "a=[5,3,6,8,1,9,0]\n",
        "a.sort() # 순서대로 정렬\n",
        "print(a)"
      ],
      "metadata": {
        "colab": {
          "base_uri": "https://localhost:8080/"
        },
        "id": "y7RV8J1S2A4o",
        "outputId": "55876dfb-e3fe-41f1-aebb-ff5957acf74d"
      },
      "execution_count": null,
      "outputs": [
        {
          "output_type": "stream",
          "name": "stdout",
          "text": [
            "[0, 1, 3, 5, 6, 8, 9]\n"
          ]
        }
      ]
    },
    {
      "cell_type": "code",
      "source": [
        "a=[5,3,6,8,1,9,0,2,4,7]\n",
        "a.sort(reverse=True) # 역정렬\n",
        "print(a)"
      ],
      "metadata": {
        "colab": {
          "base_uri": "https://localhost:8080/"
        },
        "id": "MSa35Lse2Q3q",
        "outputId": "cb4eb81f-ffed-4ebb-a035-6d9230a0f0e6"
      },
      "execution_count": null,
      "outputs": [
        {
          "output_type": "stream",
          "name": "stdout",
          "text": [
            "[9, 8, 7, 6, 5, 4, 3, 2, 1, 0]\n"
          ]
        }
      ]
    },
    {
      "cell_type": "code",
      "source": [
        "fruit=[\"apple\",\"banana\",\"Kiwi\",\"cherry\",\"orange\"]\n",
        "fruit.sort() # 대소문자 구분하여 정렬\n",
        "print(fruit)\n",
        "fruit.sort(key=str.lower) # 대소문자 구분 없이 정렬\n",
        "print(fruit)\n",
        "fruit.reverse()\n",
        "print(fruit) #역정렬"
      ],
      "metadata": {
        "colab": {
          "base_uri": "https://localhost:8080/"
        },
        "id": "-kaYzZlr2vBS",
        "outputId": "9094cb81-8fa7-4ac7-e2ef-ef57295d2ea2"
      },
      "execution_count": null,
      "outputs": [
        {
          "output_type": "stream",
          "name": "stdout",
          "text": [
            "['Kiwi', 'apple', 'banana', 'cherry', 'orange']\n",
            "['apple', 'banana', 'cherry', 'Kiwi', 'orange']\n",
            "['orange', 'Kiwi', 'cherry', 'banana', 'apple']\n"
          ]
        }
      ]
    },
    {
      "cell_type": "code",
      "source": [
        "fruit=[\"apple\",\"banana\",\"Kiwi\",\"cherry\",\"orange\"]\n",
        "myList=fruit.copy()\n",
        "print(myList)\n",
        "cpList=list(fruit)\n",
        "print(cpList)"
      ],
      "metadata": {
        "colab": {
          "base_uri": "https://localhost:8080/"
        },
        "id": "91HJI5fm4aUT",
        "outputId": "a7ec2524-72a2-4a14-cfbd-2a30ed1da304"
      },
      "execution_count": null,
      "outputs": [
        {
          "output_type": "stream",
          "name": "stdout",
          "text": [
            "['apple', 'banana', 'Kiwi', 'cherry', 'orange']\n",
            "['apple', 'banana', 'Kiwi', 'cherry', 'orange']\n"
          ]
        }
      ]
    },
    {
      "cell_type": "markdown",
      "source": [
        "## 튜플 자료형 Tuple   \n",
        "리스트와 비슷하지만 값을 변경할 수 없음  \n",
        "(시험 출제 예정)"
      ],
      "metadata": {
        "id": "gxu-5xkp4yCB"
      }
    },
    {
      "cell_type": "code",
      "source": [
        "l=[1,2,3]\n",
        "t=(4,5,6) #튜플은 ()를 사용한다. (시험 출제가능성 높음)\n",
        "l[0]=5\n",
        "print(l)\n",
        "print(t)"
      ],
      "metadata": {
        "colab": {
          "base_uri": "https://localhost:8080/"
        },
        "id": "GmnW2UOj5W6p",
        "outputId": "df49d972-51a4-4ecf-f841-cbfc32843ebd"
      },
      "execution_count": null,
      "outputs": [
        {
          "output_type": "stream",
          "name": "stdout",
          "text": [
            "[5, 2, 3]\n",
            "(4, 5, 6)\n"
          ]
        }
      ]
    },
    {
      "cell_type": "code",
      "source": [
        "f=(\"apple\",\"banana\",\"Kiwi\",\"cherry\",\"orange\")\n",
        "print(len(f))"
      ],
      "metadata": {
        "colab": {
          "base_uri": "https://localhost:8080/"
        },
        "id": "Es5W6IGz6F3b",
        "outputId": "1aa5f900-3667-409f-c3e3-4abc207697a9"
      },
      "execution_count": null,
      "outputs": [
        {
          "output_type": "stream",
          "name": "stdout",
          "text": [
            "5\n"
          ]
        }
      ]
    },
    {
      "cell_type": "code",
      "source": [
        "t=(\"apple\",) # 1가지 함수를 튜플로 인식시키기 위해서는 ,가 있어야 한다.\n",
        "print(t)\n",
        "f=(\"banana\") # ,를 넣지 않았기에 튜플로 인식이 되지 않음\n",
        "print(f)\n",
        "print(type(t))\n",
        "print(type(f))"
      ],
      "metadata": {
        "colab": {
          "base_uri": "https://localhost:8080/"
        },
        "id": "jgSuy9pB6QER",
        "outputId": "3471b5b1-d0c8-4fe0-da91-4076247ed833"
      },
      "execution_count": null,
      "outputs": [
        {
          "output_type": "stream",
          "name": "stdout",
          "text": [
            "('apple',)\n",
            "banana\n",
            "<class 'tuple'>\n",
            "<class 'str'>\n"
          ]
        }
      ]
    },
    {
      "cell_type": "code",
      "source": [
        "f=(\"apple\",\"banana\",\"Kiwi\",\"cherry\",\"orange\")\n",
        "print(f[:4])\n",
        "print(f[2:])"
      ],
      "metadata": {
        "colab": {
          "base_uri": "https://localhost:8080/"
        },
        "id": "GSFW9MNp67eR",
        "outputId": "d21cae49-3df6-4f94-8540-9ccb34c95e69"
      },
      "execution_count": null,
      "outputs": [
        {
          "output_type": "stream",
          "name": "stdout",
          "text": [
            "('apple', 'banana', 'Kiwi', 'cherry')\n",
            "('Kiwi', 'cherry', 'orange')\n"
          ]
        }
      ]
    },
    {
      "cell_type": "code",
      "source": [
        "f=(\"apple\",\"banana\",\"Kiwi\",\"cherry\",\"Orange\")\n",
        "if \"apple\" in f:\n",
        "  print(\"Yes, 'apple' is in\")\n",
        "else:\n",
        "  print(\"No\")"
      ],
      "metadata": {
        "colab": {
          "base_uri": "https://localhost:8080/"
        },
        "id": "tpEWP-k070UC",
        "outputId": "fb0f0e39-a547-47c8-f0a8-208b8af12721"
      },
      "execution_count": null,
      "outputs": [
        {
          "output_type": "stream",
          "name": "stdout",
          "text": [
            "Yes, 'apple' is in\n"
          ]
        }
      ]
    },
    {
      "cell_type": "markdown",
      "source": [
        "####list<->tuple"
      ],
      "metadata": {
        "id": "itzlthuS_vzC"
      }
    },
    {
      "cell_type": "code",
      "source": [
        "firm=['Samsung','LG','SK']\n",
        "tdata=tuple(firm)\n",
        "print(firm)\n",
        "print(tdata)"
      ],
      "metadata": {
        "colab": {
          "base_uri": "https://localhost:8080/"
        },
        "id": "GYPJuuQ5_18h",
        "outputId": "92ba0241-7277-4e80-94c3-15df01e7b01a"
      },
      "execution_count": null,
      "outputs": [
        {
          "output_type": "stream",
          "name": "stdout",
          "text": [
            "['Samsung', 'LG', 'SK']\n",
            "('Samsung', 'LG', 'SK')\n"
          ]
        }
      ]
    },
    {
      "cell_type": "code",
      "source": [
        "t=(\"apple\",\"banana\",\"Kiwi\",\"cherry\")\n",
        "y=list(t) \n",
        "y.append(\"Orange\")\n",
        "t=tuple(y) # 튜플을 list로 바꾼다음 Orange를 넣고 다시 튜플로 변환함(시험출제 가능성 높음)\n",
        "print(t)"
      ],
      "metadata": {
        "colab": {
          "base_uri": "https://localhost:8080/"
        },
        "id": "r4ncdIHPAWlx",
        "outputId": "fe8cd459-56c3-4786-dcb7-f44a6f8914b6"
      },
      "execution_count": null,
      "outputs": [
        {
          "output_type": "stream",
          "name": "stdout",
          "text": [
            "('apple', 'banana', 'Kiwi', 'cherry', 'Orange')\n"
          ]
        }
      ]
    },
    {
      "cell_type": "code",
      "source": [
        "t=(\"apple\",\"banana\",\"cherry\")\n",
        "q=(\"kiwi\",)\n",
        "t += q\n",
        "print(t)"
      ],
      "metadata": {
        "colab": {
          "base_uri": "https://localhost:8080/"
        },
        "id": "S85mw0ozBVTi",
        "outputId": "c7c18f5e-dff7-4189-c5c1-746e60316ed3"
      },
      "execution_count": null,
      "outputs": [
        {
          "output_type": "stream",
          "name": "stdout",
          "text": [
            "('apple', 'banana', 'cherry', 'kiwi')\n"
          ]
        }
      ]
    },
    {
      "cell_type": "code",
      "source": [
        "t=(\"apple\",\"banana\",\"Kiwi\",\"cherry\")\n",
        "l=list(t)\n",
        "l.remove(\"Kiwi\")\n",
        "t=tuple(l)\n",
        "print(t)\n",
        "del t # 튜플도 삭제 자체는 가능하다.\n",
        "# print t"
      ],
      "metadata": {
        "colab": {
          "base_uri": "https://localhost:8080/"
        },
        "id": "qIZZvaj2BlKz",
        "outputId": "a1387680-9c24-4db1-d88b-40d12fb2d971"
      },
      "execution_count": null,
      "outputs": [
        {
          "output_type": "stream",
          "name": "stdout",
          "text": [
            "('apple', 'banana', 'cherry')\n"
          ]
        }
      ]
    },
    {
      "cell_type": "markdown",
      "source": [
        "#### 사전(Dict) 자료형  \n",
        "키값을 사용하고 중괄호{}를 사용한다.  \n"
      ],
      "metadata": {
        "id": "eHORGBHMCvL5"
      }
    },
    {
      "cell_type": "code",
      "source": [
        "d={\n",
        "    'a':1,\n",
        "    'b':2,\n",
        "    'c':3\n",
        "}\n",
        "print(d)\n",
        "print(d.keys())\n",
        "print(d.values())\n",
        "print(d.items())"
      ],
      "metadata": {
        "colab": {
          "base_uri": "https://localhost:8080/"
        },
        "id": "gFdB3uleEOD4",
        "outputId": "73c03273-769b-49da-c2a3-1d4e6aa3dd29"
      },
      "execution_count": null,
      "outputs": [
        {
          "output_type": "stream",
          "name": "stdout",
          "text": [
            "{'a': 1, 'b': 2, 'c': 3}\n",
            "dict_keys(['a', 'b', 'c'])\n",
            "dict_values([1, 2, 3])\n",
            "dict_items([('a', 1), ('b', 2), ('c', 3)])\n"
          ]
        }
      ]
    },
    {
      "cell_type": "code",
      "source": [
        "car={\n",
        "    \"brand\":\"BM\",\n",
        "    \"model\":\"GT\",\n",
        "    \"year\" :\"1988\"\n",
        "}\n",
        "print(car)\n",
        "print(len(car))\n",
        "car[\"year\"]=2000\n",
        "car[\"item\"]=123456\n",
        "car.update({\"color\":\"red\"})\n",
        "print(car)"
      ],
      "metadata": {
        "colab": {
          "base_uri": "https://localhost:8080/"
        },
        "id": "aeafUK6RE0Ua",
        "outputId": "64f59ee6-50f9-4c9f-f006-9ae850c69e34"
      },
      "execution_count": null,
      "outputs": [
        {
          "output_type": "stream",
          "name": "stdout",
          "text": [
            "{'brand': 'BM', 'model': 'GT', 'year': '1988'}\n",
            "3\n",
            "{'brand': 'BM', 'model': 'GT', 'year': 2000, 'item': 123456, 'color': 'red'}\n"
          ]
        }
      ]
    },
    {
      "cell_type": "code",
      "source": [
        "# 항목 제거\n",
        "car={\n",
        "    \"brand\":\"BM\",\n",
        "    \"model\":\"GT\",\n",
        "    \"year\" :\"1988\"\n",
        "}\n",
        "car.pop(\"model\")\n",
        "print(car)"
      ],
      "metadata": {
        "colab": {
          "base_uri": "https://localhost:8080/"
        },
        "id": "kukPu7-_Grz5",
        "outputId": "5cb03e73-6390-4703-d34a-3c71327558d2"
      },
      "execution_count": null,
      "outputs": [
        {
          "output_type": "stream",
          "name": "stdout",
          "text": [
            "{'brand': 'BM', 'year': '1988'}\n"
          ]
        }
      ]
    },
    {
      "cell_type": "code",
      "source": [
        "car={\n",
        "    \"brand\":\"BM\",\n",
        "    \"model\":\"GT\",\n",
        "    \"year\" :\"1988\"\n",
        "}\n",
        "car.popitem()\n",
        "print(car)"
      ],
      "metadata": {
        "colab": {
          "base_uri": "https://localhost:8080/"
        },
        "id": "yWVItVvWG8Qf",
        "outputId": "dcb0efb0-9b49-41b9-c653-72b5cfc49eb7"
      },
      "execution_count": null,
      "outputs": [
        {
          "output_type": "stream",
          "name": "stdout",
          "text": [
            "{'brand': 'BM', 'model': 'GT'}\n"
          ]
        }
      ]
    },
    {
      "cell_type": "code",
      "source": [
        "car={\n",
        "    \"brand\":\"BM\",\n",
        "    \"model\":\"GT\",\n",
        "    \"year\" :\"1988\"\n",
        "}\n",
        "car.clear() # 비움\n",
        "del car # 삭제"
      ],
      "metadata": {
        "id": "KanrEwoeHZ8Z"
      },
      "execution_count": null,
      "outputs": []
    },
    {
      "cell_type": "markdown",
      "source": [
        "#### LOOP"
      ],
      "metadata": {
        "id": "7HlfZqvFHkfQ"
      }
    },
    {
      "cell_type": "code",
      "source": [
        "# 값을 하나씩 인쇄\n",
        "car={\n",
        "    \"brand\":\"BM\",\n",
        "    \"model\":\"GT\",\n",
        "    \"year\" :1988\n",
        "}\n",
        "for x in car:\n",
        "  print(car[x])"
      ],
      "metadata": {
        "colab": {
          "base_uri": "https://localhost:8080/"
        },
        "id": "GDuX3dvPHnwH",
        "outputId": "08a4ab71-72fd-472b-b37f-937f36ea4014"
      },
      "execution_count": null,
      "outputs": [
        {
          "output_type": "stream",
          "name": "stdout",
          "text": [
            "BM\n",
            "GT\n",
            "1988\n"
          ]
        }
      ]
    },
    {
      "cell_type": "code",
      "source": [
        "car={\n",
        "    \"brand\":\"BM\",\n",
        "    \"model\":\"GT\",\n",
        "    \"year\" :1988\n",
        "}\n",
        "for x in car.keys():\n",
        "  print(x)"
      ],
      "metadata": {
        "colab": {
          "base_uri": "https://localhost:8080/"
        },
        "id": "9Uk4dD0qIbrB",
        "outputId": "ce4ebb82-e04b-4c0b-ee5a-4d75a948cb68"
      },
      "execution_count": null,
      "outputs": [
        {
          "output_type": "stream",
          "name": "stdout",
          "text": [
            "brand\n",
            "model\n",
            "year\n"
          ]
        }
      ]
    },
    {
      "cell_type": "code",
      "source": [
        "car={\n",
        "    \"brand\":\"BM\",\n",
        "    \"model\":\"GT\",\n",
        "    \"year\" :1988\n",
        "}\n",
        "for x in car.values():\n",
        "  print(x)"
      ],
      "metadata": {
        "colab": {
          "base_uri": "https://localhost:8080/"
        },
        "id": "Ic-kBHXVIMv5",
        "outputId": "b141876f-864f-414e-9298-5506588a15d6"
      },
      "execution_count": null,
      "outputs": [
        {
          "output_type": "stream",
          "name": "stdout",
          "text": [
            "BM\n",
            "GT\n",
            "1988\n"
          ]
        }
      ]
    },
    {
      "cell_type": "code",
      "source": [
        "car={\n",
        "    \"brand\":\"BM\",\n",
        "    \"model\":\"GT\",\n",
        "    \"year\" :1988\n",
        "}\n",
        "for x,y in car.items():\n",
        "  print(x,y)"
      ],
      "metadata": {
        "colab": {
          "base_uri": "https://localhost:8080/"
        },
        "id": "nIbIVfY5IpnQ",
        "outputId": "cd4d417a-1f5b-4a77-9ccd-44f76f2ef323"
      },
      "execution_count": null,
      "outputs": [
        {
          "output_type": "stream",
          "name": "stdout",
          "text": [
            "brand BM\n",
            "model GT\n",
            "year 1988\n"
          ]
        }
      ]
    },
    {
      "cell_type": "code",
      "source": [
        "car={\n",
        "    \"brand\":\"BM\",\n",
        "    \"model\":\"GT\",\n",
        "    \"year\" :1988\n",
        "}\n",
        "myCar=car.copy()\n",
        "print(myCar)"
      ],
      "metadata": {
        "colab": {
          "base_uri": "https://localhost:8080/"
        },
        "id": "XoafmdVwI3K4",
        "outputId": "6d95e9cf-66f8-4b85-9a56-5f09f7712efc"
      },
      "execution_count": null,
      "outputs": [
        {
          "output_type": "stream",
          "name": "stdout",
          "text": [
            "{'brand': 'BM', 'model': 'GT', 'year': 1988}\n"
          ]
        }
      ]
    },
    {
      "cell_type": "code",
      "source": [
        "car={\n",
        "    \"brand\":\"BM\",\n",
        "    \"model\":\"GT\",\n",
        "    \"year\" :1988\n",
        "}\n",
        "myCar=dict(car)\n",
        "print(myCar)"
      ],
      "metadata": {
        "colab": {
          "base_uri": "https://localhost:8080/"
        },
        "id": "Ahg7XvOrJHWJ",
        "outputId": "1130b90f-a646-42bd-baa9-e41d96e2d2f5"
      },
      "execution_count": null,
      "outputs": [
        {
          "output_type": "stream",
          "name": "stdout",
          "text": [
            "{'brand': 'BM', 'model': 'GT', 'year': 1988}\n"
          ]
        }
      ]
    },
    {
      "cell_type": "code",
      "source": [
        "name1={\"name\":\"놀부\",\"year\":2001}\n",
        "name2={\"name\":\"흥부\",\"year\":2010}\n",
        "name3={\"name\":\"제비\",\"year\":2015}\n",
        "story={\n",
        "    \"name1\":name1,\n",
        "    \"name2\":name2,\n",
        "    \"name3\":name3\n",
        "}\n",
        "print(story)"
      ],
      "metadata": {
        "colab": {
          "base_uri": "https://localhost:8080/"
        },
        "id": "MppJhBfgJRw5",
        "outputId": "9a55ac8c-03ee-4ccc-8804-0df209c297d8"
      },
      "execution_count": null,
      "outputs": [
        {
          "output_type": "stream",
          "name": "stdout",
          "text": [
            "{'name1': {'name': '놀부', 'year': 2001}, 'name2': {'name': '흥부', 'year': 2010}, 'name3': {'name': '제비', 'year': 2015}}\n"
          ]
        }
      ]
    },
    {
      "cell_type": "markdown",
      "source": [
        "#CH4 조건문, 반복문  \n"
      ],
      "metadata": {
        "id": "biC0V6Wnn2QX"
      }
    },
    {
      "cell_type": "markdown",
      "source": [
        "##중첩 if문"
      ],
      "metadata": {
        "id": "zB0-KVpJuP6v"
      }
    },
    {
      "cell_type": "markdown",
      "source": [
        "예시) 시험출제 가능성 있음  \n",
        "\"%5d\" ->   123  \n",
        "\"%05d\"-> 00123"
      ],
      "metadata": {
        "id": "A4ItO9-QuViv"
      }
    },
    {
      "cell_type": "code",
      "source": [
        "score=int(input(\"점수를 입력해 주세요 : \"))\n",
        "if(score > 100):\n",
        "  print(\"0~100까지의 숫자로 입력하세요.\")\n",
        "else:\n",
        "  if (score >= 90):\n",
        "    print(\"점수: %3d A\"%score)\n",
        "  elif(score >= 80):\n",
        "    print(\"점수: %3d B\"%score)\n",
        "  elif(score >= 70):\n",
        "    print(\"점수: %3d C\"%score)\n",
        "  elif(score >= 60):\n",
        "    print(\"점수: %3d D\"%score)\n",
        "  else:\n",
        "    print(\"점수: %3d F\"%score)\n",
        "print(\"학점입니다.\")"
      ],
      "metadata": {
        "colab": {
          "base_uri": "https://localhost:8080/"
        },
        "id": "lABVvaP5qE8v",
        "outputId": "fc697c8f-1f17-42c1-fb45-295804c17654"
      },
      "execution_count": null,
      "outputs": [
        {
          "output_type": "stream",
          "name": "stdout",
          "text": [
            "점수를 입력해 주세요 : 96\n",
            "점수:  96 A\n",
            "학점입니다.\n"
          ]
        }
      ]
    },
    {
      "cell_type": "code",
      "source": [
        "import random\n",
        "\n",
        "numbers=[]\n",
        "for num in range(0,10):\n",
        "  numbers.append(random.randrange(0,10))\n",
        "\n",
        "print(\"생성된 리스트\", numbers)\n",
        "\n",
        "for num in range(0,10):\n",
        "  if num not in numbers:\n",
        "    print(\"숫자 %d는 리스트에 없습니다.\"%num)\n",
        "  else:\n",
        "    print(\"숫자 %d는 리스트에 있습니다.\"%num)"
      ],
      "metadata": {
        "colab": {
          "base_uri": "https://localhost:8080/"
        },
        "id": "wyuFVsLHzOxY",
        "outputId": "54041a16-9693-4793-f95b-fc3e4c541627"
      },
      "execution_count": null,
      "outputs": [
        {
          "output_type": "stream",
          "name": "stdout",
          "text": [
            "생성된 리스트 [6, 7, 7, 8, 1, 1, 4, 7, 5, 7]\n",
            "숫자 0는 리스트에 없습니다.\n",
            "숫자 1는 리스트에 있습니다.\n",
            "숫자 2는 리스트에 없습니다.\n",
            "숫자 3는 리스트에 없습니다.\n",
            "숫자 4는 리스트에 있습니다.\n",
            "숫자 5는 리스트에 있습니다.\n",
            "숫자 6는 리스트에 있습니다.\n",
            "숫자 7는 리스트에 있습니다.\n",
            "숫자 8는 리스트에 있습니다.\n",
            "숫자 9는 리스트에 없습니다.\n"
          ]
        }
      ]
    },
    {
      "cell_type": "code",
      "source": [
        "select, answer, numStr, num1, num2 = 0,0,\"\",0,0\n",
        "select=int(input(\"1.입력한 수식 계산 2.두수의 합계 \"))\n",
        "if select == 1:\n",
        "  numStr=input(\"*** 수식을 입력하세요 : \")\n",
        "  answer=eval(numStr) # 1+2, \"string\"+\"str\"\n",
        "  print(\"%s 결과는 %5.1f입니다.\"%(numStr,answer))\n",
        "elif select==2:\n",
        "  num1=int(input(\"*** 첫번째 숫자를 입력하세요 : \"))\n",
        "  num2=int(input(\"*** 두번째 숫자를 입력하세요 : \"))\n",
        "  for i in range(num1, num2+1):\n",
        "    answer=answer+i\n",
        "  print(\"%d+...+%d는 %d입니다.\"%(num1,num2,answer))\n",
        "else:\n",
        "  print(\"1또는 2만 입력해야합니다.\")"
      ],
      "metadata": {
        "colab": {
          "base_uri": "https://localhost:8080/"
        },
        "id": "TAsam-Jh5cig",
        "outputId": "4aceb2c0-303b-4743-be2b-6841c939fc3f"
      },
      "execution_count": null,
      "outputs": [
        {
          "output_type": "stream",
          "name": "stdout",
          "text": [
            "1.입력한 수식 계산 2.두수의 합계 2\n",
            "*** 첫번째 숫자를 입력하세요 : 5\n",
            "*** 두번째 숫자를 입력하세요 : 6\n",
            "5+...+6는 11입니다.\n"
          ]
        }
      ]
    },
    {
      "cell_type": "markdown",
      "source": [
        "##for & while 반복문"
      ],
      "metadata": {
        "id": "_U29hGwY-ZMB"
      }
    },
    {
      "cell_type": "markdown",
      "source": [
        "for 변수(i) in (시작값, 끝값, 증가값)  \n",
        "시험 출제 가능성 있을 듯?"
      ],
      "metadata": {
        "id": "hLo0E8_T-E3x"
      }
    },
    {
      "cell_type": "code",
      "source": [
        "for i in range(0,3,1):\n",
        "  print(\"안녕!\")"
      ],
      "metadata": {
        "colab": {
          "base_uri": "https://localhost:8080/"
        },
        "id": "VKtQERY9-VdR",
        "outputId": "73056557-3497-44f1-f05b-f3ad06ee6222"
      },
      "execution_count": null,
      "outputs": [
        {
          "output_type": "stream",
          "name": "stdout",
          "text": [
            "안녕!\n",
            "안녕!\n",
            "안녕!\n"
          ]
        }
      ]
    },
    {
      "cell_type": "code",
      "source": [
        "for i in [0,3,1]:\n",
        "  print(\"안녕!\")"
      ],
      "metadata": {
        "colab": {
          "base_uri": "https://localhost:8080/"
        },
        "id": "ul2nng7m-uaQ",
        "outputId": "67636678-188b-4376-e540-8fb48762378f"
      },
      "execution_count": null,
      "outputs": [
        {
          "output_type": "stream",
          "name": "stdout",
          "text": [
            "안녕!\n",
            "안녕!\n",
            "안녕!\n"
          ]
        }
      ]
    },
    {
      "cell_type": "code",
      "source": [
        "for i in range(0,3,1):\n",
        "  for j in range(0,5,1):\n",
        "    print(\"i:%d, j:%d\"%(i,j))"
      ],
      "metadata": {
        "colab": {
          "base_uri": "https://localhost:8080/"
        },
        "id": "4EZCBWzRAY0Q",
        "outputId": "f07810c8-aa52-4a43-9676-90096e7189b3"
      },
      "execution_count": null,
      "outputs": [
        {
          "output_type": "stream",
          "name": "stdout",
          "text": [
            "i:0, j:0\n",
            "i:0, j:1\n",
            "i:0, j:2\n",
            "i:0, j:3\n",
            "i:0, j:4\n",
            "i:1, j:0\n",
            "i:1, j:1\n",
            "i:1, j:2\n",
            "i:1, j:3\n",
            "i:1, j:4\n",
            "i:2, j:0\n",
            "i:2, j:1\n",
            "i:2, j:2\n",
            "i:2, j:3\n",
            "i:2, j:4\n"
          ]
        }
      ]
    },
    {
      "cell_type": "code",
      "source": [
        "i,j=0,0\n",
        "for i in range(1,10,1):\n",
        "  for j in range(1,10,1):\n",
        "    print(\"%d x %d = %2d\" %(i,j,i*j), end=' ')\n",
        "  print(\"\")"
      ],
      "metadata": {
        "colab": {
          "base_uri": "https://localhost:8080/"
        },
        "id": "qkjs2wVIBZor",
        "outputId": "cd39aabf-08df-4fd7-ef87-4a116c7c6c9c"
      },
      "execution_count": null,
      "outputs": [
        {
          "output_type": "stream",
          "name": "stdout",
          "text": [
            "1 x 1 =  1  1 x 2 =  2  1 x 3 =  3  1 x 4 =  4  1 x 5 =  5  1 x 6 =  6  1 x 7 =  7  1 x 8 =  8  1 x 9 =  9  \n",
            "2 x 1 =  2  2 x 2 =  4  2 x 3 =  6  2 x 4 =  8  2 x 5 = 10  2 x 6 = 12  2 x 7 = 14  2 x 8 = 16  2 x 9 = 18  \n",
            "3 x 1 =  3  3 x 2 =  6  3 x 3 =  9  3 x 4 = 12  3 x 5 = 15  3 x 6 = 18  3 x 7 = 21  3 x 8 = 24  3 x 9 = 27  \n",
            "4 x 1 =  4  4 x 2 =  8  4 x 3 = 12  4 x 4 = 16  4 x 5 = 20  4 x 6 = 24  4 x 7 = 28  4 x 8 = 32  4 x 9 = 36  \n",
            "5 x 1 =  5  5 x 2 = 10  5 x 3 = 15  5 x 4 = 20  5 x 5 = 25  5 x 6 = 30  5 x 7 = 35  5 x 8 = 40  5 x 9 = 45  \n",
            "6 x 1 =  6  6 x 2 = 12  6 x 3 = 18  6 x 4 = 24  6 x 5 = 30  6 x 6 = 36  6 x 7 = 42  6 x 8 = 48  6 x 9 = 54  \n",
            "7 x 1 =  7  7 x 2 = 14  7 x 3 = 21  7 x 4 = 28  7 x 5 = 35  7 x 6 = 42  7 x 7 = 49  7 x 8 = 56  7 x 9 = 63  \n",
            "8 x 1 =  8  8 x 2 = 16  8 x 3 = 24  8 x 4 = 32  8 x 5 = 40  8 x 6 = 48  8 x 7 = 56  8 x 8 = 64  8 x 9 = 72  \n",
            "9 x 1 =  9  9 x 2 = 18  9 x 3 = 27  9 x 4 = 36  9 x 5 = 45  9 x 6 = 54  9 x 7 = 63  9 x 8 = 72  9 x 9 = 81  \n"
          ]
        }
      ]
    },
    {
      "cell_type": "code",
      "source": [
        "i=0\n",
        "while i<3:\n",
        "  print(\"%d : whlie문\" %i)\n",
        "  i=i+1"
      ],
      "metadata": {
        "colab": {
          "base_uri": "https://localhost:8080/"
        },
        "id": "xup47pjXCS8y",
        "outputId": "b4c69814-719f-4825-ede8-e7f99403e857"
      },
      "execution_count": null,
      "outputs": [
        {
          "output_type": "stream",
          "name": "stdout",
          "text": [
            "0 : whlie문\n",
            "1 : whlie문\n",
            "2 : whlie문\n"
          ]
        }
      ]
    },
    {
      "cell_type": "code",
      "source": [
        "# Q 1부터 10까지 합계를 while문으로\n",
        "i, hap=0,0\n",
        "i=1\n",
        "while i<11:\n",
        "  hap=hap+i\n",
        "  i=i+1\n",
        "\n",
        "print(\"1부터 10까지의 합계: %d\"%hap)"
      ],
      "metadata": {
        "colab": {
          "base_uri": "https://localhost:8080/"
        },
        "id": "6DyRAE8cDF3K",
        "outputId": "b81f1e7d-aac3-4580-9c30-8b9b4605431e"
      },
      "execution_count": null,
      "outputs": [
        {
          "output_type": "stream",
          "name": "stdout",
          "text": [
            "1부터 10까지의 합계: 55\n"
          ]
        }
      ]
    },
    {
      "cell_type": "code",
      "source": [
        "# Q 1부터 10까지 합계를 for문으로\n",
        "i, hap=0,0\n",
        "i=1\n",
        "for i in range(1,11,1):\n",
        "  hap=hap+i\n",
        "print(\"1부터 10까지의 합계: %d\"%hap)"
      ],
      "metadata": {
        "colab": {
          "base_uri": "https://localhost:8080/"
        },
        "id": "r_cu5xJVDmk6",
        "outputId": "57165006-91f2-4e0f-8b7a-5f2a335be02e"
      },
      "execution_count": null,
      "outputs": [
        {
          "output_type": "stream",
          "name": "stdout",
          "text": [
            "1부터 10까지의 합계: 55\n"
          ]
        }
      ]
    },
    {
      "cell_type": "code",
      "source": [
        "#while True:\n",
        "print(\"무한 루프\",end=' ')"
      ],
      "metadata": {
        "colab": {
          "base_uri": "https://localhost:8080/"
        },
        "id": "h2XiX-3vEKGz",
        "outputId": "7a141d8a-e6c6-48f6-ee0e-952cbf4af7ff"
      },
      "execution_count": null,
      "outputs": [
        {
          "output_type": "stream",
          "name": "stdout",
          "text": [
            "무한 루프 "
          ]
        }
      ]
    },
    {
      "cell_type": "code",
      "source": [
        "# break (루프안에서 1번 실행하고 빠짐)\n",
        "for i in range(1,100):\n",
        "  print(\"for문 %d번 실행\"%i)\n",
        "  break\n",
        "print(\"break 빠짐\")"
      ],
      "metadata": {
        "colab": {
          "base_uri": "https://localhost:8080/"
        },
        "id": "2lU5CpNGEtkC",
        "outputId": "674916ac-a8fe-4f0a-f091-9238cac2c3fa"
      },
      "execution_count": null,
      "outputs": [
        {
          "output_type": "stream",
          "name": "stdout",
          "text": [
            "for문 1번 실행\n",
            "break 빠짐\n"
          ]
        }
      ]
    },
    {
      "cell_type": "code",
      "source": [
        "hap=0\n",
        "a,b=0,0\n",
        "while True:\n",
        "  a= int(input(\"덧셈 첫번째 수 입력 : \"))\n",
        "  if a==0:\n",
        "    break\n",
        "  b= int(input(\"덧셈 두번째 수 입력 : \"))\n",
        "  hap=a+b\n",
        "  print(\"%d+%d=%d\"%(a,b,hap))\n",
        "print(\"break로 탈출\")"
      ],
      "metadata": {
        "colab": {
          "base_uri": "https://localhost:8080/"
        },
        "id": "WLeZyJ9UFary",
        "outputId": "50a3170b-7884-4428-8c0f-7908adc2ecac"
      },
      "execution_count": null,
      "outputs": [
        {
          "output_type": "stream",
          "name": "stdout",
          "text": [
            "덧셈 첫번째 수 입력 : 1\n",
            "덧셈 두번째 수 입력 : 2\n",
            "1+2=3\n",
            "덧셈 첫번째 수 입력 : 0\n",
            "break로 탈출\n"
          ]
        }
      ]
    },
    {
      "cell_type": "markdown",
      "source": [
        "시험출제 continue"
      ],
      "metadata": {
        "id": "fDWAdS7LH2_y"
      }
    },
    {
      "cell_type": "code",
      "source": [
        "#continue\n",
        "hap, i=0,0\n",
        "for i in range(1,11):\n",
        "  if i % 2 == 0:\n",
        "    print(\"i : %d\"%i)\n",
        "    continue\n",
        "  hap+=i\n",
        "print(\"1~10 합계(3의 배수 제외): %d\"%hap)"
      ],
      "metadata": {
        "colab": {
          "base_uri": "https://localhost:8080/"
        },
        "id": "nggtIej9HGQ8",
        "outputId": "73a34900-5553-4c0a-946d-a5455dcb304c"
      },
      "execution_count": null,
      "outputs": [
        {
          "output_type": "stream",
          "name": "stdout",
          "text": [
            "i : 2\n",
            "i : 4\n",
            "i : 6\n",
            "i : 8\n",
            "i : 10\n",
            "1~10 합계(3의 배수 제외): 25\n"
          ]
        }
      ]
    },
    {
      "cell_type": "code",
      "source": [
        "#continue\n",
        "hap, i=0,0\n",
        "for i in range(1,101):\n",
        "  if i % 3 == 0:\n",
        "    continue\n",
        "  hap+=i\n",
        "print(\"1~100 합계(3의 배수 제외): %d\"%hap)"
      ],
      "metadata": {
        "colab": {
          "base_uri": "https://localhost:8080/"
        },
        "id": "-XmE1HdGGPlD",
        "outputId": "e5a8478e-40f6-49f9-c177-6ad774d46eff"
      },
      "execution_count": null,
      "outputs": [
        {
          "output_type": "stream",
          "name": "stdout",
          "text": [
            "1~100 합계(3의 배수 제외): 3367\n"
          ]
        }
      ]
    },
    {
      "cell_type": "code",
      "source": [
        "fruits=[\"사과\",\"바나나\",\"포도\"]\n",
        "for x in fruits:\n",
        "  if x == \"바나나\":\n",
        "    continue\n",
        "  print(x)"
      ],
      "metadata": {
        "colab": {
          "base_uri": "https://localhost:8080/"
        },
        "id": "bLWa1DWPH-Hi",
        "outputId": "fa86943b-f46f-4c80-c6d0-926daa98eebf"
      },
      "execution_count": null,
      "outputs": [
        {
          "output_type": "stream",
          "name": "stdout",
          "text": [
            "사과\n",
            "포도\n"
          ]
        }
      ]
    },
    {
      "cell_type": "code",
      "source": [
        "for x in range(6):\n",
        "  print(x)\n",
        "else:\n",
        "  print(\"끝\")"
      ],
      "metadata": {
        "colab": {
          "base_uri": "https://localhost:8080/"
        },
        "id": "0TqHifDOIqvs",
        "outputId": "094faea3-fa2e-4c3a-e840-15cadf99c21c"
      },
      "execution_count": null,
      "outputs": [
        {
          "output_type": "stream",
          "name": "stdout",
          "text": [
            "0\n",
            "1\n",
            "2\n",
            "3\n",
            "4\n",
            "5\n",
            "끝\n"
          ]
        }
      ]
    },
    {
      "cell_type": "code",
      "source": [
        "for x in range(6):\n",
        "  if x ==3: \n",
        "    break\n",
        "  print(x)\n",
        "else:\n",
        "  print(\"끝\")"
      ],
      "metadata": {
        "colab": {
          "base_uri": "https://localhost:8080/"
        },
        "id": "XaRYVOCvJE06",
        "outputId": "3ddf2a51-6169-4bbf-b1ea-39520487b0c9"
      },
      "execution_count": null,
      "outputs": [
        {
          "output_type": "stream",
          "name": "stdout",
          "text": [
            "0\n",
            "1\n",
            "2\n"
          ]
        }
      ]
    },
    {
      "cell_type": "code",
      "source": [
        "# for문 루프는 비워둘 수 없음\n",
        "for x in [0,1,2]:\n",
        "  pass"
      ],
      "metadata": {
        "id": "5aETvepeKI4a"
      },
      "execution_count": null,
      "outputs": []
    },
    {
      "cell_type": "markdown",
      "source": [
        "## 함수"
      ],
      "metadata": {
        "id": "wiAZpcTHLOOL"
      }
    },
    {
      "cell_type": "code",
      "source": [
        "# 두 수를 더하는 함수\n",
        "def plus(v1,v2):\n",
        "  result=0\n",
        "  result=v1+v2\n",
        "  return result\n",
        "\n",
        "hap=0\n",
        "hap=plus(10,20)\n",
        "print(\"10+20 plus() 처리 결과는 %d\" %hap)\n",
        "hap=0\n",
        "hap=plus(50,70)\n",
        "print(\"50+70 plus() 처리 결과는 %d\" %hap)"
      ],
      "metadata": {
        "colab": {
          "base_uri": "https://localhost:8080/"
        },
        "id": "w1XckXX0Lrw6",
        "outputId": "a6496d7e-5105-43db-aaf2-9ecd84b01969"
      },
      "execution_count": null,
      "outputs": [
        {
          "output_type": "stream",
          "name": "stdout",
          "text": [
            "10+20 plus() 처리 결과는 30\n",
            "50+70 plus() 처리 결과는 120\n"
          ]
        }
      ]
    },
    {
      "cell_type": "code",
      "source": [
        "#계산기 코드\n",
        "def calc(v1,v2,op):\n",
        "  result=0\n",
        "  if op=='+':\n",
        "    result=v1+v2\n",
        "  elif op == '-':\n",
        "    result=v1-v2\n",
        "  elif op == '*':\n",
        "    result=v1*v2\n",
        "  elif op == '/':\n",
        "    result=v1/v2\n",
        "  return result\n",
        "\n",
        "rst=0\n",
        "var1,var2,opr=0,0,\"\"\n",
        "opr=input(\"(+,-,*,/) 입력 : \")\n",
        "var1=int(input(\"첫번째 수 입력 : \"))\n",
        "var2=int(input(\"두번째 수 입력 : \"))\n",
        "rst=calc(var1,var2,opr)\n",
        "print(\"계산기 %d %s %d = %d\"%(var1, opr, var2, rst))"
      ],
      "metadata": {
        "colab": {
          "base_uri": "https://localhost:8080/"
        },
        "id": "VfnOCepdNFMF",
        "outputId": "ed9dd03e-2754-4910-d11c-d7fdf9d756a6"
      },
      "execution_count": null,
      "outputs": [
        {
          "output_type": "stream",
          "name": "stdout",
          "text": [
            "(+,-,*,/) 입력 : *\n",
            "첫번째 수 입력 : 3\n",
            "두번째 수 입력 : 2\n",
            "계산기 3 * 2 = 6\n"
          ]
        }
      ]
    },
    {
      "cell_type": "markdown",
      "source": [
        "# Q 0으로 나누려고 하면 계산되지 않도록 메시지 출력, 제곱 연산자 출력(숫자1, 연산자, 숫자2) 계산기 함수 만들기"
      ],
      "metadata": {
        "id": "6wqgQdh4P6tF"
      }
    },
    {
      "cell_type": "code",
      "source": [
        "def calc(v1,v2,op):\n",
        "  result=0\n",
        "  if op=='+':\n",
        "    result=v1+v2\n",
        "  elif op == '-':\n",
        "    result=v1-v2\n",
        "  elif op == '*':\n",
        "    result=v1*v2\n",
        "  elif op == '/':\n",
        "    if v2 == 0:\n",
        "      print(\"입력된 값이 0입니다. 다시 입력해주세요.\")\n",
        "    if v1 == 0:\n",
        "      print(\"입력된 값이 0입니다. 다시 입력해주세요.\")\n",
        "      continue\n",
        "    result=v1/v2\n",
        "  elif op == '**':\n",
        "    result=v1**v2\n",
        "  return result\n",
        "\n",
        "while True:\n",
        "  opr=input(\"(+,-,*,/,**) 입력 : \")\n",
        "  if opr not in ['+', '-', '*', '/', '**']:\n",
        "    print(\"잘못된 입력입니다. 다시 입력해주세요.\")\n",
        "    continue\n",
        "  var1=int(input(\"첫번째 수 입력 : \"))\n",
        "  var2=int(input(\"두번째 수 입력 : \"))\n",
        "  rst=calc(var1,var2,opr)\n",
        "  print(\"계산기 %d %s %d = %d\"%(var1, opr, var2, rst))\n",
        "  break"
      ],
      "metadata": {
        "colab": {
          "base_uri": "https://localhost:8080/"
        },
        "id": "kUzAMnklyHMm",
        "outputId": "581e6fe4-fb0a-4b6b-c7e8-590b0a9622da"
      },
      "execution_count": null,
      "outputs": [
        {
          "output_type": "stream",
          "name": "stdout",
          "text": [
            "(+,-,*,/,**) 입력 : /\n",
            "첫번째 수 입력 : 0\n",
            "두번째 수 입력 : 2\n",
            "입력된 값이 0입니다. 다시 입력해주세요.\n",
            "계산기 0 / 2 = 0\n"
          ]
        }
      ]
    },
    {
      "cell_type": "code",
      "source": [
        "def calc(v1,v2,op):\n",
        "  result=0\n",
        "  if op=='+':\n",
        "    result=v1+v2\n",
        "  elif op == '-':\n",
        "    result=v1-v2\n",
        "  elif op == '*':\n",
        "    result=v1*v2\n",
        "  elif op == '/':\n",
        "    result=v1/v2\n",
        "  elif op == '**':\n",
        "    result=v1**v2\n",
        "  return result\n",
        "\n",
        "rst=0\n",
        "var1,var2,opr=0,0,\"\"\n",
        "opr=input(\"(+,-,*,/,**) 입력 : \")\n",
        "var1=int(input(\"첫번째 수 입력 : \"))\n",
        "var2=int(input(\"두번째 수 입력 : \"))\n",
        "rst=calc(var1,var2,opr)\n",
        "print(\"계산기 %d %s %d = %d\"%(var1, opr, var2, rst))"
      ],
      "metadata": {
        "colab": {
          "base_uri": "https://localhost:8080/",
          "height": 413
        },
        "id": "jqYJ8sCNQJ5E",
        "outputId": "7016d72d-1c84-4c5d-fadf-b473e482cfc6"
      },
      "execution_count": null,
      "outputs": [
        {
          "name": "stdout",
          "output_type": "stream",
          "text": [
            "(+,-,*,/,**) 입력 : /\n",
            "첫번째 수 입력 : 2\n",
            "두번째 수 입력 : 0\n"
          ]
        },
        {
          "output_type": "error",
          "ename": "KeyboardInterrupt",
          "evalue": "ignored",
          "traceback": [
            "\u001b[0;31m---------------------------------------------------------------------------\u001b[0m",
            "\u001b[0;31mKeyboardInterrupt\u001b[0m                         Traceback (most recent call last)",
            "\u001b[0;32m<ipython-input-9-f449962b6cfb>\u001b[0m in \u001b[0;36m<cell line: 24>\u001b[0;34m()\u001b[0m\n\u001b[1;32m     22\u001b[0m \u001b[0mvar1\u001b[0m\u001b[0;34m=\u001b[0m\u001b[0mint\u001b[0m\u001b[0;34m(\u001b[0m\u001b[0minput\u001b[0m\u001b[0;34m(\u001b[0m\u001b[0;34m\"첫번째 수 입력 : \"\u001b[0m\u001b[0;34m)\u001b[0m\u001b[0;34m)\u001b[0m\u001b[0;34m\u001b[0m\u001b[0;34m\u001b[0m\u001b[0m\n\u001b[1;32m     23\u001b[0m \u001b[0mvar2\u001b[0m\u001b[0;34m=\u001b[0m\u001b[0mint\u001b[0m\u001b[0;34m(\u001b[0m\u001b[0minput\u001b[0m\u001b[0;34m(\u001b[0m\u001b[0;34m\"두번째 수 입력 : \"\u001b[0m\u001b[0;34m)\u001b[0m\u001b[0;34m)\u001b[0m\u001b[0;34m\u001b[0m\u001b[0;34m\u001b[0m\u001b[0m\n\u001b[0;32m---> 24\u001b[0;31m \u001b[0mrst\u001b[0m\u001b[0;34m=\u001b[0m\u001b[0mcalc\u001b[0m\u001b[0;34m(\u001b[0m\u001b[0mvar1\u001b[0m\u001b[0;34m,\u001b[0m\u001b[0mvar2\u001b[0m\u001b[0;34m,\u001b[0m\u001b[0mopr\u001b[0m\u001b[0;34m)\u001b[0m\u001b[0;34m\u001b[0m\u001b[0;34m\u001b[0m\u001b[0m\n\u001b[0m\u001b[1;32m     25\u001b[0m \u001b[0mprint\u001b[0m\u001b[0;34m(\u001b[0m\u001b[0;34m\"계산기 %d %s %d = %d\"\u001b[0m\u001b[0;34m%\u001b[0m\u001b[0;34m(\u001b[0m\u001b[0mvar1\u001b[0m\u001b[0;34m,\u001b[0m \u001b[0mopr\u001b[0m\u001b[0;34m,\u001b[0m \u001b[0mvar2\u001b[0m\u001b[0;34m,\u001b[0m \u001b[0mrst\u001b[0m\u001b[0;34m)\u001b[0m\u001b[0;34m)\u001b[0m\u001b[0;34m\u001b[0m\u001b[0;34m\u001b[0m\u001b[0m\n",
            "\u001b[0;32m<ipython-input-9-f449962b6cfb>\u001b[0m in \u001b[0;36mcalc\u001b[0;34m(v1, v2, op)\u001b[0m\n\u001b[1;32m      9\u001b[0m   \u001b[0;32melif\u001b[0m \u001b[0mop\u001b[0m \u001b[0;34m==\u001b[0m \u001b[0;34m'/'\u001b[0m\u001b[0;34m:\u001b[0m\u001b[0;34m\u001b[0m\u001b[0;34m\u001b[0m\u001b[0m\n\u001b[1;32m     10\u001b[0m     \u001b[0;32mwhile\u001b[0m \u001b[0;32mTrue\u001b[0m\u001b[0;34m:\u001b[0m\u001b[0;34m\u001b[0m\u001b[0;34m\u001b[0m\u001b[0m\n\u001b[0;32m---> 11\u001b[0;31m       \u001b[0;32mif\u001b[0m \u001b[0mv1\u001b[0m\u001b[0;34m==\u001b[0m\u001b[0;36m0\u001b[0m\u001b[0;34m:\u001b[0m\u001b[0;34m\u001b[0m\u001b[0;34m\u001b[0m\u001b[0m\n\u001b[0m\u001b[1;32m     12\u001b[0m         \u001b[0;32mbreak\u001b[0m\u001b[0;34m\u001b[0m\u001b[0;34m\u001b[0m\u001b[0m\n\u001b[1;32m     13\u001b[0m         \u001b[0mprint\u001b[0m\u001b[0;34m(\u001b[0m\u001b[0;34m\"0으로 나눌 수 없습니다.\"\u001b[0m\u001b[0;34m)\u001b[0m\u001b[0;34m\u001b[0m\u001b[0;34m\u001b[0m\u001b[0m\n",
            "\u001b[0;31mKeyboardInterrupt\u001b[0m: "
          ]
        }
      ]
    },
    {
      "cell_type": "code",
      "source": [
        "#전역 변수와 지역 변수\n",
        "def func1():\n",
        "  a=10 # 지역 변수\n",
        "  print(\"func1()에서 값 %d\" %a)\n",
        "\n",
        "def func2():\n",
        "  print(\"func2()에서 값 %d\" %a)\n",
        "\n",
        "a=20 #전역 변수\n",
        "\n",
        "func1()\n",
        "func2()"
      ],
      "metadata": {
        "colab": {
          "base_uri": "https://localhost:8080/"
        },
        "id": "GwtvS-BgQ5e1",
        "outputId": "15febb07-0401-4877-e84c-45068d03f9d1"
      },
      "execution_count": null,
      "outputs": [
        {
          "output_type": "stream",
          "name": "stdout",
          "text": [
            "func1()에서 값 10\n",
            "func2()에서 값 20\n"
          ]
        }
      ]
    },
    {
      "cell_type": "markdown",
      "source": [
        "# Ch5 파일 처리  \n",
        "\"r\" read  \n",
        "\"a\" append  \n",
        "\"w\" wirte  \n",
        "\"x\" create  \n",
        "\"t\" text  \n",
        "\"b\" binary  "
      ],
      "metadata": {
        "id": "RgPsauCirXfL"
      }
    },
    {
      "cell_type": "code",
      "source": [
        "# \"w\"\n",
        "from google.colab import files\n",
        "f=open(\"a.txt\",'w')\n",
        "f.write(\"12345\")\n",
        "f.close()\n",
        "\n",
        "f=open(\"a.txt\",'w')\n",
        "f.write(\"abcde\")\n",
        "f.close()\n",
        "\n",
        "files.download('a.txt')"
      ],
      "metadata": {
        "colab": {
          "base_uri": "https://localhost:8080/",
          "height": 17
        },
        "id": "6PiUkLsmwQvT",
        "outputId": "e8e07bee-369f-4c51-b263-f97b335bd722"
      },
      "execution_count": null,
      "outputs": [
        {
          "output_type": "display_data",
          "data": {
            "text/plain": [
              "<IPython.core.display.Javascript object>"
            ],
            "application/javascript": [
              "\n",
              "    async function download(id, filename, size) {\n",
              "      if (!google.colab.kernel.accessAllowed) {\n",
              "        return;\n",
              "      }\n",
              "      const div = document.createElement('div');\n",
              "      const label = document.createElement('label');\n",
              "      label.textContent = `Downloading \"${filename}\": `;\n",
              "      div.appendChild(label);\n",
              "      const progress = document.createElement('progress');\n",
              "      progress.max = size;\n",
              "      div.appendChild(progress);\n",
              "      document.body.appendChild(div);\n",
              "\n",
              "      const buffers = [];\n",
              "      let downloaded = 0;\n",
              "\n",
              "      const channel = await google.colab.kernel.comms.open(id);\n",
              "      // Send a message to notify the kernel that we're ready.\n",
              "      channel.send({})\n",
              "\n",
              "      for await (const message of channel.messages) {\n",
              "        // Send a message to notify the kernel that we're ready.\n",
              "        channel.send({})\n",
              "        if (message.buffers) {\n",
              "          for (const buffer of message.buffers) {\n",
              "            buffers.push(buffer);\n",
              "            downloaded += buffer.byteLength;\n",
              "            progress.value = downloaded;\n",
              "          }\n",
              "        }\n",
              "      }\n",
              "      const blob = new Blob(buffers, {type: 'application/binary'});\n",
              "      const a = document.createElement('a');\n",
              "      a.href = window.URL.createObjectURL(blob);\n",
              "      a.download = filename;\n",
              "      div.appendChild(a);\n",
              "      a.click();\n",
              "      div.remove();\n",
              "    }\n",
              "  "
            ]
          },
          "metadata": {}
        },
        {
          "output_type": "display_data",
          "data": {
            "text/plain": [
              "<IPython.core.display.Javascript object>"
            ],
            "application/javascript": [
              "download(\"download_63bc6f61-d783-4fdd-bb17-1e1ad9f7564d\", \"a.txt\", 5)"
            ]
          },
          "metadata": {}
        }
      ]
    },
    {
      "cell_type": "code",
      "source": [
        "#'a'\n",
        "from google.colab import files\n",
        "\n",
        "f=open(\"a.txt\",'w')\n",
        "f.write(\"12345\")\n",
        "f.close()\n",
        "\n",
        "f=open(\"a.txt\",'a')\n",
        "f.write(\"6789\")\n",
        "f.close()\n",
        "\n",
        "files.download('a.txt')"
      ],
      "metadata": {
        "colab": {
          "base_uri": "https://localhost:8080/",
          "height": 17
        },
        "id": "Brd6J53qx_JL",
        "outputId": "2b068907-f4ce-409f-ae01-d9036339b248"
      },
      "execution_count": null,
      "outputs": [
        {
          "output_type": "display_data",
          "data": {
            "text/plain": [
              "<IPython.core.display.Javascript object>"
            ],
            "application/javascript": [
              "\n",
              "    async function download(id, filename, size) {\n",
              "      if (!google.colab.kernel.accessAllowed) {\n",
              "        return;\n",
              "      }\n",
              "      const div = document.createElement('div');\n",
              "      const label = document.createElement('label');\n",
              "      label.textContent = `Downloading \"${filename}\": `;\n",
              "      div.appendChild(label);\n",
              "      const progress = document.createElement('progress');\n",
              "      progress.max = size;\n",
              "      div.appendChild(progress);\n",
              "      document.body.appendChild(div);\n",
              "\n",
              "      const buffers = [];\n",
              "      let downloaded = 0;\n",
              "\n",
              "      const channel = await google.colab.kernel.comms.open(id);\n",
              "      // Send a message to notify the kernel that we're ready.\n",
              "      channel.send({})\n",
              "\n",
              "      for await (const message of channel.messages) {\n",
              "        // Send a message to notify the kernel that we're ready.\n",
              "        channel.send({})\n",
              "        if (message.buffers) {\n",
              "          for (const buffer of message.buffers) {\n",
              "            buffers.push(buffer);\n",
              "            downloaded += buffer.byteLength;\n",
              "            progress.value = downloaded;\n",
              "          }\n",
              "        }\n",
              "      }\n",
              "      const blob = new Blob(buffers, {type: 'application/binary'});\n",
              "      const a = document.createElement('a');\n",
              "      a.href = window.URL.createObjectURL(blob);\n",
              "      a.download = filename;\n",
              "      div.appendChild(a);\n",
              "      a.click();\n",
              "      div.remove();\n",
              "    }\n",
              "  "
            ]
          },
          "metadata": {}
        },
        {
          "output_type": "display_data",
          "data": {
            "text/plain": [
              "<IPython.core.display.Javascript object>"
            ],
            "application/javascript": [
              "download(\"download_e9a673ee-4035-4aaf-b68b-f79f264859e4\", \"a.txt\", 9)"
            ]
          },
          "metadata": {}
        }
      ]
    },
    {
      "cell_type": "code",
      "source": [
        "from google.colab import files\n",
        "# 생성된 파일이 없을 경우에만 x로 파일 생성 가능\n",
        "f=open(\"b.txt\",'x')\n",
        "f.write(\"abcde\")\n",
        "f.close()\n",
        "\n",
        "files.download('b.txt')"
      ],
      "metadata": {
        "colab": {
          "base_uri": "https://localhost:8080/",
          "height": 17
        },
        "id": "qtoB8ebOylMz",
        "outputId": "c425dd36-ce39-4ee8-9738-fb2fbf9b42fd"
      },
      "execution_count": null,
      "outputs": [
        {
          "output_type": "display_data",
          "data": {
            "text/plain": [
              "<IPython.core.display.Javascript object>"
            ],
            "application/javascript": [
              "\n",
              "    async function download(id, filename, size) {\n",
              "      if (!google.colab.kernel.accessAllowed) {\n",
              "        return;\n",
              "      }\n",
              "      const div = document.createElement('div');\n",
              "      const label = document.createElement('label');\n",
              "      label.textContent = `Downloading \"${filename}\": `;\n",
              "      div.appendChild(label);\n",
              "      const progress = document.createElement('progress');\n",
              "      progress.max = size;\n",
              "      div.appendChild(progress);\n",
              "      document.body.appendChild(div);\n",
              "\n",
              "      const buffers = [];\n",
              "      let downloaded = 0;\n",
              "\n",
              "      const channel = await google.colab.kernel.comms.open(id);\n",
              "      // Send a message to notify the kernel that we're ready.\n",
              "      channel.send({})\n",
              "\n",
              "      for await (const message of channel.messages) {\n",
              "        // Send a message to notify the kernel that we're ready.\n",
              "        channel.send({})\n",
              "        if (message.buffers) {\n",
              "          for (const buffer of message.buffers) {\n",
              "            buffers.push(buffer);\n",
              "            downloaded += buffer.byteLength;\n",
              "            progress.value = downloaded;\n",
              "          }\n",
              "        }\n",
              "      }\n",
              "      const blob = new Blob(buffers, {type: 'application/binary'});\n",
              "      const a = document.createElement('a');\n",
              "      a.href = window.URL.createObjectURL(blob);\n",
              "      a.download = filename;\n",
              "      div.appendChild(a);\n",
              "      a.click();\n",
              "      div.remove();\n",
              "    }\n",
              "  "
            ]
          },
          "metadata": {}
        },
        {
          "output_type": "display_data",
          "data": {
            "text/plain": [
              "<IPython.core.display.Javascript object>"
            ],
            "application/javascript": [
              "download(\"download_5f43d8d7-e5a4-4ad0-9615-40d6035e3c7c\", \"b.txt\", 5)"
            ]
          },
          "metadata": {}
        }
      ]
    },
    {
      "cell_type": "code",
      "source": [
        "from google.colab import files\n",
        "# 생성된 파일이 없을 경우에만 x로 파일 생성 가능, 있으면 에러 발생\n",
        "f=open(\"b.txt\",'x')\n",
        "f.write(\"abcde\")\n",
        "f.close()\n",
        "\n",
        "files.download('b.txt')"
      ],
      "metadata": {
        "colab": {
          "base_uri": "https://localhost:8080/",
          "height": 245
        },
        "id": "ivaeSxVrzDS8",
        "outputId": "3bdeb7f1-7757-47c4-c0f5-6abc398d337e"
      },
      "execution_count": null,
      "outputs": [
        {
          "output_type": "error",
          "ename": "FileExistsError",
          "evalue": "ignored",
          "traceback": [
            "\u001b[0;31m---------------------------------------------------------------------------\u001b[0m",
            "\u001b[0;31mFileExistsError\u001b[0m                           Traceback (most recent call last)",
            "\u001b[0;32m<ipython-input-8-f65cbd836cae>\u001b[0m in \u001b[0;36m<cell line: 3>\u001b[0;34m()\u001b[0m\n\u001b[1;32m      1\u001b[0m \u001b[0;32mfrom\u001b[0m \u001b[0mgoogle\u001b[0m\u001b[0;34m.\u001b[0m\u001b[0mcolab\u001b[0m \u001b[0;32mimport\u001b[0m \u001b[0mfiles\u001b[0m\u001b[0;34m\u001b[0m\u001b[0;34m\u001b[0m\u001b[0m\n\u001b[1;32m      2\u001b[0m \u001b[0;34m\u001b[0m\u001b[0m\n\u001b[0;32m----> 3\u001b[0;31m \u001b[0mf\u001b[0m\u001b[0;34m=\u001b[0m\u001b[0mopen\u001b[0m\u001b[0;34m(\u001b[0m\u001b[0;34m\"b.txt\"\u001b[0m\u001b[0;34m,\u001b[0m\u001b[0;34m'x'\u001b[0m\u001b[0;34m)\u001b[0m\u001b[0;34m\u001b[0m\u001b[0;34m\u001b[0m\u001b[0m\n\u001b[0m\u001b[1;32m      4\u001b[0m \u001b[0mf\u001b[0m\u001b[0;34m.\u001b[0m\u001b[0mwrite\u001b[0m\u001b[0;34m(\u001b[0m\u001b[0;34m\"abcde\"\u001b[0m\u001b[0;34m)\u001b[0m\u001b[0;34m\u001b[0m\u001b[0;34m\u001b[0m\u001b[0m\n\u001b[1;32m      5\u001b[0m \u001b[0mf\u001b[0m\u001b[0;34m.\u001b[0m\u001b[0mclose\u001b[0m\u001b[0;34m(\u001b[0m\u001b[0;34m)\u001b[0m\u001b[0;34m\u001b[0m\u001b[0;34m\u001b[0m\u001b[0m\n",
            "\u001b[0;31mFileExistsError\u001b[0m: [Errno 17] File exists: 'b.txt'"
          ]
        }
      ]
    },
    {
      "cell_type": "code",
      "source": [
        "# 여러줄 내용 입력\n",
        "from google.colab import files\n",
        "f=open(\"a.txt\",'w')\n",
        "#f.write(\"12345678\\n987654321\\nabcde\")\n",
        "f.write(\"\"\"1234\n",
        "4567\n",
        "890\"\"\")\n",
        "f.close()\n",
        "\n",
        "files.download('a.txt')"
      ],
      "metadata": {
        "colab": {
          "base_uri": "https://localhost:8080/",
          "height": 17
        },
        "id": "BFWQ1IUYzbhE",
        "outputId": "d39087e0-aeab-4bfc-e7b2-99fc563d0a9b"
      },
      "execution_count": null,
      "outputs": [
        {
          "output_type": "display_data",
          "data": {
            "text/plain": [
              "<IPython.core.display.Javascript object>"
            ],
            "application/javascript": [
              "\n",
              "    async function download(id, filename, size) {\n",
              "      if (!google.colab.kernel.accessAllowed) {\n",
              "        return;\n",
              "      }\n",
              "      const div = document.createElement('div');\n",
              "      const label = document.createElement('label');\n",
              "      label.textContent = `Downloading \"${filename}\": `;\n",
              "      div.appendChild(label);\n",
              "      const progress = document.createElement('progress');\n",
              "      progress.max = size;\n",
              "      div.appendChild(progress);\n",
              "      document.body.appendChild(div);\n",
              "\n",
              "      const buffers = [];\n",
              "      let downloaded = 0;\n",
              "\n",
              "      const channel = await google.colab.kernel.comms.open(id);\n",
              "      // Send a message to notify the kernel that we're ready.\n",
              "      channel.send({})\n",
              "\n",
              "      for await (const message of channel.messages) {\n",
              "        // Send a message to notify the kernel that we're ready.\n",
              "        channel.send({})\n",
              "        if (message.buffers) {\n",
              "          for (const buffer of message.buffers) {\n",
              "            buffers.push(buffer);\n",
              "            downloaded += buffer.byteLength;\n",
              "            progress.value = downloaded;\n",
              "          }\n",
              "        }\n",
              "      }\n",
              "      const blob = new Blob(buffers, {type: 'application/binary'});\n",
              "      const a = document.createElement('a');\n",
              "      a.href = window.URL.createObjectURL(blob);\n",
              "      a.download = filename;\n",
              "      div.appendChild(a);\n",
              "      a.click();\n",
              "      div.remove();\n",
              "    }\n",
              "  "
            ]
          },
          "metadata": {}
        },
        {
          "output_type": "display_data",
          "data": {
            "text/plain": [
              "<IPython.core.display.Javascript object>"
            ],
            "application/javascript": [
              "download(\"download_7cf29965-36ab-47c9-a7cc-1c008ebb673b\", \"a.txt\", 13)"
            ]
          },
          "metadata": {}
        }
      ]
    },
    {
      "cell_type": "code",
      "source": [
        "# 리스트, 튜플 내용을 입력\n",
        "from google.colab import files\n",
        "\n",
        "t=(\"1\",\"2\",\"3\",\"4\",\"\\n\")\n",
        "l=[\"a\",\"b\",\"c\",\"d\"]\n",
        "f=open(\"a.txt\",'w')\n",
        "f.writelines(t)\n",
        "f.writelines(l)\n",
        "f.close()\n",
        "\n",
        "files.download('a.txt')"
      ],
      "metadata": {
        "colab": {
          "base_uri": "https://localhost:8080/",
          "height": 17
        },
        "id": "KgbGsbif0a0j",
        "outputId": "b283d0a2-a5b0-4820-c676-62ea2d52aec3"
      },
      "execution_count": null,
      "outputs": [
        {
          "output_type": "display_data",
          "data": {
            "text/plain": [
              "<IPython.core.display.Javascript object>"
            ],
            "application/javascript": [
              "\n",
              "    async function download(id, filename, size) {\n",
              "      if (!google.colab.kernel.accessAllowed) {\n",
              "        return;\n",
              "      }\n",
              "      const div = document.createElement('div');\n",
              "      const label = document.createElement('label');\n",
              "      label.textContent = `Downloading \"${filename}\": `;\n",
              "      div.appendChild(label);\n",
              "      const progress = document.createElement('progress');\n",
              "      progress.max = size;\n",
              "      div.appendChild(progress);\n",
              "      document.body.appendChild(div);\n",
              "\n",
              "      const buffers = [];\n",
              "      let downloaded = 0;\n",
              "\n",
              "      const channel = await google.colab.kernel.comms.open(id);\n",
              "      // Send a message to notify the kernel that we're ready.\n",
              "      channel.send({})\n",
              "\n",
              "      for await (const message of channel.messages) {\n",
              "        // Send a message to notify the kernel that we're ready.\n",
              "        channel.send({})\n",
              "        if (message.buffers) {\n",
              "          for (const buffer of message.buffers) {\n",
              "            buffers.push(buffer);\n",
              "            downloaded += buffer.byteLength;\n",
              "            progress.value = downloaded;\n",
              "          }\n",
              "        }\n",
              "      }\n",
              "      const blob = new Blob(buffers, {type: 'application/binary'});\n",
              "      const a = document.createElement('a');\n",
              "      a.href = window.URL.createObjectURL(blob);\n",
              "      a.download = filename;\n",
              "      div.appendChild(a);\n",
              "      a.click();\n",
              "      div.remove();\n",
              "    }\n",
              "  "
            ]
          },
          "metadata": {}
        },
        {
          "output_type": "display_data",
          "data": {
            "text/plain": [
              "<IPython.core.display.Javascript object>"
            ],
            "application/javascript": [
              "download(\"download_bd8c5d5e-1702-44e5-981c-2a4307cbf5a4\", \"a.txt\", 29)"
            ]
          },
          "metadata": {}
        }
      ]
    },
    {
      "cell_type": "code",
      "source": [
        "# 리스트, 튜플 내용을 입력\n",
        "from google.colab import files\n",
        "\n",
        "t=(\"1\",\"2\",\"3\",\"4\",\"\\n\")\n",
        "l=[\"a\",\"b\",\"c\",\"d\"]\n",
        "f=open(\"a.txt\",'w')\n",
        "for i in range(0,5):\n",
        "  f.writelines(t)\n",
        "f.writelines(l)\n",
        "f.close()\n",
        "\n",
        "files.download('a.txt')"
      ],
      "metadata": {
        "id": "M9xUUrqc1txF"
      },
      "execution_count": null,
      "outputs": []
    },
    {
      "cell_type": "code",
      "source": [
        "#read 모드로 파일 열기\n",
        "from google.colab import files\n",
        "\n",
        "f=open(\"a.txt\",'w')\n",
        "f.write(\"1234\")\n",
        "f.close()\n",
        "\n",
        "f=open(\"a.txt\",'r')\n",
        "print(f.read())\n",
        "f.close()\n",
        "\n",
        "files.download('a.txt')"
      ],
      "metadata": {
        "colab": {
          "base_uri": "https://localhost:8080/",
          "height": 35
        },
        "id": "s83yoh-91zkb",
        "outputId": "c613a896-4774-4b38-ab8e-d947e072561f"
      },
      "execution_count": null,
      "outputs": [
        {
          "output_type": "stream",
          "name": "stdout",
          "text": [
            "1234\n"
          ]
        },
        {
          "output_type": "display_data",
          "data": {
            "text/plain": [
              "<IPython.core.display.Javascript object>"
            ],
            "application/javascript": [
              "\n",
              "    async function download(id, filename, size) {\n",
              "      if (!google.colab.kernel.accessAllowed) {\n",
              "        return;\n",
              "      }\n",
              "      const div = document.createElement('div');\n",
              "      const label = document.createElement('label');\n",
              "      label.textContent = `Downloading \"${filename}\": `;\n",
              "      div.appendChild(label);\n",
              "      const progress = document.createElement('progress');\n",
              "      progress.max = size;\n",
              "      div.appendChild(progress);\n",
              "      document.body.appendChild(div);\n",
              "\n",
              "      const buffers = [];\n",
              "      let downloaded = 0;\n",
              "\n",
              "      const channel = await google.colab.kernel.comms.open(id);\n",
              "      // Send a message to notify the kernel that we're ready.\n",
              "      channel.send({})\n",
              "\n",
              "      for await (const message of channel.messages) {\n",
              "        // Send a message to notify the kernel that we're ready.\n",
              "        channel.send({})\n",
              "        if (message.buffers) {\n",
              "          for (const buffer of message.buffers) {\n",
              "            buffers.push(buffer);\n",
              "            downloaded += buffer.byteLength;\n",
              "            progress.value = downloaded;\n",
              "          }\n",
              "        }\n",
              "      }\n",
              "      const blob = new Blob(buffers, {type: 'application/binary'});\n",
              "      const a = document.createElement('a');\n",
              "      a.href = window.URL.createObjectURL(blob);\n",
              "      a.download = filename;\n",
              "      div.appendChild(a);\n",
              "      a.click();\n",
              "      div.remove();\n",
              "    }\n",
              "  "
            ]
          },
          "metadata": {}
        },
        {
          "output_type": "display_data",
          "data": {
            "text/plain": [
              "<IPython.core.display.Javascript object>"
            ],
            "application/javascript": [
              "download(\"download_9cf05048-2f3b-4571-a48b-0cf6dff188c5\", \"a.txt\", 4)"
            ]
          },
          "metadata": {}
        }
      ]
    },
    {
      "cell_type": "code",
      "source": [
        "# readlin() 함수 : 한줄씩 가져옴\n",
        "f=open(\"a.txt\",'r')\n",
        "print(f.readline())\n",
        "print(f.readline())\n",
        "f.close()"
      ],
      "metadata": {
        "colab": {
          "base_uri": "https://localhost:8080/"
        },
        "id": "xSjL7-5k2b9b",
        "outputId": "aedfc4ae-7caa-486d-b9a1-268865df19d1"
      },
      "execution_count": null,
      "outputs": [
        {
          "output_type": "stream",
          "name": "stdout",
          "text": [
            "1234\n",
            "\n"
          ]
        }
      ]
    },
    {
      "cell_type": "code",
      "source": [
        "from google.colab import files\n",
        "import os\n",
        "if os.path.exists(\"a.txt\"):\n",
        "  os.remove(\"a.txt\") # 폴더를 삭제하려면 os.rmdir(\"folder\")\n",
        "else:\n",
        "  print(\"파일이 존재하지 않음\")\n"
      ],
      "metadata": {
        "id": "IyfHMs3_2byb"
      },
      "execution_count": null,
      "outputs": []
    },
    {
      "cell_type": "code",
      "source": [
        "from google.colab import files\n",
        "import os\n",
        "\n",
        "print(os.listdir('.'))\n",
        "os.rename(\"b.txt\",\"a.txt\") # title 이름 변경\n",
        "print(os.listdir('.'))"
      ],
      "metadata": {
        "colab": {
          "base_uri": "https://localhost:8080/"
        },
        "id": "mg4QhMKT91J9",
        "outputId": "f875db53-8306-47ed-9b17-b7d4c0c43749"
      },
      "execution_count": null,
      "outputs": [
        {
          "output_type": "stream",
          "name": "stdout",
          "text": [
            "['.config', 'b.txt', '.ipynb_checkpoints', 'sample_data']\n",
            "['.config', 'a.txt', '.ipynb_checkpoints', 'sample_data']\n"
          ]
        }
      ]
    },
    {
      "cell_type": "code",
      "source": [
        "from google.colab import files\n",
        "import os\n",
        "# title 존재 유무 확인\n",
        "print(os.path.exists('a.txt'))\n",
        "print(os.path.exists('b.txt'))"
      ],
      "metadata": {
        "colab": {
          "base_uri": "https://localhost:8080/"
        },
        "id": "wYqIHusD-0w-",
        "outputId": "d5aa3473-0d6c-478d-b39c-059cf8be43fe"
      },
      "execution_count": null,
      "outputs": [
        {
          "output_type": "stream",
          "name": "stdout",
          "text": [
            "True\n",
            "False\n"
          ]
        }
      ]
    },
    {
      "cell_type": "code",
      "source": [
        "# 구구단 파일로 저장\n",
        "from google.colab import files\n",
        "import sys\n",
        "\n",
        "f=open(\"a.txt\",'w') # euc-kr\n",
        "sys.stdout = f\n",
        "for i in range(2,10):\n",
        "  for j in range(1,10):\n",
        "    print(\"{} x {} = {}\". format(i, j, i*j))\n",
        "  print()\n",
        "f.close\n",
        "\n",
        "files.download('a.txt')"
      ],
      "metadata": {
        "colab": {
          "base_uri": "https://localhost:8080/",
          "height": 17
        },
        "id": "-0oqKAiO_dsN",
        "outputId": "97ce3f68-7020-4312-d7af-68334bfb0dc0"
      },
      "execution_count": null,
      "outputs": [
        {
          "output_type": "display_data",
          "data": {
            "text/plain": [
              "<IPython.core.display.Javascript object>"
            ],
            "application/javascript": [
              "\n",
              "    async function download(id, filename, size) {\n",
              "      if (!google.colab.kernel.accessAllowed) {\n",
              "        return;\n",
              "      }\n",
              "      const div = document.createElement('div');\n",
              "      const label = document.createElement('label');\n",
              "      label.textContent = `Downloading \"${filename}\": `;\n",
              "      div.appendChild(label);\n",
              "      const progress = document.createElement('progress');\n",
              "      progress.max = size;\n",
              "      div.appendChild(progress);\n",
              "      document.body.appendChild(div);\n",
              "\n",
              "      const buffers = [];\n",
              "      let downloaded = 0;\n",
              "\n",
              "      const channel = await google.colab.kernel.comms.open(id);\n",
              "      // Send a message to notify the kernel that we're ready.\n",
              "      channel.send({})\n",
              "\n",
              "      for await (const message of channel.messages) {\n",
              "        // Send a message to notify the kernel that we're ready.\n",
              "        channel.send({})\n",
              "        if (message.buffers) {\n",
              "          for (const buffer of message.buffers) {\n",
              "            buffers.push(buffer);\n",
              "            downloaded += buffer.byteLength;\n",
              "            progress.value = downloaded;\n",
              "          }\n",
              "        }\n",
              "      }\n",
              "      const blob = new Blob(buffers, {type: 'application/binary'});\n",
              "      const a = document.createElement('a');\n",
              "      a.href = window.URL.createObjectURL(blob);\n",
              "      a.download = filename;\n",
              "      div.appendChild(a);\n",
              "      a.click();\n",
              "      div.remove();\n",
              "    }\n",
              "  "
            ]
          },
          "metadata": {}
        },
        {
          "output_type": "display_data",
          "data": {
            "text/plain": [
              "<IPython.core.display.Javascript object>"
            ],
            "application/javascript": [
              "download(\"download_713e8f10-235b-4c13-8f47-c7a8ec99ac1a\", \"a.txt\", 786)"
            ]
          },
          "metadata": {}
        }
      ]
    },
    {
      "cell_type": "code",
      "source": [
        "f=open(\"c.txt\",'w', encoding='utf8')\n",
        "f.write(\"동해물과 백두산이 마르고 닳도록 \\n 하느님이 보우하사 \\n 우리나라 만세\")\n",
        "f.close()\n",
        " \n",
        "f=open(\"c.txt\",'r', encoding='utf8')\n",
        "lines=f.readlines()\n",
        "for line in lines:\n",
        "  print(line, end='')\n",
        "f.close\n",
        "\n"
      ],
      "metadata": {
        "colab": {
          "base_uri": "https://localhost:8080/"
        },
        "id": "T_cjyR4MDhV2",
        "outputId": "1c15a2e1-36b1-461e-9f4e-ef2bfafee446"
      },
      "execution_count": null,
      "outputs": [
        {
          "output_type": "execute_result",
          "data": {
            "text/plain": [
              "<function TextIOWrapper.close()>"
            ]
          },
          "metadata": {},
          "execution_count": 41
        }
      ]
    },
    {
      "cell_type": "code",
      "source": [
        "y=int(input(\"줄 수 입력하세요 : \"))\n",
        "x=int(y/2)+1\n",
        "\n",
        "for i in range(1,2*x):\n",
        "  if(i<=x):\n",
        "    for j in range(x-i):\n",
        "      print(\" \", end='')\n",
        "    for j in range(2*i-1):\n",
        "      print(\"@\", end='')\n",
        "  print()\n",
        "else:\n",
        "  for j in range(i-x):\n",
        "    print(\" \",end='')\n",
        "  for j in range((2*x-i)*2-1):\n",
        "    print(\"@\", end='')\n",
        "  print()"
      ],
      "metadata": {
        "colab": {
          "base_uri": "https://localhost:8080/"
        },
        "id": "839QEj4zPVIQ",
        "outputId": "dc7d669b-7ef5-4d49-821b-2c0f3b8286fd"
      },
      "execution_count": null,
      "outputs": [
        {
          "name": "stdout",
          "output_type": "stream",
          "text": [
            "줄 수 입력하세요 : 15\n"
          ]
        }
      ]
    },
    {
      "cell_type": "code",
      "source": [
        "x=int(input(\"줄수입력 : \"))\n",
        "for i in range(1,x+1):\n",
        "  for j in range(x+1-i):\n",
        "    print(\"@\", end='')\n",
        "  print()\n",
        "\"\"\"\n",
        "@@@@@\n",
        "@@@@\n",
        "@@@\n",
        "@@\n",
        "@\n",
        "\"\"\""
      ],
      "metadata": {
        "colab": {
          "base_uri": "https://localhost:8080/",
          "height": 54
        },
        "id": "Fwi4QLqGV5SD",
        "outputId": "73c1c006-c39d-46dd-d91d-1b132c400839"
      },
      "execution_count": null,
      "outputs": [
        {
          "name": "stdout",
          "output_type": "stream",
          "text": [
            "줄수입력 : 15\n"
          ]
        },
        {
          "output_type": "execute_result",
          "data": {
            "text/plain": [
              "'\\n@@@@@\\n@@@@\\n@@@\\n@@\\n@\\n'"
            ],
            "application/vnd.google.colaboratory.intrinsic+json": {
              "type": "string"
            }
          },
          "metadata": {},
          "execution_count": 53
        }
      ]
    },
    {
      "cell_type": "markdown",
      "source": [
        "#전역변수 지정 및 지역 변수 지정"
      ],
      "metadata": {
        "id": "iT0Ydcg1RNO_"
      }
    },
    {
      "cell_type": "markdown",
      "source": [
        "# 타이틀 제작"
      ],
      "metadata": {
        "id": "Be48ut-lRqM_"
      }
    }
  ]
}