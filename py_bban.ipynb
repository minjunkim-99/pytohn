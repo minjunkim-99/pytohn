{
  "nbformat": 4,
  "nbformat_minor": 0,
  "metadata": {
    "colab": {
      "provenance": [],
      "collapsed_sections": [
        "JKEq49XPmt6Q"
      ],
      "authorship_tag": "ABX9TyMukW/Q4yP4YneBicOQ38BZ",
      "include_colab_link": true
    },
    "kernelspec": {
      "name": "python3",
      "display_name": "Python 3"
    },
    "language_info": {
      "name": "python"
    }
  },
  "cells": [
    {
      "cell_type": "markdown",
      "metadata": {
        "id": "view-in-github",
        "colab_type": "text"
      },
      "source": [
        "<a href=\"https://colab.research.google.com/github/minjunkim-99/pytohn/blob/main/py_bban.ipynb\" target=\"_parent\"><img src=\"https://colab.research.google.com/assets/colab-badge.svg\" alt=\"Open In Colab\"/></a>"
      ]
    },
    {
      "cell_type": "markdown",
      "source": [
        "#**CH1 파이썬 문법**"
      ],
      "metadata": {
        "id": "taE1OCOVh7CH"
      }
    },
    {
      "cell_type": "markdown",
      "source": [
        "## 자료형  \n",
        "#### 숫자형  \n",
        "* 정수 : 123, -20, 0  \n",
        "* 실수 : 123.45, -423.24, 6.08e9  \n",
        "* 8진수 : 0o456, 0o123  \n",
        "* 16진수 : 0xFF, 0x0D, 0x0A"
      ],
      "metadata": {
        "id": "t7OSk_i2iipv"
      }
    },
    {
      "cell_type": "markdown",
      "source": [
        "#### 문자열  \n",
        "1.큰 따옴표 : \"Hello World! it'\\s\"  \n",
        "2.작은 따옴표 : '안녕하세요'  \n",
        "3.큰 따옴표 3 : \"\"\"Hello!\"\"\"  \n",
        "4.작은 따옴표 4 : ''''대충 문장이 길면 작은 따옴표 4개 쓴다는 뜻''''  \n"
      ],
      "metadata": {
        "id": "JKEq49XPmt6Q"
      }
    },
    {
      "cell_type": "markdown",
      "source": [
        "#### 변수\n",
        "* 문자 또는 밑줄로 시작 (alpha, beta, _kim)  \n",
        "* 대소문자로 구분한다.(sum, Sum, SUM)\n",
        "* 영문자, 숫자, 밑줄(a-z, 0-9,_)  \n",
        "* 파이썬 키워드는 사용 불가"
      ],
      "metadata": {
        "id": "NktopjRxoVon"
      }
    },
    {
      "cell_type": "code",
      "source": [
        "myName=\"minjun Kim\" #카멜 표기법 약칭 낙타표기법\n",
        "my_Name=\"김민준\" #스네이크 표기법\n",
        "MyName=\"kim\" #파스칼 표기법\n",
        "_my_Name=\"korea\"\n",
        "MYNAME=\"failed\"\n",
        "my2name=\"12345\"\n",
        "#틀린 예시 (왠지 시험에 나올거같음)\n",
        "#2myname='9876'\n",
        "#my-name=\"6974\"\n",
        "#my name='00000'\n",
        "myStr='123' # 작은 따옴표는 글자\n",
        "myNum=123 # <--경우는 숫자\n",
        "print(myStr,myNum)\n",
        "print(type(myStr))\n",
        "print(type(myNum))"
      ],
      "metadata": {
        "colab": {
          "base_uri": "https://localhost:8080/"
        },
        "id": "2UEyTtvgtieX",
        "outputId": "9e37ccd9-8753-4738-8093-e3d146706c51"
      },
      "execution_count": null,
      "outputs": [
        {
          "output_type": "stream",
          "name": "stdout",
          "text": [
            "123 123\n",
            "<class 'str'>\n",
            "<class 'int'>\n"
          ]
        }
      ]
    },
    {
      "cell_type": "markdown",
      "source": [
        "####여러개 변수 할당"
      ],
      "metadata": {
        "id": "yqNw0zoQv-3X"
      }
    },
    {
      "cell_type": "code",
      "source": [
        "x,y,z=\"바나나\",\"알러지\",\"원숭이\"\n",
        "print(x)\n",
        "print(y)\n",
        "print(z)"
      ],
      "metadata": {
        "colab": {
          "base_uri": "https://localhost:8080/"
        },
        "id": "njE5ls4JwD8e",
        "outputId": "fd3340e8-f81c-4eeb-fe0e-1821b23de303"
      },
      "execution_count": null,
      "outputs": [
        {
          "output_type": "stream",
          "name": "stdout",
          "text": [
            "바나나\n",
            "알러지\n",
            "원숭이\n"
          ]
        }
      ]
    },
    {
      "cell_type": "code",
      "source": [
        "a=b=c=\"오렌지\"\n",
        "print(a)\n",
        "print(b)\n",
        "print(c)"
      ],
      "metadata": {
        "colab": {
          "base_uri": "https://localhost:8080/"
        },
        "id": "KEph5KwgwbUW",
        "outputId": "63a4b79f-42dc-4061-baa8-34773282eac4"
      },
      "execution_count": null,
      "outputs": [
        {
          "output_type": "stream",
          "name": "stdout",
          "text": [
            "오렌지\n",
            "오렌지\n",
            "오렌지\n"
          ]
        }
      ]
    },
    {
      "cell_type": "code",
      "source": [
        "fruit=[\"포도\",\"사과\",\"오렌지\"]\n",
        "x,y,z=fruit\n",
        "print(x)\n",
        "print(y)\n",
        "print(z)"
      ],
      "metadata": {
        "colab": {
          "base_uri": "https://localhost:8080/"
        },
        "id": "mNU6ctVgw6tP",
        "outputId": "c1c0d6b6-2699-4231-ca67-cab6a3971b79"
      },
      "execution_count": null,
      "outputs": [
        {
          "output_type": "stream",
          "name": "stdout",
          "text": [
            "포도\n",
            "사과\n",
            "오렌지\n"
          ]
        }
      ]
    },
    {
      "cell_type": "code",
      "source": [
        "x=\"Life\"\n",
        "y=\"is\"\n",
        "z=\"Beautiful\"\n",
        "print(x,y,z)\n",
        "print(x+y+z)"
      ],
      "metadata": {
        "colab": {
          "base_uri": "https://localhost:8080/"
        },
        "id": "efCALdjlx4NQ",
        "outputId": "0f86191d-0222-420d-f741-0c1055cdf746"
      },
      "execution_count": null,
      "outputs": [
        {
          "output_type": "stream",
          "name": "stdout",
          "text": [
            "Life is Beautiful\n",
            "LifeisBeautiful\n"
          ]
        }
      ]
    },
    {
      "cell_type": "code",
      "source": [
        "a=1\n",
        "b=2\n",
        "c=3\n",
        "print(a,b,c,)\n",
        "print(a+b+c)"
      ],
      "metadata": {
        "colab": {
          "base_uri": "https://localhost:8080/"
        },
        "id": "1F9wlma7yOhm",
        "outputId": "df53419c-c506-4d30-ed97-dc5d6159c879"
      },
      "execution_count": null,
      "outputs": [
        {
          "output_type": "stream",
          "name": "stdout",
          "text": [
            "1 2 3\n",
            "6\n"
          ]
        }
      ]
    },
    {
      "cell_type": "markdown",
      "source": [
        "#### 데이터 유형  \n",
        "+ 텍스트  \n",
        "+ 숫자  \n",
        "+ 불(Bool)  "
      ],
      "metadata": {
        "id": "u4fRKAmfyseF"
      }
    },
    {
      "cell_type": "code",
      "source": [
        "a=10\n",
        "b=3\n",
        "c=a/b #나눗셈\n",
        "d=a//b #몫\n",
        "e=a%b #나머지\n",
        "f=a*b #곱셈\n",
        "g=a**b #제곱(시험에 나옴)\n",
        "print(c,d,e,f,g)"
      ],
      "metadata": {
        "id": "cl7UxqkAktEf"
      },
      "execution_count": null,
      "outputs": []
    },
    {
      "cell_type": "markdown",
      "source": [
        "####input() 함수를 이용한 계산기"
      ],
      "metadata": {
        "id": "SCcEDZ2fAagd"
      }
    },
    {
      "cell_type": "code",
      "source": [
        "a = int(input(\"첫번째 숫자를 입력해주세요: \"))\n",
        "b = int(input(\"두번째 숫자를 입력해주세요: \"))\n",
        "result = a + b\n",
        "print(a, '+', b, '=', result)\n",
        "result = a - b\n",
        "print(a, '-', b, '=', result)\n",
        "result = a ** b\n",
        "print(a, '**', b, '=', result)\n",
        "result = a // b\n",
        "print(a, '//', b, '=', result)"
      ],
      "metadata": {
        "id": "Jgstt4WJAjy1"
      },
      "execution_count": null,
      "outputs": []
    },
    {
      "cell_type": "code",
      "source": [
        "num1 = input(\"숫자입력:\")\n",
        "num2 = input(\"숫자입력:\")\n",
        "result = num1 + num2\n",
        "print(type(num1))\n",
        "print(num1,'+', num2,'=',result)"
      ],
      "metadata": {
        "id": "i2qezcK3DcLu"
      },
      "execution_count": null,
      "outputs": []
    },
    {
      "cell_type": "markdown",
      "source": [
        "#### 전화번호, 이름 무게를 입력받아 출력:\n",
        "입력한 내용은 이름 \"김민준\",  \n",
        "전화번호 \"010-4237-1537\" 입니다.  \n",
        "무게는 입력한 g x 10원 = 산출 금액 출력"
      ],
      "metadata": {
        "id": "x0cMmEBpEa90"
      }
    },
    {
      "cell_type": "code",
      "source": [
        "a=input(\"전화번호를 입력해주세요 : \")\n",
        "b=input(\"이름을 입력해주세요 : \")\n",
        "c=int(input(\"무게를 입력해주세요 : \"))\n",
        "d= \"전화번호 : \"\n",
        "e= \"이름 : \"\n",
        "f= \"산출 금액: \"\n",
        "g= \"원\"\n",
        "result = c*10\n",
        "print(d, a)\n",
        "print(e, b)\n",
        "print(f, result, g)"
      ],
      "metadata": {
        "id": "o2mLLnDvEz41"
      },
      "execution_count": null,
      "outputs": []
    },
    {
      "cell_type": "markdown",
      "source": [
        "#2. print() 서식 출력"
      ],
      "metadata": {
        "id": "Tgfe2m30ibFk"
      }
    },
    {
      "cell_type": "markdown",
      "source": [
        "예시 %7.1에서 7은 .을 포함해서 총 7개의 자릿수를 가지며 1은 소수점의 자릿수이다.  \n",
        "%07.1일때 123.45는 00123.4가 된다.\n",
        "(시험 출제)"
      ],
      "metadata": {
        "id": "dS2WI55DhpSU"
      }
    },
    {
      "cell_type": "code",
      "source": [
        "print(\"%d\" % 123)  \n",
        "print(\"%5d\" % 123)\n",
        "print(\"%05d\" % 123)\n",
        "print(\"%f\" % 123.45)\n",
        "print(\"%7.1f\" % 123.45)\n",
        "print(\"%7.3f\" % 123.45)\n",
        "\n",
        "print(\"%s\" % \"대한민국\")\n",
        "print(\"%8s\" % \"대한민국\")"
      ],
      "metadata": {
        "id": "058aEgUyiphU"
      },
      "execution_count": null,
      "outputs": []
    },
    {
      "cell_type": "markdown",
      "source": [
        "### Format 함수 : 순서 지정 가능"
      ],
      "metadata": {
        "id": "rLEh4gOGkqc0"
      }
    },
    {
      "cell_type": "code",
      "source": [
        "print(\"{0:d} {1:5d} {2:05d}\".format(123,456,789))"
      ],
      "metadata": {
        "id": "88ZnmoeKj_uM"
      },
      "execution_count": null,
      "outputs": []
    },
    {
      "cell_type": "code",
      "source": [
        "print(\"{2:d} {1:5d} {0:05d}\".format(123,456,789))"
      ],
      "metadata": {
        "id": "JmFAusN9kwXr"
      },
      "execution_count": null,
      "outputs": []
    },
    {
      "cell_type": "markdown",
      "source": [
        "서식 출력"
      ],
      "metadata": {
        "id": "Srk0PEEflBHr"
      }
    },
    {
      "cell_type": "code",
      "source": [
        "print(\"\\n줄바꿈\\n연습입니다.\")"
      ],
      "metadata": {
        "id": "vlUXkI3-lDwD"
      },
      "execution_count": null,
      "outputs": []
    },
    {
      "cell_type": "code",
      "source": [
        "print(\"\\t탭키\\t연습입니다.\")"
      ],
      "metadata": {
        "id": "_SrNOZgblSLL"
      },
      "execution_count": null,
      "outputs": []
    },
    {
      "cell_type": "code",
      "source": [
        "print(\"글자가 \\\"강조\\\"되는 효과1\")\n",
        "print(\"글자가 \\'강조\\'되는 효과2\")\n",
        "print(\"역슬래시 3개출력 \\\\\\\\\\\\\")\n",
        "print(r\"\\n \\t \\\" \\\\ \\'@를 그대로 출력\") #그대로 출력됨"
      ],
      "metadata": {
        "id": "jZ-VukUyls60"
      },
      "execution_count": null,
      "outputs": []
    },
    {
      "cell_type": "markdown",
      "source": [
        "#### 관계 연산자"
      ],
      "metadata": {
        "id": "w0cD0kkJokKc"
      }
    },
    {
      "cell_type": "code",
      "source": [
        "a,b = 10,20\n",
        "print(a==b, a!=b, a>b, a<b, a>=b, a<=b)"
      ],
      "metadata": {
        "id": "EZx5SrvKonaj"
      },
      "execution_count": null,
      "outputs": []
    },
    {
      "cell_type": "markdown",
      "source": [
        "논리 연산자"
      ],
      "metadata": {
        "id": "VESTraDvpFHU"
      }
    },
    {
      "cell_type": "code",
      "source": [
        "a=99\n",
        "print((a>100) and (a<200))\n",
        "print((a>100) or (a<200))\n",
        "print(not(a==100))"
      ],
      "metadata": {
        "id": "FC1Ga9XfpIFr"
      },
      "execution_count": null,
      "outputs": []
    },
    {
      "cell_type": "code",
      "source": [
        "if(123):\n",
        "  print(\"진실이면 보입니다.\")\n",
        "if(0):\n",
        "  print(\"거짓이면 안 보입니다.\")"
      ],
      "metadata": {
        "id": "loHZjhmPpj5z"
      },
      "execution_count": null,
      "outputs": []
    },
    {
      "cell_type": "markdown",
      "source": [
        "### 퀴즈2 숫자 입력을 받아 동전으로 바꿔주는 프로그램( 500원, 100원, 50원, 10원)"
      ],
      "metadata": {
        "id": "TeOKTMJ9vtqL"
      }
    },
    {
      "cell_type": "code",
      "source": [
        "bill, c500, c100, c50, c10 = 0,0,0,0,0\n",
        "bill=int(input(\"값을 입력해주세요. : \"))\n",
        "c500 = bill // 500\n",
        "bill %= 500 #bill %= 500\n",
        "c100 = bill // 100 \n",
        "bill %= 100\n",
        "c50 = bill // 50\n",
        "bill %=  50\n",
        "c10 = bill // 10\n",
        "bill %= 10\n",
        "print(\"500원 %d 개\" % c500)\n",
        "print(\"100원 %d 개\" % c100)\n",
        "print(\"50원 %d 개\" % c50)\n",
        "print(\"10원 %d 개\" % c10)\n",
        "print(\"잔돈 %d원\" % bill)"
      ],
      "metadata": {
        "id": "RKWYMhcKv-9L"
      },
      "execution_count": null,
      "outputs": []
    },
    {
      "cell_type": "markdown",
      "source": [
        "#### Week 2"
      ],
      "metadata": {
        "id": "fNvr4V0HoZVj"
      }
    },
    {
      "cell_type": "markdown",
      "source": [
        "## 조건문"
      ],
      "metadata": {
        "id": "DdcRonJq0XU0"
      }
    },
    {
      "cell_type": "code",
      "source": [
        "a=90\n",
        "if(a<100):\n",
        "  print(\"100보다 작음\")\n",
        "  print(\"거짓이면 이문장은 보이지 않음\")\n",
        "print(\"프로그램 끝\")"
      ],
      "metadata": {
        "id": "mJ35pXFj1JmK"
      },
      "execution_count": null,
      "outputs": []
    },
    {
      "cell_type": "code",
      "source": [
        "a=101\n",
        "if(a<100):\n",
        "  print(\"100보다 작음\")\n",
        "else :\n",
        "  print(\"100보다 크다\")\n",
        "print(\"프로그램 끝\")"
      ],
      "metadata": {
        "id": "pkIRbCki1u9l"
      },
      "execution_count": null,
      "outputs": []
    },
    {
      "cell_type": "code",
      "source": [
        "a=int(input(\"정수를 입력하세요:\"))\n",
        "if(a%2==0):\n",
        "  print(\"짝수\")\n",
        "else:\n",
        "  print(\"홀수\")"
      ],
      "metadata": {
        "id": "kS9k0eqt2I9T"
      },
      "execution_count": null,
      "outputs": []
    },
    {
      "cell_type": "code",
      "source": [
        "a=111\n",
        "if(a>50):\n",
        "  if(a<100):\n",
        "    print(\"50<a<100\")\n",
        "  else:\n",
        "    print(\"a>100\")\n",
        "else:\n",
        "  print(\"a<50\")"
      ],
      "metadata": {
        "id": "lQxZzsc428yL"
      },
      "execution_count": null,
      "outputs": []
    },
    {
      "cell_type": "code",
      "source": [
        "fruit=['사과','배','감','포도']\n",
        "fruit.append('딸기')\n",
        "if '딸기' in fruit :\n",
        "  print(\"딸기가 있음\")\n",
        "print(fruit)"
      ],
      "metadata": {
        "id": "wShfcM-A7W7b"
      },
      "execution_count": null,
      "outputs": []
    },
    {
      "cell_type": "code",
      "source": [
        "import random\n",
        "number=[]\n",
        "for num in range(0,7):\n",
        "  number.append(random.randrange(1,49))\n",
        "print(\"생성된 리스트\", number)"
      ],
      "metadata": {
        "id": "MtTBxiDG89lL"
      },
      "execution_count": null,
      "outputs": []
    },
    {
      "cell_type": "markdown",
      "source": [
        "###반복문"
      ],
      "metadata": {
        "id": "Miu-ESI8-VjC"
      }
    },
    {
      "cell_type": "code",
      "source": [
        "for i in range(0,3,1): #시작값 , 끝값+1, 증가값 (시험 출제 확률 있음)\n",
        "  print(\"%d 안녕하세요\" % i)  #반복 내용\n",
        "  #print(i)\n",
        "print(\"행복하세요\")    #"
      ],
      "metadata": {
        "id": "2hm4j-aE-Y4j"
      },
      "execution_count": null,
      "outputs": []
    },
    {
      "cell_type": "code",
      "source": [
        "for i in range(1,9,1):\n",
        "  print(\"%d\" % i, end=\" \")\n",
        "print(\"\\n\")\n",
        "for i in range(1,9,1):\n",
        "  print(\"%d\" % i, end=\"\")"
      ],
      "metadata": {
        "id": "JdgotSM6_tU7"
      },
      "execution_count": null,
      "outputs": []
    },
    {
      "cell_type": "code",
      "source": [
        "sum=0\n",
        "for i in range(1,11,1):\n",
        "  sum = sum + i\n",
        "print(\"1~10까지 합계 : %d\" % sum)"
      ],
      "metadata": {
        "id": "lcEpVFzFAtYy"
      },
      "execution_count": null,
      "outputs": []
    },
    {
      "cell_type": "markdown",
      "source": [
        "#### 퀴즈3 : 숫자 입력을 받아 1부터 입력된 숫자까지의 합을 for문을 사용하여 출력하시오."
      ],
      "metadata": {
        "id": "0DrhKlCSBv9L"
      }
    },
    {
      "cell_type": "code",
      "source": [
        "sum, a = 0, 0\n",
        "a=int(input(\"정수를 입력하세요:\"))\n",
        "for i in range(1,a+1,1):\n",
        "  sum = sum + i\n",
        "print(\"1~n 까지의 합계 : %d\" % sum)"
      ],
      "metadata": {
        "id": "IH_CtFw5CDHq"
      },
      "execution_count": null,
      "outputs": []
    },
    {
      "cell_type": "markdown",
      "source": [
        "#### 중첩 for문"
      ],
      "metadata": {
        "id": "Ie28Gc7aDhNq"
      }
    },
    {
      "cell_type": "code",
      "source": [
        "a,b=0,0\n",
        "for a in range(1,10,1):\n",
        "  for b in range(2,6,1):\n",
        "    print(\"%d x %d = %2d \\t \" % (b,a,a*b), end='')\n",
        "  print(\"\")\n",
        "print(\"\")\n",
        "c,d=0,0\n",
        "for c in range(1,10,1):\n",
        "  for d in range(6,10,1):\n",
        "    print(\"%d x %d = %2d \\t \" % (d,c,c*d), end='')\n",
        "  print(\"\")"
      ],
      "metadata": {
        "id": "orfbT5dQDkwb",
        "colab": {
          "base_uri": "https://localhost:8080/"
        },
        "outputId": "e2211424-3d4f-4369-cfd6-adfb6589bc63"
      },
      "execution_count": null,
      "outputs": [
        {
          "output_type": "stream",
          "name": "stdout",
          "text": [
            "2 x 1 =  2 \t 3 x 1 =  3 \t 4 x 1 =  4 \t 5 x 1 =  5 \t \n",
            "2 x 2 =  4 \t 3 x 2 =  6 \t 4 x 2 =  8 \t 5 x 2 = 10 \t \n",
            "2 x 3 =  6 \t 3 x 3 =  9 \t 4 x 3 = 12 \t 5 x 3 = 15 \t \n",
            "2 x 4 =  8 \t 3 x 4 = 12 \t 4 x 4 = 16 \t 5 x 4 = 20 \t \n",
            "2 x 5 = 10 \t 3 x 5 = 15 \t 4 x 5 = 20 \t 5 x 5 = 25 \t \n",
            "2 x 6 = 12 \t 3 x 6 = 18 \t 4 x 6 = 24 \t 5 x 6 = 30 \t \n",
            "2 x 7 = 14 \t 3 x 7 = 21 \t 4 x 7 = 28 \t 5 x 7 = 35 \t \n",
            "2 x 8 = 16 \t 3 x 8 = 24 \t 4 x 8 = 32 \t 5 x 8 = 40 \t \n",
            "2 x 9 = 18 \t 3 x 9 = 27 \t 4 x 9 = 36 \t 5 x 9 = 45 \t \n",
            "\n",
            "6 x 1 =  6 \t 7 x 1 =  7 \t 8 x 1 =  8 \t 9 x 1 =  9 \t \n",
            "6 x 2 = 12 \t 7 x 2 = 14 \t 8 x 2 = 16 \t 9 x 2 = 18 \t \n",
            "6 x 3 = 18 \t 7 x 3 = 21 \t 8 x 3 = 24 \t 9 x 3 = 27 \t \n",
            "6 x 4 = 24 \t 7 x 4 = 28 \t 8 x 4 = 32 \t 9 x 4 = 36 \t \n",
            "6 x 5 = 30 \t 7 x 5 = 35 \t 8 x 5 = 40 \t 9 x 5 = 45 \t \n",
            "6 x 6 = 36 \t 7 x 6 = 42 \t 8 x 6 = 48 \t 9 x 6 = 54 \t \n",
            "6 x 7 = 42 \t 7 x 7 = 49 \t 8 x 7 = 56 \t 9 x 7 = 63 \t \n",
            "6 x 8 = 48 \t 7 x 8 = 56 \t 8 x 8 = 64 \t 9 x 8 = 72 \t \n",
            "6 x 9 = 54 \t 7 x 9 = 63 \t 8 x 9 = 72 \t 9 x 9 = 81 \t \n"
          ]
        }
      ]
    },
    {
      "cell_type": "markdown",
      "source": [
        "#### Week 3  "
      ],
      "metadata": {
        "id": "-DtUn_raoObC"
      }
    },
    {
      "cell_type": "markdown",
      "source": [
        "#CH3. 자료형  \n",
        "## 1. 인덱스와 슬라이싱"
      ],
      "metadata": {
        "id": "yQaCbzjSqQtK"
      }
    },
    {
      "cell_type": "markdown",
      "source": [
        "## 리스트는 대괄호로 정의  \n",
        "index는 0부터 시작함  \n",
        "1=[1, 2, 3, 4, 5, 6, 7, 8, 9, 10]  \n",
        "print(1[0])  \n",
        "1  \n",
        "시험 출제 예정  \n",
        "print(1[0:4])\n",
        "[1, 2, 3, 4]"
      ],
      "metadata": {
        "id": "N7TYan4soheS"
      }
    },
    {
      "cell_type": "code",
      "source": [
        "L=[0,1,2,3,4,5,6,7,8,9,10]\n",
        "print(L[1])\n",
        "print(L[0:4]) #미만으로 출력된다.\n",
        "print(L[0:9:3]) #9까지의 값을 0부터 +3해서 출력"
      ],
      "metadata": {
        "colab": {
          "base_uri": "https://localhost:8080/"
        },
        "id": "3nzybtJcppJK",
        "outputId": "4cd4c2ad-1326-40eb-8cb0-237716062a38"
      },
      "execution_count": null,
      "outputs": [
        {
          "output_type": "stream",
          "name": "stdout",
          "text": [
            "1\n",
            "[0, 1, 2, 3]\n",
            "[0, 3, 6]\n",
            "11\n"
          ]
        }
      ]
    },
    {
      "cell_type": "code",
      "source": [
        "L=[0,1,2,3,4,5,6,7,8,9,10]\n",
        "print(len(L))\n",
        "print(L[len(L)-1])"
      ],
      "metadata": {
        "colab": {
          "base_uri": "https://localhost:8080/"
        },
        "id": "mrLs-MiKr1Hz",
        "outputId": "54094a27-20c9-4476-bf36-20f7d55eb898"
      },
      "execution_count": null,
      "outputs": [
        {
          "output_type": "stream",
          "name": "stdout",
          "text": [
            "11\n",
            "10\n"
          ]
        }
      ]
    },
    {
      "cell_type": "code",
      "source": [
        "L=[0,1,2,3,4,5,6,7,8,9,10]\n",
        "L[0]=99\n",
        "L[9]='가나다'\n",
        "L[1]=[1,2,3]\n",
        "print(L)\n",
        "print(L[9])"
      ],
      "metadata": {
        "colab": {
          "base_uri": "https://localhost:8080/"
        },
        "id": "MO1qcMUYsGax",
        "outputId": "382c4077-cb8e-4b85-d053-9fee50826b38"
      },
      "execution_count": null,
      "outputs": [
        {
          "output_type": "stream",
          "name": "stdout",
          "text": [
            "[99, [1, 2, 3], 2, 3, 4, 5, 6, 7, 8, '가나다', 10]\n",
            "가나다\n",
            "[1, 2, 3]\n"
          ]
        }
      ]
    },
    {
      "cell_type": "code",
      "source": [
        "a=[1,2,3]\n",
        "b=[4,5,6]\n",
        "c=a+b\n",
        "print(a+b)\n",
        "print(c)\n",
        "print(a*3) #를 3번 출력"
      ],
      "metadata": {
        "colab": {
          "base_uri": "https://localhost:8080/"
        },
        "id": "zU1qS2sKsmCh",
        "outputId": "f2b47333-c0b2-44cf-a1f1-caa46652fde9"
      },
      "execution_count": null,
      "outputs": [
        {
          "output_type": "stream",
          "name": "stdout",
          "text": [
            "[1, 2, 3, 4, 5, 6]\n",
            "[1, 2, 3, 4, 5, 6]\n",
            "[1, 2, 3, 1, 2, 3, 1, 2, 3]\n"
          ]
        }
      ]
    },
    {
      "cell_type": "code",
      "source": [
        "L=[1,2,3,4,5]\n",
        "print(L)\n",
        "L.append(6) #L에 6을 추가하라는 명령어 append로 추가할 시 리스트의 마지막에 추가됨\n",
        "print(L)\n",
        "L.remove(3) # 해당 요소값을 삭제하는 명령어\n",
        "print(L)"
      ],
      "metadata": {
        "colab": {
          "base_uri": "https://localhost:8080/"
        },
        "id": "iIfKlfbQs8Hx",
        "outputId": "4296a58e-da16-434f-ad6b-fe4ee9acbab3"
      },
      "execution_count": null,
      "outputs": [
        {
          "output_type": "stream",
          "name": "stdout",
          "text": [
            "[1, 2, 3, 4, 5]\n",
            "[1, 2, 3, 4, 5, 6]\n",
            "[1, 2, 4, 5, 6]\n"
          ]
        }
      ]
    },
    {
      "cell_type": "code",
      "source": [
        "k=['a','b','c','d']\n",
        "k.remove('d')\n",
        "print(k)"
      ],
      "metadata": {
        "colab": {
          "base_uri": "https://localhost:8080/"
        },
        "id": "LjJ7428httPK",
        "outputId": "2189fac7-232f-466b-b4e8-d00ae0cddfc7"
      },
      "execution_count": null,
      "outputs": [
        {
          "output_type": "stream",
          "name": "stdout",
          "text": [
            "['a', 'b', 'c']\n"
          ]
        }
      ]
    },
    {
      "cell_type": "code",
      "source": [
        "k=\"Guns Germs and Steel!\"\n",
        "print(k[:3])\n",
        "print(k[5:])\n",
        "print(k[-10:-1])"
      ],
      "metadata": {
        "colab": {
          "base_uri": "https://localhost:8080/"
        },
        "id": "GeChYGAxwxVS",
        "outputId": "21906a35-5f12-42b8-cd22-bc2ca4a178ae"
      },
      "execution_count": null,
      "outputs": [
        {
          "output_type": "stream",
          "name": "stdout",
          "text": [
            "Gun\n",
            "Germs and Steel!\n",
            "and Steel\n"
          ]
        }
      ]
    },
    {
      "cell_type": "code",
      "source": [
        "k=\" God is love!\"\n",
        "print(k.upper()) # 대문자\n",
        "print(k.lower()) # 소문자\n",
        "print(k.strip()) # 띄어쓰기 공간 제거"
      ],
      "metadata": {
        "colab": {
          "base_uri": "https://localhost:8080/"
        },
        "id": "dzYAdKTkxyVz",
        "outputId": "7eeab1d0-2e6c-4bfd-e1c7-583af3137d32"
      },
      "execution_count": null,
      "outputs": [
        {
          "output_type": "stream",
          "name": "stdout",
          "text": [
            " GOD IS LOVE!\n",
            " god is love!\n",
            "God is love!\n"
          ]
        }
      ]
    },
    {
      "cell_type": "code",
      "source": [
        "a=\" God, is, love!\"\n",
        "print(a.split(\",\")) # 구분"
      ],
      "metadata": {
        "colab": {
          "base_uri": "https://localhost:8080/"
        },
        "id": "kO8jfmkFyRb5",
        "outputId": "54b9692c-33af-42f0-89ea-1407a9c177af"
      },
      "execution_count": null,
      "outputs": [
        {
          "output_type": "stream",
          "name": "stdout",
          "text": [
            "[' God', ' is', ' love!']\n"
          ]
        }
      ]
    },
    {
      "cell_type": "code",
      "source": [
        "a=[\"apple\",\"banana\",\"cherry\"]\n",
        "a.append(\"orange\")\n",
        "print(a)"
      ],
      "metadata": {
        "colab": {
          "base_uri": "https://localhost:8080/"
        },
        "id": "WqUmwQzizCjy",
        "outputId": "1227b590-4aeb-4699-a28a-b9442f98b7df"
      },
      "execution_count": null,
      "outputs": [
        {
          "output_type": "stream",
          "name": "stdout",
          "text": [
            "['apple', 'banana', 'cherry', 'orange']\n"
          ]
        }
      ]
    },
    {
      "cell_type": "code",
      "source": [
        "a =[\"apple\",\"banana\",\"cherry\"]\n",
        "a.insert(1,\"orange\") #.insert:지정된 곳에 요소값 삽입\n",
        "print(a)"
      ],
      "metadata": {
        "colab": {
          "base_uri": "https://localhost:8080/"
        },
        "id": "qMjd_JEmzV1h",
        "outputId": "5f19cb87-2996-4795-f8fa-33e8ae09226f"
      },
      "execution_count": null,
      "outputs": [
        {
          "output_type": "stream",
          "name": "stdout",
          "text": [
            "['apple', 'orange', 'banana', 'cherry']\n"
          ]
        }
      ]
    },
    {
      "cell_type": "code",
      "source": [
        "a =[\"apple\",\"banana\",\"cherry\"]\n",
        "a.remove(\"banana\") # .remove:지정한 요소값 삭제\n",
        "print(a)"
      ],
      "metadata": {
        "colab": {
          "base_uri": "https://localhost:8080/"
        },
        "id": "M3IXMBiazvQ6",
        "outputId": "04e086e7-795d-47fb-e92d-0639ff930bac"
      },
      "execution_count": null,
      "outputs": [
        {
          "output_type": "stream",
          "name": "stdout",
          "text": [
            "['apple', 'cherry']\n"
          ]
        }
      ]
    },
    {
      "cell_type": "code",
      "source": [
        "a =[\"apple\",\"banana\",\"cherry\"]\n",
        "a.pop() # .pop은 지정없이 적용하면 마지막 요소값이 제거됨\n",
        "print(a)\n",
        "a.pop(1) # 지정한 위치인 banana가 사라짐\n",
        "print(a)"
      ],
      "metadata": {
        "colab": {
          "base_uri": "https://localhost:8080/"
        },
        "id": "ZU9e46E1z_UB",
        "outputId": "907fa17e-23d1-4c66-c7c4-793c9b73746f"
      },
      "execution_count": null,
      "outputs": [
        {
          "output_type": "stream",
          "name": "stdout",
          "text": [
            "['apple', 'banana']\n",
            "['apple']\n"
          ]
        }
      ]
    },
    {
      "cell_type": "code",
      "source": [
        "a =[\"apple\",\"banana\",\"cherry\"]\n",
        "del a[0] #지정 삭제 del a 는 전제 삭제\n",
        "print(a)\n",
        "a.clear() #del a\n",
        "print(a)"
      ],
      "metadata": {
        "colab": {
          "base_uri": "https://localhost:8080/"
        },
        "id": "xgnOh3vN0iHa",
        "outputId": "05383381-bc53-4821-f89c-e4ed0919fa94"
      },
      "execution_count": null,
      "outputs": [
        {
          "output_type": "stream",
          "name": "stdout",
          "text": [
            "['banana', 'cherry']\n",
            "[]\n"
          ]
        }
      ]
    },
    {
      "cell_type": "code",
      "source": [
        "fruit=[\"apple\",\"banana\",\"cherry\"]\n",
        "for x in fruit:\n",
        "  print(x)"
      ],
      "metadata": {
        "colab": {
          "base_uri": "https://localhost:8080/"
        },
        "id": "9esKYsrC1Key",
        "outputId": "27f2e340-3d33-4d91-dfe9-7dcc34efb961"
      },
      "execution_count": null,
      "outputs": [
        {
          "output_type": "stream",
          "name": "stdout",
          "text": [
            "apple\n",
            "banana\n",
            "cherry\n"
          ]
        }
      ]
    },
    {
      "cell_type": "code",
      "source": [
        "fruit=[\"apple\",\"banana\",\"cherry\"]\n",
        "for i in range(len(fruit)):\n",
        "  print(fruit)"
      ],
      "metadata": {
        "colab": {
          "base_uri": "https://localhost:8080/"
        },
        "id": "NQsktkDb1hQ5",
        "outputId": "69101bfd-0caf-444e-b2cc-e25d00bcf4c1"
      },
      "execution_count": null,
      "outputs": [
        {
          "output_type": "stream",
          "name": "stdout",
          "text": [
            "['apple', 'banana', 'cherry']\n",
            "['apple', 'banana', 'cherry']\n",
            "['apple', 'banana', 'cherry']\n"
          ]
        }
      ]
    },
    {
      "cell_type": "markdown",
      "source": [
        "#### SORT"
      ],
      "metadata": {
        "id": "BvvDCqIq1-aJ"
      }
    },
    {
      "cell_type": "code",
      "source": [
        "a=[5,3,6,8,1,9,0]\n",
        "a.sort() # 순서대로 정렬\n",
        "print(a)"
      ],
      "metadata": {
        "colab": {
          "base_uri": "https://localhost:8080/"
        },
        "id": "y7RV8J1S2A4o",
        "outputId": "55876dfb-e3fe-41f1-aebb-ff5957acf74d"
      },
      "execution_count": null,
      "outputs": [
        {
          "output_type": "stream",
          "name": "stdout",
          "text": [
            "[0, 1, 3, 5, 6, 8, 9]\n"
          ]
        }
      ]
    },
    {
      "cell_type": "code",
      "source": [
        "a=[5,3,6,8,1,9,0,2,4,7]\n",
        "a.sort(reverse=True) # 역정렬\n",
        "print(a)"
      ],
      "metadata": {
        "colab": {
          "base_uri": "https://localhost:8080/"
        },
        "id": "MSa35Lse2Q3q",
        "outputId": "cb4eb81f-ffed-4ebb-a035-6d9230a0f0e6"
      },
      "execution_count": null,
      "outputs": [
        {
          "output_type": "stream",
          "name": "stdout",
          "text": [
            "[9, 8, 7, 6, 5, 4, 3, 2, 1, 0]\n"
          ]
        }
      ]
    },
    {
      "cell_type": "code",
      "source": [
        "fruit=[\"apple\",\"banana\",\"Kiwi\",\"cherry\",\"orange\"]\n",
        "fruit.sort() # 대소문자 구분하여 정렬\n",
        "print(fruit)\n",
        "fruit.sort(key=str.lower) # 대소문자 구분 없이 정렬\n",
        "print(fruit)\n",
        "fruit.reverse()\n",
        "print(fruit) #역정렬"
      ],
      "metadata": {
        "colab": {
          "base_uri": "https://localhost:8080/"
        },
        "id": "-kaYzZlr2vBS",
        "outputId": "9094cb81-8fa7-4ac7-e2ef-ef57295d2ea2"
      },
      "execution_count": null,
      "outputs": [
        {
          "output_type": "stream",
          "name": "stdout",
          "text": [
            "['Kiwi', 'apple', 'banana', 'cherry', 'orange']\n",
            "['apple', 'banana', 'cherry', 'Kiwi', 'orange']\n",
            "['orange', 'Kiwi', 'cherry', 'banana', 'apple']\n"
          ]
        }
      ]
    },
    {
      "cell_type": "code",
      "source": [
        "fruit=[\"apple\",\"banana\",\"Kiwi\",\"cherry\",\"orange\"]\n",
        "myList=fruit.copy()\n",
        "print(myList)\n",
        "cpList=list(fruit)\n",
        "print(cpList)"
      ],
      "metadata": {
        "colab": {
          "base_uri": "https://localhost:8080/"
        },
        "id": "91HJI5fm4aUT",
        "outputId": "a7ec2524-72a2-4a14-cfbd-2a30ed1da304"
      },
      "execution_count": null,
      "outputs": [
        {
          "output_type": "stream",
          "name": "stdout",
          "text": [
            "['apple', 'banana', 'Kiwi', 'cherry', 'orange']\n",
            "['apple', 'banana', 'Kiwi', 'cherry', 'orange']\n"
          ]
        }
      ]
    },
    {
      "cell_type": "markdown",
      "source": [
        "## 튜플 자료형 Tuple   \n",
        "리스트와 비슷하지만 값을 변경할 수 없음  \n",
        "(시험 출제 예정)"
      ],
      "metadata": {
        "id": "gxu-5xkp4yCB"
      }
    },
    {
      "cell_type": "code",
      "source": [
        "l=[1,2,3]\n",
        "t=(4,5,6) #튜플은 ()를 사용한다. (시험 출제가능성 높음)\n",
        "l[0]=5\n",
        "print(l)\n",
        "print(t)"
      ],
      "metadata": {
        "colab": {
          "base_uri": "https://localhost:8080/"
        },
        "id": "GmnW2UOj5W6p",
        "outputId": "df49d972-51a4-4ecf-f841-cbfc32843ebd"
      },
      "execution_count": null,
      "outputs": [
        {
          "output_type": "stream",
          "name": "stdout",
          "text": [
            "[5, 2, 3]\n",
            "(4, 5, 6)\n"
          ]
        }
      ]
    },
    {
      "cell_type": "code",
      "source": [
        "f=(\"apple\",\"banana\",\"Kiwi\",\"cherry\",\"orange\")\n",
        "print(len(f))"
      ],
      "metadata": {
        "colab": {
          "base_uri": "https://localhost:8080/"
        },
        "id": "Es5W6IGz6F3b",
        "outputId": "1aa5f900-3667-409f-c3e3-4abc207697a9"
      },
      "execution_count": null,
      "outputs": [
        {
          "output_type": "stream",
          "name": "stdout",
          "text": [
            "5\n"
          ]
        }
      ]
    },
    {
      "cell_type": "code",
      "source": [
        "t=(\"apple\",) # 1가지 함수를 튜플로 인식시키기 위해서는 ,가 있어야 한다.\n",
        "print(t)\n",
        "f=(\"banana\") # ,를 넣지 않았기에 튜플로 인식이 되지 않음\n",
        "print(f)\n",
        "print(type(t))\n",
        "print(type(f))"
      ],
      "metadata": {
        "colab": {
          "base_uri": "https://localhost:8080/"
        },
        "id": "jgSuy9pB6QER",
        "outputId": "3471b5b1-d0c8-4fe0-da91-4076247ed833"
      },
      "execution_count": null,
      "outputs": [
        {
          "output_type": "stream",
          "name": "stdout",
          "text": [
            "('apple',)\n",
            "banana\n",
            "<class 'tuple'>\n",
            "<class 'str'>\n"
          ]
        }
      ]
    },
    {
      "cell_type": "code",
      "source": [
        "f=(\"apple\",\"banana\",\"Kiwi\",\"cherry\",\"orange\")\n",
        "print(f[:4])\n",
        "print(f[2:])"
      ],
      "metadata": {
        "colab": {
          "base_uri": "https://localhost:8080/"
        },
        "id": "GSFW9MNp67eR",
        "outputId": "d21cae49-3df6-4f94-8540-9ccb34c95e69"
      },
      "execution_count": null,
      "outputs": [
        {
          "output_type": "stream",
          "name": "stdout",
          "text": [
            "('apple', 'banana', 'Kiwi', 'cherry')\n",
            "('Kiwi', 'cherry', 'orange')\n"
          ]
        }
      ]
    },
    {
      "cell_type": "code",
      "source": [
        "f=(\"apple\",\"banana\",\"Kiwi\",\"cherry\",\"Orange\")\n",
        "if \"apple\" in f:\n",
        "  print(\"Yes, 'apple' is in\")\n",
        "else:\n",
        "  print(\"No\")"
      ],
      "metadata": {
        "colab": {
          "base_uri": "https://localhost:8080/"
        },
        "id": "tpEWP-k070UC",
        "outputId": "fb0f0e39-a547-47c8-f0a8-208b8af12721"
      },
      "execution_count": null,
      "outputs": [
        {
          "output_type": "stream",
          "name": "stdout",
          "text": [
            "Yes, 'apple' is in\n"
          ]
        }
      ]
    },
    {
      "cell_type": "markdown",
      "source": [
        "####list<->tuple"
      ],
      "metadata": {
        "id": "itzlthuS_vzC"
      }
    },
    {
      "cell_type": "code",
      "source": [
        "firm=['Samsung','LG','SK']\n",
        "tdata=tuple(firm)\n",
        "print(firm)\n",
        "print(tdata)"
      ],
      "metadata": {
        "colab": {
          "base_uri": "https://localhost:8080/"
        },
        "id": "GYPJuuQ5_18h",
        "outputId": "92ba0241-7277-4e80-94c3-15df01e7b01a"
      },
      "execution_count": null,
      "outputs": [
        {
          "output_type": "stream",
          "name": "stdout",
          "text": [
            "['Samsung', 'LG', 'SK']\n",
            "('Samsung', 'LG', 'SK')\n"
          ]
        }
      ]
    },
    {
      "cell_type": "code",
      "source": [
        "t=(\"apple\",\"banana\",\"Kiwi\",\"cherry\")\n",
        "y=list(t) \n",
        "y.append(\"Orange\")\n",
        "t=tuple(y) # 튜플을 list로 바꾼다음 Orange를 넣고 다시 튜플로 변환함(시험출제 가능성 높음)\n",
        "print(t)"
      ],
      "metadata": {
        "colab": {
          "base_uri": "https://localhost:8080/"
        },
        "id": "r4ncdIHPAWlx",
        "outputId": "fe8cd459-56c3-4786-dcb7-f44a6f8914b6"
      },
      "execution_count": null,
      "outputs": [
        {
          "output_type": "stream",
          "name": "stdout",
          "text": [
            "('apple', 'banana', 'Kiwi', 'cherry', 'Orange')\n"
          ]
        }
      ]
    },
    {
      "cell_type": "code",
      "source": [
        "t=(\"apple\",\"banana\",\"cherry\")\n",
        "q=(\"kiwi\",)\n",
        "t += q\n",
        "print(t)"
      ],
      "metadata": {
        "colab": {
          "base_uri": "https://localhost:8080/"
        },
        "id": "S85mw0ozBVTi",
        "outputId": "c7c18f5e-dff7-4189-c5c1-746e60316ed3"
      },
      "execution_count": null,
      "outputs": [
        {
          "output_type": "stream",
          "name": "stdout",
          "text": [
            "('apple', 'banana', 'cherry', 'kiwi')\n"
          ]
        }
      ]
    },
    {
      "cell_type": "code",
      "source": [
        "t=(\"apple\",\"banana\",\"Kiwi\",\"cherry\")\n",
        "l=list(t)\n",
        "l.remove(\"Kiwi\")\n",
        "t=tuple(l)\n",
        "print(t)\n",
        "del t # 튜플도 삭제 자체는 가능하다.\n",
        "# print t"
      ],
      "metadata": {
        "colab": {
          "base_uri": "https://localhost:8080/"
        },
        "id": "qIZZvaj2BlKz",
        "outputId": "a1387680-9c24-4db1-d88b-40d12fb2d971"
      },
      "execution_count": null,
      "outputs": [
        {
          "output_type": "stream",
          "name": "stdout",
          "text": [
            "('apple', 'banana', 'cherry')\n"
          ]
        }
      ]
    },
    {
      "cell_type": "markdown",
      "source": [
        "#### 사전(Dict) 자료형  \n",
        "키값을 사용하고 중괄호{}를 사용한다.  \n"
      ],
      "metadata": {
        "id": "eHORGBHMCvL5"
      }
    },
    {
      "cell_type": "code",
      "source": [
        "d={\n",
        "    'a':1,\n",
        "    'b':2,\n",
        "    'c':3\n",
        "}\n",
        "print(d)\n",
        "print(d.keys())\n",
        "print(d.values())\n",
        "print(d.items())"
      ],
      "metadata": {
        "colab": {
          "base_uri": "https://localhost:8080/"
        },
        "id": "gFdB3uleEOD4",
        "outputId": "73c03273-769b-49da-c2a3-1d4e6aa3dd29"
      },
      "execution_count": null,
      "outputs": [
        {
          "output_type": "stream",
          "name": "stdout",
          "text": [
            "{'a': 1, 'b': 2, 'c': 3}\n",
            "dict_keys(['a', 'b', 'c'])\n",
            "dict_values([1, 2, 3])\n",
            "dict_items([('a', 1), ('b', 2), ('c', 3)])\n"
          ]
        }
      ]
    },
    {
      "cell_type": "code",
      "source": [
        "car={\n",
        "    \"brand\":\"BM\",\n",
        "    \"model\":\"GT\",\n",
        "    \"year\" :\"1988\"\n",
        "}\n",
        "print(car)\n",
        "print(len(car))\n",
        "car[\"year\"]=2000\n",
        "car[\"item\"]=123456\n",
        "car.update({\"color\":\"red\"})\n",
        "print(car)"
      ],
      "metadata": {
        "colab": {
          "base_uri": "https://localhost:8080/"
        },
        "id": "aeafUK6RE0Ua",
        "outputId": "64f59ee6-50f9-4c9f-f006-9ae850c69e34"
      },
      "execution_count": null,
      "outputs": [
        {
          "output_type": "stream",
          "name": "stdout",
          "text": [
            "{'brand': 'BM', 'model': 'GT', 'year': '1988'}\n",
            "3\n",
            "{'brand': 'BM', 'model': 'GT', 'year': 2000, 'item': 123456, 'color': 'red'}\n"
          ]
        }
      ]
    },
    {
      "cell_type": "code",
      "source": [
        "# 항목 제거\n",
        "car={\n",
        "    \"brand\":\"BM\",\n",
        "    \"model\":\"GT\",\n",
        "    \"year\" :\"1988\"\n",
        "}\n",
        "car.pop(\"model\")\n",
        "print(car)"
      ],
      "metadata": {
        "colab": {
          "base_uri": "https://localhost:8080/"
        },
        "id": "kukPu7-_Grz5",
        "outputId": "5cb03e73-6390-4703-d34a-3c71327558d2"
      },
      "execution_count": null,
      "outputs": [
        {
          "output_type": "stream",
          "name": "stdout",
          "text": [
            "{'brand': 'BM', 'year': '1988'}\n"
          ]
        }
      ]
    },
    {
      "cell_type": "code",
      "source": [
        "car={\n",
        "    \"brand\":\"BM\",\n",
        "    \"model\":\"GT\",\n",
        "    \"year\" :\"1988\"\n",
        "}\n",
        "car.popitem()\n",
        "print(car)"
      ],
      "metadata": {
        "colab": {
          "base_uri": "https://localhost:8080/"
        },
        "id": "yWVItVvWG8Qf",
        "outputId": "dcb0efb0-9b49-41b9-c653-72b5cfc49eb7"
      },
      "execution_count": null,
      "outputs": [
        {
          "output_type": "stream",
          "name": "stdout",
          "text": [
            "{'brand': 'BM', 'model': 'GT'}\n"
          ]
        }
      ]
    },
    {
      "cell_type": "code",
      "source": [
        "car={\n",
        "    \"brand\":\"BM\",\n",
        "    \"model\":\"GT\",\n",
        "    \"year\" :\"1988\"\n",
        "}\n",
        "car.clear() # 비움\n",
        "del car # 삭제"
      ],
      "metadata": {
        "id": "KanrEwoeHZ8Z"
      },
      "execution_count": null,
      "outputs": []
    },
    {
      "cell_type": "markdown",
      "source": [
        "#### LOOP"
      ],
      "metadata": {
        "id": "7HlfZqvFHkfQ"
      }
    },
    {
      "cell_type": "code",
      "source": [
        "# 값을 하나씩 인쇄\n",
        "car={\n",
        "    \"brand\":\"BM\",\n",
        "    \"model\":\"GT\",\n",
        "    \"year\" :1988\n",
        "}\n",
        "for x in car:\n",
        "  print(car[x])"
      ],
      "metadata": {
        "colab": {
          "base_uri": "https://localhost:8080/"
        },
        "id": "GDuX3dvPHnwH",
        "outputId": "08a4ab71-72fd-472b-b37f-937f36ea4014"
      },
      "execution_count": null,
      "outputs": [
        {
          "output_type": "stream",
          "name": "stdout",
          "text": [
            "BM\n",
            "GT\n",
            "1988\n"
          ]
        }
      ]
    },
    {
      "cell_type": "code",
      "source": [
        "car={\n",
        "    \"brand\":\"BM\",\n",
        "    \"model\":\"GT\",\n",
        "    \"year\" :1988\n",
        "}\n",
        "for x in car.keys():\n",
        "  print(x)"
      ],
      "metadata": {
        "colab": {
          "base_uri": "https://localhost:8080/"
        },
        "id": "9Uk4dD0qIbrB",
        "outputId": "ce4ebb82-e04b-4c0b-ee5a-4d75a948cb68"
      },
      "execution_count": null,
      "outputs": [
        {
          "output_type": "stream",
          "name": "stdout",
          "text": [
            "brand\n",
            "model\n",
            "year\n"
          ]
        }
      ]
    },
    {
      "cell_type": "code",
      "source": [
        "car={\n",
        "    \"brand\":\"BM\",\n",
        "    \"model\":\"GT\",\n",
        "    \"year\" :1988\n",
        "}\n",
        "for x in car.values():\n",
        "  print(x)"
      ],
      "metadata": {
        "colab": {
          "base_uri": "https://localhost:8080/"
        },
        "id": "Ic-kBHXVIMv5",
        "outputId": "b141876f-864f-414e-9298-5506588a15d6"
      },
      "execution_count": null,
      "outputs": [
        {
          "output_type": "stream",
          "name": "stdout",
          "text": [
            "BM\n",
            "GT\n",
            "1988\n"
          ]
        }
      ]
    },
    {
      "cell_type": "code",
      "source": [
        "car={\n",
        "    \"brand\":\"BM\",\n",
        "    \"model\":\"GT\",\n",
        "    \"year\" :1988\n",
        "}\n",
        "for x,y in car.items():\n",
        "  print(x,y)"
      ],
      "metadata": {
        "colab": {
          "base_uri": "https://localhost:8080/"
        },
        "id": "nIbIVfY5IpnQ",
        "outputId": "cd4d417a-1f5b-4a77-9ccd-44f76f2ef323"
      },
      "execution_count": null,
      "outputs": [
        {
          "output_type": "stream",
          "name": "stdout",
          "text": [
            "brand BM\n",
            "model GT\n",
            "year 1988\n"
          ]
        }
      ]
    },
    {
      "cell_type": "code",
      "source": [
        "car={\n",
        "    \"brand\":\"BM\",\n",
        "    \"model\":\"GT\",\n",
        "    \"year\" :1988\n",
        "}\n",
        "myCar=car.copy()\n",
        "print(myCar)"
      ],
      "metadata": {
        "colab": {
          "base_uri": "https://localhost:8080/"
        },
        "id": "XoafmdVwI3K4",
        "outputId": "6d95e9cf-66f8-4b85-9a56-5f09f7712efc"
      },
      "execution_count": null,
      "outputs": [
        {
          "output_type": "stream",
          "name": "stdout",
          "text": [
            "{'brand': 'BM', 'model': 'GT', 'year': 1988}\n"
          ]
        }
      ]
    },
    {
      "cell_type": "code",
      "source": [
        "car={\n",
        "    \"brand\":\"BM\",\n",
        "    \"model\":\"GT\",\n",
        "    \"year\" :1988\n",
        "}\n",
        "myCar=dict(car)\n",
        "print(myCar)"
      ],
      "metadata": {
        "colab": {
          "base_uri": "https://localhost:8080/"
        },
        "id": "Ahg7XvOrJHWJ",
        "outputId": "1130b90f-a646-42bd-baa9-e41d96e2d2f5"
      },
      "execution_count": null,
      "outputs": [
        {
          "output_type": "stream",
          "name": "stdout",
          "text": [
            "{'brand': 'BM', 'model': 'GT', 'year': 1988}\n"
          ]
        }
      ]
    },
    {
      "cell_type": "code",
      "source": [
        "name1={\"name\":\"놀부\",\"year\":2001}\n",
        "name2={\"name\":\"흥부\",\"year\":2010}\n",
        "name3={\"name\":\"제비\",\"year\":2015}\n",
        "story={\n",
        "    \"name1\":name1,\n",
        "    \"name2\":name2,\n",
        "    \"name3\":name3\n",
        "}\n",
        "print(story)"
      ],
      "metadata": {
        "colab": {
          "base_uri": "https://localhost:8080/"
        },
        "id": "MppJhBfgJRw5",
        "outputId": "9a55ac8c-03ee-4ccc-8804-0df209c297d8"
      },
      "execution_count": null,
      "outputs": [
        {
          "output_type": "stream",
          "name": "stdout",
          "text": [
            "{'name1': {'name': '놀부', 'year': 2001}, 'name2': {'name': '흥부', 'year': 2010}, 'name3': {'name': '제비', 'year': 2015}}\n"
          ]
        }
      ]
    }
  ]
}