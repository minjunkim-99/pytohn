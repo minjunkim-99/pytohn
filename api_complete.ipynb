{
  "nbformat": 4,
  "nbformat_minor": 0,
  "metadata": {
    "colab": {
      "provenance": [],
      "authorship_tag": "ABX9TyMCG7FYeLLh7rJ959yRsUYO",
      "include_colab_link": true
    },
    "kernelspec": {
      "name": "python3",
      "display_name": "Python 3"
    },
    "language_info": {
      "name": "python"
    }
  },
  "cells": [
    {
      "cell_type": "markdown",
      "metadata": {
        "id": "view-in-github",
        "colab_type": "text"
      },
      "source": [
        "<a href=\"https://colab.research.google.com/github/minjunkim-99/pytohn/blob/main/api_complete.ipynb\" target=\"_parent\"><img src=\"https://colab.research.google.com/assets/colab-badge.svg\" alt=\"Open In Colab\"/></a>"
      ]
    },
    {
      "cell_type": "code",
      "execution_count": 21,
      "metadata": {
        "colab": {
          "base_uri": "https://localhost:8080/"
        },
        "id": "ol4hioOUQQIZ",
        "outputId": "ccc72af1-6865-4cf0-839e-0efd94be9227"
      },
      "outputs": [
        {
          "output_type": "stream",
          "name": "stdout",
          "text": [
            "b'<?xml version=\"1.0\" encoding=\"UTF-8\" standalone=\"yes\"?><response><header><resultCode>00</resultCode><resultMsg>NORMAL SERVICE.</resultMsg></header><body><item><elect>755</elect><gas>1</gas><heat>22</heat><waterCool>211</waterCool><waterHot>40</waterHot></item></body></response>'\n"
          ]
        }
      ],
      "source": [
        "# Python3 샘플 코드 #\n",
        "\n",
        "import requests\n",
        "\n",
        "#url 입력\n",
        "url = 'https://apis.data.go.kr/1611000/ApHusEnergyUseInfoOfferService/getWntyAvrgEnergyUseAmountInfoSearch?serviceKey=SWO5f5Wa5OO0aZQ56UgdzDfPcx4qWeMjM%2F57Fackoa5xE4WmOPOYIaQ%2BdOMWPAVNLy%2BzIY504rn8nP59y%2Bs1rw%3D%3D&searchDate=201508'\n",
        "params ={'serviceKey' : 'SWO5f5Wa5OO0aZQ56UgdzDfPcx4qWeMjM/57Fackoa5xE4WmOPOYIaQ+dOMWPAVNLy+zIY504rn8nP59y+s1rw==', 'kaptCode' : 'A10027953', 'reqDate' : '201507'}\n",
        "\n",
        "response = requests.get(url, params=params)\n",
        "\n",
        "content=response.text\n",
        "\n",
        "print(response.content)"
      ]
    },
    {
      "cell_type": "code",
      "source": [
        "import"
      ],
      "metadata": {
        "id": "MXOuX--g1Ptv"
      },
      "execution_count": null,
      "outputs": []
    },
    {
      "cell_type": "code",
      "source": [
        "from os import name\n",
        "import xml.etree.ElementTree as et\n",
        "import pandas as pd\n",
        "import bs4\n",
        "from lxml import html\n",
        "from urllib.parse import urlencode, quote_plus, unquote\n",
        "\"\"\"\n",
        "resultCode : 결과코드\n",
        "resultMsg : 결과메시지\n",
        "kaptCode : 단지코드\n",
        "heat : 난방사용금액\n",
        "hheat : 난방사용량\n",
        "waterHot : 급탕사용금액\n",
        "hwaterHot : 급탕사용량\n",
        "gas : 가스사용금액\n",
        "hgas : 가스사용량\n",
        "elect: 전기사용금액\n",
        "helect : 전기사용량\n",
        "waterCool : 수도사용금액\n",
        "hwaterCool : 수도사용량\n",
        "\"\"\"\n",
        "xml_obj = bs4.BeautifulSoup(content,'lxml-xml')\n",
        "rows = xml_obj.findAll('item')\n",
        "print(rows)"
      ],
      "metadata": {
        "colab": {
          "base_uri": "https://localhost:8080/"
        },
        "id": "OQXhqCM0q5lm",
        "outputId": "39134d62-e51f-4bcb-c965-bffd802a34b0"
      },
      "execution_count": 22,
      "outputs": [
        {
          "output_type": "stream",
          "name": "stdout",
          "text": [
            "[<item><elect>755</elect><gas>1</gas><heat>22</heat><waterCool>211</waterCool><waterHot>40</waterHot></item>]\n"
          ]
        }
      ]
    },
    {
      "cell_type": "code",
      "source": [
        "pip install pandas\n"
      ],
      "metadata": {
        "colab": {
          "base_uri": "https://localhost:8080/"
        },
        "id": "p_mCScmgggyx",
        "outputId": "3f8dc1b9-92d4-4ff6-8c79-5138b6c70439"
      },
      "execution_count": null,
      "outputs": [
        {
          "output_type": "stream",
          "name": "stdout",
          "text": [
            "Looking in indexes: https://pypi.org/simple, https://us-python.pkg.dev/colab-wheels/public/simple/\n",
            "Requirement already satisfied: pandas in /usr/local/lib/python3.10/dist-packages (1.5.3)\n",
            "Requirement already satisfied: python-dateutil>=2.8.1 in /usr/local/lib/python3.10/dist-packages (from pandas) (2.8.2)\n",
            "Requirement already satisfied: pytz>=2020.1 in /usr/local/lib/python3.10/dist-packages (from pandas) (2022.7.1)\n",
            "Requirement already satisfied: numpy>=1.21.0 in /usr/local/lib/python3.10/dist-packages (from pandas) (1.22.4)\n",
            "Requirement already satisfied: six>=1.5 in /usr/local/lib/python3.10/dist-packages (from python-dateutil>=2.8.1->pandas) (1.16.0)\n"
          ]
        }
      ]
    },
    {
      "cell_type": "code",
      "source": [
        "row_list = [] # 행값\n",
        "name_list = [] # 열이름값\n",
        "value_list = [] #데이터값\n",
        "\n",
        "# xml 안의 데이터 수집\n",
        "for i in range(0, len(rows)):\n",
        "    columns = rows[i].find_all()\n",
        "    #첫째 행 데이터 수집\n",
        "    for j in range(0,len(columns)):\n",
        "        if i ==0:\n",
        "            # 컬럼 이름 값 저장\n",
        "            name_list.append(columns[j].name)\n",
        "        # 컬럼의 각 데이터 값 저장\n",
        "        value_list.append(columns[j].text)\n",
        "    # 각 행의 value값 전체 저장\n",
        "    row_list.append(value_list)\n",
        "    # 데이터 리스트 값 초기화\n",
        "    value_list=[]\n",
        "    df = pd.DataFrame(row_list, columns=name_list)\n",
        "print(df.head(19))"
      ],
      "metadata": {
        "colab": {
          "base_uri": "https://localhost:8080/"
        },
        "id": "8CX1dw46r3DL",
        "outputId": "5a8dc96c-81b5-4f82-9297-ea6deef836a8"
      },
      "execution_count": 23,
      "outputs": [
        {
          "output_type": "stream",
          "name": "stdout",
          "text": [
            "  elect gas heat waterCool waterHot\n",
            "0   755   1   22       211       40\n"
          ]
        }
      ]
    },
    {
      "cell_type": "code",
      "source": [
        "import tabulate\n",
        "\n",
        "# 표 출력을 위한 옵션 설정\n",
        "tabulate.PRESERVE_WHITESPACE = True\n",
        "\n",
        "# 표 생성\n",
        "table = tabulate.tabulate(df, headers='keys', tablefmt='pipe')\n",
        "\n",
        "# 표 출력\n",
        "print(table)\n",
        "\n",
        "numeric_columns = df.select_dtypes(include=['int', 'float']).columns\n",
        "print(numeric_columns)"
      ],
      "metadata": {
        "colab": {
          "base_uri": "https://localhost:8080/"
        },
        "id": "yeNNLwY4u1pM",
        "outputId": "fc3d7943-f5b4-479e-d379-a7b158ef4859"
      },
      "execution_count": 24,
      "outputs": [
        {
          "output_type": "stream",
          "name": "stdout",
          "text": [
            "|    |   elect |   gas |   heat |   waterCool |   waterHot |\n",
            "|---:|--------:|------:|-------:|------------:|-----------:|\n",
            "|  0 |     755 |     1 |     22 |         211 |         40 |\n",
            "Index([], dtype='object')\n"
          ]
        }
      ]
    },
    {
      "cell_type": "code",
      "source": [
        "# 데이터프레임의 특정 열들을 숫자형으로 변환\n",
        "numeric_columns = ['elect', 'gas', 'heat', 'waterCool', 'waterHot']\n",
        "df[numeric_columns] = df[numeric_columns].apply(pd.to_numeric)\n",
        "\n",
        "# 변환된 데이터프레임 확인\n",
        "print(df.head())\n"
      ],
      "metadata": {
        "colab": {
          "base_uri": "https://localhost:8080/"
        },
        "id": "zWeVbIBp2_Jx",
        "outputId": "c6c23d2d-6145-4ca4-e8f1-e2cd93867076"
      },
      "execution_count": 27,
      "outputs": [
        {
          "output_type": "stream",
          "name": "stdout",
          "text": [
            "   elect  gas  heat  waterCool  waterHot\n",
            "0    755    1    22        211        40\n"
          ]
        }
      ]
    },
    {
      "cell_type": "code",
      "source": [
        "import matplotlib.pyplot as plt\n",
        "\n",
        "# 숫자형 데이터를 포함하는 열 선택\n",
        "numeric_columns = [col for col in df.columns if col != 'kaptCode' and df[col].dtype != 'object']\n",
        "\n",
        "# 시각화 설정\n",
        "plt.figure(figsize=(10, 6))  # 그래프 크기 설정\n",
        "\n",
        "# 표시할 데이터 선택\n",
        "plot_data = df[numeric_columns]\n",
        "\n",
        "# 선 그래프 생성\n",
        "plot_data.plot()\n",
        "\n",
        "# 그래프 제목과 축 레이블 설정\n",
        "plt.title('Energy Usage')  # 그래프 제목\n",
        "plt.xlabel('Date')  # x축 레이블\n",
        "plt.ylabel('Usage')  # y축 레이블\n",
        "\n",
        "# 범례 표시\n",
        "plt.legend()\n",
        "\n",
        "# 그래프 출력\n",
        "plt.show()\n"
      ],
      "metadata": {
        "colab": {
          "base_uri": "https://localhost:8080/",
          "height": 490
        },
        "id": "yuhWxinkyVix",
        "outputId": "efccb7f1-3992-40b8-abd9-7ed42437f22e"
      },
      "execution_count": 28,
      "outputs": [
        {
          "output_type": "display_data",
          "data": {
            "text/plain": [
              "<Figure size 1000x600 with 0 Axes>"
            ]
          },
          "metadata": {}
        },
        {
          "output_type": "display_data",
          "data": {
            "text/plain": [
              "<Figure size 640x480 with 1 Axes>"
            ],
            "image/png": "[encoded data removed]"
          },
          "metadata": {}
        }
      ]
    },
    {
      "cell_type": "code",
      "source": [
        "import matplotlib.pyplot as plt\n",
        "\n",
        "# 그래프 생성을 위한 데이터 설정\n",
        "x = ['elect', 'gas', 'heat', 'waterCool', 'waterHot']  # X축 데이터\n",
        "y = [num * 100 for num in range(len(df))]  # Y축 데이터 (단순한 100단위의 숫자를 생성)\n",
        "\n",
        "# 막대 그래프 생성\n",
        "plt.bar(x, y)\n",
        "\n",
        "# 그래프 제목과 축 레이블 설정\n",
        "plt.title('Title of Bar Chart')\n",
        "plt.xlabel('Columns')\n",
        "plt.ylabel('Y Label (in 100s)')\n",
        "\n",
        "# 그래프 출력\n",
        "plt.show()\n"
      ],
      "metadata": {
        "colab": {
          "base_uri": "https://localhost:8080/",
          "height": 472
        },
        "id": "3L1zF1_a34YI",
        "outputId": "442a7e4a-9c1d-4f29-f7ac-e16373f11e05"
      },
      "execution_count": 34,
      "outputs": [
        {
          "output_type": "display_data",
          "data": {
            "text/plain": [
              "<Figure size 640x480 with 1 Axes>"
            ],
            "image/png": "[encoded data removed]"
          },
          "metadata": {}
        }
      ]
    }
  ]
}