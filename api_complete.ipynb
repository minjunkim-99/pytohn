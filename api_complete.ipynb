{
  "nbformat": 4,
  "nbformat_minor": 0,
  "metadata": {
    "colab": {
      "provenance": [],
      "authorship_tag": "ABX9TyMXpvM9jrwlaMTBgDKnSbFu",
      "include_colab_link": true
    },
    "kernelspec": {
      "name": "python3",
      "display_name": "Python 3"
    },
    "language_info": {
      "name": "python"
    }
  },
  "cells": [
    {
      "cell_type": "markdown",
      "metadata": {
        "id": "view-in-github",
        "colab_type": "text"
      },
      "source": [
        "<a href=\"https://colab.research.google.com/github/minjunkim-99/pytohn/blob/main/api_complete.ipynb\" target=\"_parent\"><img src=\"https://colab.research.google.com/assets/colab-badge.svg\" alt=\"Open In Colab\"/></a>"
      ]
    },
    {
      "cell_type": "markdown",
      "source": [
        "#api 연동을 통한 년도별 전국 평균 에너지 사용금액 정보 조회"
      ],
      "metadata": {
        "id": "uFQWF_xlQWO3"
      }
    },
    {
      "cell_type": "code",
      "source": [
        "import requests\n",
        "\n",
        "# 데이터 참조 url\n",
        "url1 = 'https://apis.data.go.kr/1611000/ApHusEnergyUseInfoOfferService/getWntyAvrgEnergyUseAmountInfoSearch'\n",
        "url2 = 'https://apis.data.go.kr/1611000/ApHusEnergyUseInfoOfferService/getWntyAvrgEnergyUseAmountInfoSearch'\n",
        "# 인증키1\n",
        "params1 = {\n",
        "    'serviceKey': 'SWO5f5Wa5OO0aZQ56UgdzDfPcx4qWeMjM/57Fackoa5xE4WmOPOYIaQ+dOMWPAVNLy+zIY504rn8nP59y+s1rw==',\n",
        "    'searchDate': '201508'\n",
        "}\n",
        "# 인증키2\n",
        "params2 = {\n",
        "    'serviceKey': 'SWO5f5Wa5OO0aZQ56UgdzDfPcx4qWeMjM/57Fackoa5xE4WmOPOYIaQ+dOMWPAVNLy+zIY504rn8nP59y+s1rw==',\n",
        "    'searchDate': '201608'\n",
        "}\n",
        "# 데이터를 object화\n",
        "response1 = requests.get(url1, params=params1)\n",
        "response2 = requests.get(url2, params=params2)\n",
        "\n",
        "content1 = response1.text\n",
        "content2 = response2.text\n",
        "# 데이터 출력\n",
        "print(content1)\n",
        "print(content2)\n"
      ],
      "metadata": {
        "colab": {
          "base_uri": "https://localhost:8080/"
        },
        "id": "Df2XjaJsQOWt",
        "outputId": "609e2ae0-8940-40b0-e6a9-09f182b4d8db"
      },
      "execution_count": 24,
      "outputs": [
        {
          "output_type": "stream",
          "name": "stdout",
          "text": [
            "<?xml version=\"1.0\" encoding=\"UTF-8\" standalone=\"yes\"?><response><header><resultCode>00</resultCode><resultMsg>NORMAL SERVICE.</resultMsg></header><body><item><elect>755</elect><gas>1</gas><heat>22</heat><waterCool>211</waterCool><waterHot>40</waterHot></item></body></response>\n",
            "<?xml version=\"1.0\" encoding=\"UTF-8\" standalone=\"yes\"?><response><header><resultCode>00</resultCode><resultMsg>NORMAL SERVICE.</resultMsg></header><body><item><elect>920</elect><gas>1</gas><heat>20</heat><waterCool>225</waterCool><waterHot>30</waterHot></item></body></response>\n"
          ]
        }
      ]
    },
    {
      "cell_type": "code",
      "source": [
        "from os import name\n",
        "import xml.etree.ElementTree as et\n",
        "import pandas as pd\n",
        "import bs4\n",
        "from lxml import html\n",
        "from urllib.parse import urlencode, quote_plus, unquote\n",
        "\"\"\"\n",
        "resultCode : 결과코드\n",
        "resultMsg : 결과메시지\n",
        "kaptCode : 단지코드\n",
        "heat : 난방사용금액\n",
        "hheat : 난방사용량\n",
        "waterHot : 급탕사용금액\n",
        "hwaterHot : 급탕사용량\n",
        "gas : 가스사용금액\n",
        "hgas : 가스사용량\n",
        "elect: 전기사용금액\n",
        "helect : 전기사용량\n",
        "waterCool : 수도사용금액\n",
        "hwaterCool : 수도사용량\n",
        "\"\"\"\n",
        "xml_obj = bs4.BeautifulSoup(content,'lxml-xml')\n",
        "rows = xml_obj.findAll('item')\n",
        "print(rows)"
      ],
      "metadata": {
        "colab": {
          "base_uri": "https://localhost:8080/"
        },
        "id": "OQXhqCM0q5lm",
        "outputId": "df6728d2-6757-47e7-ef0b-7adba63235a9"
      },
      "execution_count": 9,
      "outputs": [
        {
          "output_type": "stream",
          "name": "stdout",
          "text": [
            "[<item><elect>920</elect><gas>1</gas><heat>20</heat><waterCool>225</waterCool><waterHot>30</waterHot></item>]\n"
          ]
        }
      ]
    },
    {
      "cell_type": "code",
      "source": [
        "pip install pandas\n"
      ],
      "metadata": {
        "colab": {
          "base_uri": "https://localhost:8080/"
        },
        "id": "p_mCScmgggyx",
        "outputId": "3f8dc1b9-92d4-4ff6-8c79-5138b6c70439"
      },
      "execution_count": null,
      "outputs": [
        {
          "output_type": "stream",
          "name": "stdout",
          "text": [
            "Looking in indexes: https://pypi.org/simple, https://us-python.pkg.dev/colab-wheels/public/simple/\n",
            "Requirement already satisfied: pandas in /usr/local/lib/python3.10/dist-packages (1.5.3)\n",
            "Requirement already satisfied: python-dateutil>=2.8.1 in /usr/local/lib/python3.10/dist-packages (from pandas) (2.8.2)\n",
            "Requirement already satisfied: pytz>=2020.1 in /usr/local/lib/python3.10/dist-packages (from pandas) (2022.7.1)\n",
            "Requirement already satisfied: numpy>=1.21.0 in /usr/local/lib/python3.10/dist-packages (from pandas) (1.22.4)\n",
            "Requirement already satisfied: six>=1.5 in /usr/local/lib/python3.10/dist-packages (from python-dateutil>=2.8.1->pandas) (1.16.0)\n"
          ]
        }
      ]
    },
    {
      "cell_type": "code",
      "source": [
        "row_list = [] # 행값\n",
        "name_list = [] # 열이름값\n",
        "value_list = [] #데이터값\n",
        "\n",
        "# xml 안의 데이터 수집\n",
        "for i in range(0, len(rows)):\n",
        "    columns = rows[i].find_all()\n",
        "    #첫째 행 데이터 수집\n",
        "    for j in range(0,len(columns)):\n",
        "        if i ==0:\n",
        "            # 컬럼 이름 값 저장\n",
        "            name_list.append(columns[j].name)\n",
        "        # 컬럼의 각 데이터 값 저장\n",
        "        value_list.append(columns[j].text)\n",
        "    # 각 행의 value값 전체 저장\n",
        "    row_list.append(value_list)\n",
        "    # 데이터 리스트 값 초기화\n",
        "    value_list=[]\n",
        "    df = pd.DataFrame(row_list, columns=name_list)\n",
        "print(df.head(19))\n"
      ],
      "metadata": {
        "colab": {
          "base_uri": "https://localhost:8080/"
        },
        "id": "8CX1dw46r3DL",
        "outputId": "9c1886d5-2a56-468e-bd57-bed214b71996"
      },
      "execution_count": 10,
      "outputs": [
        {
          "output_type": "stream",
          "name": "stdout",
          "text": [
            "  elect gas heat waterCool waterHot\n",
            "0   920   1   20       225       30\n"
          ]
        }
      ]
    },
    {
      "cell_type": "code",
      "source": [
        "import tabulate\n",
        "\n",
        "# 표 출력을 위한 옵션 설정\n",
        "tabulate.PRESERVE_WHITESPACE = True\n",
        "\n",
        "# 표 생성\n",
        "table = tabulate.tabulate(df, headers='keys', tablefmt='pipe')\n",
        "\n",
        "# 표 출력\n",
        "print(table)\n",
        "\n",
        "# 데이터 유형 확인\n",
        "numeric_columns = df.select_dtypes(include=['int', 'float']).columns\n",
        "print(numeric_columns)"
      ],
      "metadata": {
        "colab": {
          "base_uri": "https://localhost:8080/"
        },
        "id": "yeNNLwY4u1pM",
        "outputId": "7d93b0bc-6a7e-4bde-ddbc-f80a184c528e"
      },
      "execution_count": 27,
      "outputs": [
        {
          "output_type": "stream",
          "name": "stdout",
          "text": [
            "|    |   elect |   gas |   heat |   waterCool |   waterHot |\n",
            "|---:|--------:|------:|-------:|------------:|-----------:|\n",
            "|  0 |     920 |     1 |     20 |         225 |         30 |\n",
            "Index([], dtype='object')\n"
          ]
        }
      ]
    },
    {
      "cell_type": "code",
      "source": [
        "pip install tabulate"
      ],
      "metadata": {
        "colab": {
          "base_uri": "https://localhost:8080/"
        },
        "id": "koh0DWKcQzUf",
        "outputId": "e7d0c431-59b4-4119-a174-70fdda15a4eb"
      },
      "execution_count": 28,
      "outputs": [
        {
          "output_type": "stream",
          "name": "stdout",
          "text": [
            "Looking in indexes: https://pypi.org/simple, https://us-python.pkg.dev/colab-wheels/public/simple/\n",
            "Requirement already satisfied: tabulate in /usr/local/lib/python3.10/dist-packages (0.8.10)\n"
          ]
        }
      ]
    },
    {
      "cell_type": "code",
      "source": [
        "import requests\n",
        "from tabulate import tabulate\n",
        "\n",
        "url1 = 'https://apis.data.go.kr/1611000/ApHusEnergyUseInfoOfferService/getWntyAvrgEnergyUseAmountInfoSearch'\n",
        "url2 = 'https://apis.data.go.kr/1611000/ApHusEnergyUseInfoOfferService/getWntyAvrgEnergyUseAmountInfoSearch'\n",
        "\n",
        "params1 = {\n",
        "    'serviceKey': 'SWO5f5Wa5OO0aZQ56UgdzDfPcx4qWeMjM/57Fackoa5xE4WmOPOYIaQ+dOMWPAVNLy+zIY504rn8nP59y+s1rw==',\n",
        "    'searchDate': '201508'\n",
        "}\n",
        "\n",
        "params2 = {\n",
        "    'serviceKey': 'SWO5f5Wa5OO0aZQ56UgdzDfPcx4qWeMjM/57Fackoa5xE4WmOPOYIaQ+dOMWPAVNLy+zIY504rn8nP59y+s1rw==',\n",
        "    'searchDate': '201608'\n",
        "}\n",
        "\n",
        "response1 = requests.get(url1, params=params1)\n",
        "response2 = requests.get(url2, params=params2)\n",
        "\n",
        "content1 = response1.text\n",
        "content2 = response2.text\n",
        "\n",
        "table1 = [['Response 1'], [content1]]\n",
        "table2 = [['Response 2'], [content2]]\n",
        "\n",
        "print(tabulate(table1, headers=\"firstrow\", tablefmt=\"grid\", colalign=(\"left\",)))\n",
        "print(tabulate(table2, headers=\"firstrow\", tablefmt=\"grid\", colalign=(\"left\",)))\n"
      ],
      "metadata": {
        "colab": {
          "base_uri": "https://localhost:8080/"
        },
        "id": "QhmjIr4mP120",
        "outputId": "5221c1c6-3ca1-4ba1-f490-4f10278204dc"
      },
      "execution_count": 29,
      "outputs": [
        {
          "output_type": "stream",
          "name": "stdout",
          "text": [
            "+----------------------------------------------------------------------------------------------------------------------------------------------------------------------------------------------------------------------------------------------------------------------------------------+\n",
            "| Response 1                                                                                                                                                                                                                                                                             |\n",
            "+========================================================================================================================================================================================================================================================================================+\n",
            "| <?xml version=\"1.0\" encoding=\"UTF-8\" standalone=\"yes\"?><response><header><resultCode>00</resultCode><resultMsg>NORMAL SERVICE.</resultMsg></header><body><item><elect>755</elect><gas>1</gas><heat>22</heat><waterCool>211</waterCool><waterHot>40</waterHot></item></body></response> |\n",
            "+----------------------------------------------------------------------------------------------------------------------------------------------------------------------------------------------------------------------------------------------------------------------------------------+\n",
            "+----------------------------------------------------------------------------------------------------------------------------------------------------------------------------------------------------------------------------------------------------------------------------------------+\n",
            "| Response 2                                                                                                                                                                                                                                                                             |\n",
            "+========================================================================================================================================================================================================================================================================================+\n",
            "| <?xml version=\"1.0\" encoding=\"UTF-8\" standalone=\"yes\"?><response><header><resultCode>00</resultCode><resultMsg>NORMAL SERVICE.</resultMsg></header><body><item><elect>920</elect><gas>1</gas><heat>20</heat><waterCool>225</waterCool><waterHot>30</waterHot></item></body></response> |\n",
            "+----------------------------------------------------------------------------------------------------------------------------------------------------------------------------------------------------------------------------------------------------------------------------------------+\n"
          ]
        }
      ]
    },
    {
      "cell_type": "code",
      "source": [
        "import requests\n",
        "import xml.etree.ElementTree as ET\n",
        "from tabulate import tabulate\n",
        "\n",
        "\n",
        "url1 = 'https://apis.data.go.kr/1611000/ApHusEnergyUseInfoOfferService/getWntyAvrgEnergyUseAmountInfoSearch'\n",
        "url2 = 'https://apis.data.go.kr/1611000/ApHusEnergyUseInfoOfferService/getWntyAvrgEnergyUseAmountInfoSearch'\n",
        "\n",
        "\n",
        "params1 = {\n",
        "    'serviceKey': 'SWO5f5Wa5OO0aZQ56UgdzDfPcx4qWeMjM/57Fackoa5xE4WmOPOYIaQ+dOMWPAVNLy+zIY504rn8nP59y+s1rw==',\n",
        "    'searchDate': '201508'\n",
        "}\n",
        "\n",
        "params2 = {\n",
        "    'serviceKey': 'SWO5f5Wa5OO0aZQ56UgdzDfPcx4qWeMjM/57Fackoa5xE4WmOPOYIaQ+dOMWPAVNLy+zIY504rn8nP59y+s1rw==',\n",
        "    'searchDate': '201608'\n",
        "}\n",
        "\n",
        "response1 = requests.get(url1, params=params1)\n",
        "response2 = requests.get(url2, params=params2)\n",
        "\n",
        "root1 = ET.fromstring(response1.content)\n",
        "root2 = ET.fromstring(response2.content)\n",
        "\n",
        "elect1 = root1.find('.//elect').text\n",
        "gas1 = root1.find('.//gas').text\n",
        "heat1 = root1.find('.//heat').text\n",
        "waterCool1 = root1.find('.//waterCool').text\n",
        "waterHot1 = root1.find('.//waterHot').text\n",
        "\n",
        "elect2 = root2.find('.//elect').text\n",
        "gas2 = root2.find('.//gas').text\n",
        "heat2 = root2.find('.//heat').text\n",
        "waterCool2 = root2.find('.//waterCool').text\n",
        "waterHot2 = root2.find('.//waterHot').text\n",
        "\n",
        "table1 = [['Electricity', 'Gas', 'Heat', 'Water Cooling', 'Water Heating'], [elect1, gas1, heat1, waterCool1, waterHot1]]\n",
        "table2 = [['Electricity', 'Gas', 'Heat', 'Water Cooling', 'Water Heating'], [elect2, gas2, heat2, waterCool2, waterHot2]]\n",
        "\n",
        "print(tabulate(table1, headers=\"firstrow\", tablefmt=\"grid\"))\n",
        "print(tabulate(table2, headers=\"firstrow\", tablefmt=\"grid\"))\n"
      ],
      "metadata": {
        "colab": {
          "base_uri": "https://localhost:8080/"
        },
        "id": "N1jIaYjqRdcq",
        "outputId": "5f06d257-4001-42bc-ff20-b9beff01cc71"
      },
      "execution_count": 30,
      "outputs": [
        {
          "output_type": "stream",
          "name": "stdout",
          "text": [
            "+---------------+-------+--------+-----------------+-----------------+\n",
            "|   Electricity |   Gas |   Heat |   Water Cooling |   Water Heating |\n",
            "+===============+=======+========+=================+=================+\n",
            "|           755 |     1 |     22 |             211 |              40 |\n",
            "+---------------+-------+--------+-----------------+-----------------+\n",
            "+---------------+-------+--------+-----------------+-----------------+\n",
            "|   Electricity |   Gas |   Heat |   Water Cooling |   Water Heating |\n",
            "+===============+=======+========+=================+=================+\n",
            "|           920 |     1 |     20 |             225 |              30 |\n",
            "+---------------+-------+--------+-----------------+-----------------+\n"
          ]
        }
      ]
    },
    {
      "cell_type": "code",
      "source": [
        "# 데이터를 숫자형 데이터로 변환\n",
        "numeric_columns = ['elect', 'gas', 'heat', 'waterCool', 'waterHot']\n",
        "df[numeric_columns] = df[numeric_columns].apply(pd.to_numeric)\n",
        "\n",
        "\n",
        "print(df.head())\n"
      ],
      "metadata": {
        "colab": {
          "base_uri": "https://localhost:8080/"
        },
        "id": "zWeVbIBp2_Jx",
        "outputId": "17ad54ca-4d7c-423d-b38a-a7750a3c0f27"
      },
      "execution_count": 5,
      "outputs": [
        {
          "output_type": "stream",
          "name": "stdout",
          "text": [
            "   elect  gas  heat  waterCool  waterHot\n",
            "0    920    1    20        225        30\n"
          ]
        }
      ]
    },
    {
      "cell_type": "code",
      "source": [
        "import requests\n",
        "import xml.etree.ElementTree as ET\n",
        "import matplotlib.pyplot as plt\n",
        "\n",
        "url1 = 'https://apis.data.go.kr/1611000/ApHusEnergyUseInfoOfferService/getWntyAvrgEnergyUseAmountInfoSearch'\n",
        "url2 = 'https://apis.data.go.kr/1611000/ApHusEnergyUseInfoOfferService/getWntyAvrgEnergyUseAmountInfoSearch'\n",
        "\n",
        "params1 = {\n",
        "    'serviceKey': 'SWO5f5Wa5OO0aZQ56UgdzDfPcx4qWeMjM/57Fackoa5xE4WmOPOYIaQ+dOMWPAVNLy+zIY504rn8nP59y+s1rw==',\n",
        "    'searchDate': '201508'\n",
        "}\n",
        "\n",
        "params2 = {\n",
        "    'serviceKey': 'SWO5f5Wa5OO0aZQ56UgdzDfPcx4qWeMjM/57Fackoa5xE4WmOPOYIaQ+dOMWPAVNLy+zIY504rn8nP59y+s1rw==',\n",
        "    'searchDate': '201608'\n",
        "}\n",
        "\n",
        "response1 = requests.get(url1, params=params1)\n",
        "response2 = requests.get(url2, params=params2)\n",
        "\n",
        "root1 = ET.fromstring(response1.content)\n",
        "root2 = ET.fromstring(response2.content)\n",
        "\n",
        "elect1 = int(root1.find('.//elect').text)\n",
        "gas1 = int(root1.find('.//gas').text)\n",
        "heat1 = int(root1.find('.//heat').text)\n",
        "waterCool1 = int(root1.find('.//waterCool').text)\n",
        "waterHot1 = int(root1.find('.//waterHot').text)\n",
        "\n",
        "elect2 = int(root2.find('.//elect').text)\n",
        "gas2 = int(root2.find('.//gas').text)\n",
        "heat2 = int(root2.find('.//heat').text)\n",
        "waterCool2 = int(root2.find('.//waterCool').text)\n",
        "waterHot2 = int(root2.find('.//waterHot').text)\n",
        "\n",
        "categories = ['Electricity', 'Gas', 'Heat', 'Water Cooling', 'Water Heating']\n",
        "data1 = [elect1, gas1, heat1, waterCool1, waterHot1]\n",
        "data2 = [elect2, gas2, heat2, waterCool2, waterHot2]\n",
        "\n",
        "plt.figure(figsize=(10, 6))\n",
        "plt.bar(categories, data1, label='201508')\n",
        "plt.bar(categories, data2, label='201608', alpha=0.7)\n",
        "plt.xlabel('Categories')\n",
        "plt.ylabel('Amount')\n",
        "plt.title('Comparison of Energy Use')\n",
        "plt.legend()\n",
        "plt.show()\n"
      ],
      "metadata": {
        "colab": {
          "base_uri": "https://localhost:8080/",
          "height": 564
        },
        "id": "lHiSuO7FR6Xf",
        "outputId": "75811c28-e67c-4a69-eaa4-fbec6bc4f017"
      },
      "execution_count": 32,
      "outputs": [
        {
          "output_type": "display_data",
          "data": {
            "text/plain": [
              "<Figure size 1000x600 with 1 Axes>"
            ],
            "image/png": "[encoded data removed]"
          },
          "metadata": {}
        }
      ]
    }
  ]
}